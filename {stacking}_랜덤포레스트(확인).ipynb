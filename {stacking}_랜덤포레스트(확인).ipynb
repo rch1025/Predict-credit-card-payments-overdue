{
 "cells": [
  {
   "cell_type": "code",
   "execution_count": 14,
   "id": "stylish-disclaimer",
   "metadata": {},
   "outputs": [],
   "source": [
    "import pandas as pd\n",
    "import numpy as np\n",
    "from collections import Counter\n",
    "import matplotlib.pyplot as plt\n",
    "import seaborn as sns\n",
    "plt.style.use('ggplot')\n",
    "\n",
    "from sklearn import metrics\n",
    "from sklearn.metrics import confusion_matrix\n",
    "from sklearn.metrics import accuracy_score\n",
    "from sklearn.metrics import precision_score\n",
    "from sklearn.metrics import log_loss\n",
    "from sklearn.preprocessing import LabelEncoder\n",
    "\n",
    "from sklearn.ensemble import RandomForestClassifier\n",
    "from sklearn.model_selection import StratifiedKFold\n",
    "from sklearn.model_selection import train_test_split\n",
    "\n",
    "import warnings\n",
    "warnings.filterwarnings(action = 'ignore')"
   ]
  },
  {
   "cell_type": "code",
   "execution_count": 15,
   "id": "oriented-watch",
   "metadata": {},
   "outputs": [],
   "source": [
    "## 데이터 불러오기\n",
    "trn = pd.read_csv('data/train.csv')\n",
    "tst = pd.read_csv('data/test.csv')"
   ]
  },
  {
   "cell_type": "code",
   "execution_count": 16,
   "id": "thick-margin",
   "metadata": {},
   "outputs": [],
   "source": [
    "## 365 변환\n",
    "def days_to_plus(x):\n",
    "    return (x*-1)/365\n",
    "\n",
    "## 업무 시작일 변환\n",
    "def plus(x):\n",
    "    if x<0:\n",
    "        return x*(-1)\n",
    "    else:\n",
    "        return 0\n",
    "\n",
    "## 나이 양수로 변환\n",
    "trn['birth_plus'] = trn.DAYS_BIRTH.map(days_to_plus)\n",
    "tst['birth_plus'] = tst.DAYS_BIRTH.map(days_to_plus)\n",
    "    \n",
    "## 업무시작일 양수로 변환\n",
    "trn['employed_plus'] = trn.DAYS_EMPLOYED.map(days_to_plus)\n",
    "tst['employed_plus'] = tst.DAYS_EMPLOYED.map(days_to_plus)"
   ]
  },
  {
   "cell_type": "code",
   "execution_count": 17,
   "id": "prostate-deficit",
   "metadata": {},
   "outputs": [
    {
     "name": "stdout",
     "output_type": "stream",
     "text": [
      "21 8 13\n"
     ]
    }
   ],
   "source": [
    "index_col = 'index'\n",
    "target_col = 'credit'\n",
    "\n",
    "cat_cols = [x for x in trn.columns if trn[x].dtype == 'object']\n",
    "float_cols = [x for x in trn.columns.drop('credit') if trn[x].dtype == 'float64']\n",
    "num_cols = [x for x in trn.columns if x not in cat_cols + [target_col]]\n",
    "feature_cols = num_cols + cat_cols\n",
    "print(len(feature_cols), len(cat_cols), len(num_cols))"
   ]
  },
  {
   "cell_type": "code",
   "execution_count": 18,
   "id": "arranged-corpus",
   "metadata": {},
   "outputs": [],
   "source": [
    "from sklearn.preprocessing import LabelEncoder\n",
    "\n",
    "lbe = LabelEncoder()\n",
    "for i in cat_cols:\n",
    "    trn[i] = lbe.fit_transform(trn[i].astype(str))\n",
    "    tst[i] = lbe.transform(tst[i].astype(str))\n",
    "    \n",
    "for i in float_cols:\n",
    "    trn[i] = trn[i].astype('int')\n",
    "    tst[i] = tst[i].astype('int')"
   ]
  },
  {
   "cell_type": "code",
   "execution_count": 19,
   "id": "split-cassette",
   "metadata": {},
   "outputs": [],
   "source": [
    "## 인덱스 설정\n",
    "trn.set_index('index', inplace = True)\n",
    "tst.set_index('index', inplace = True)"
   ]
  },
  {
   "cell_type": "code",
   "execution_count": 20,
   "id": "sorted-aviation",
   "metadata": {},
   "outputs": [],
   "source": [
    "trn.credit = trn.credit.astype('category')"
   ]
  },
  {
   "cell_type": "code",
   "execution_count": 21,
   "id": "orange-moral",
   "metadata": {},
   "outputs": [],
   "source": [
    "trn6 = trn.drop(['family_size', 'employed_plus'], axis = 1).copy()"
   ]
  },
  {
   "cell_type": "code",
   "execution_count": 22,
   "id": "wound-productivity",
   "metadata": {},
   "outputs": [],
   "source": [
    "## 연봉 제곱 변수 제거\n",
    "trn6['income_total_2'] = trn6.income_total**2\n",
    "tst['income_total_2'] = tst.income_total**2\n",
    "\n",
    "## DAYS_BIRTH 제곱 변수 추가\n",
    "trn6['DAYS_BIRTH**2'] = trn6.DAYS_BIRTH**2\n",
    "tst['DAYS_BIRTH**2'] = tst.DAYS_BIRTH**2\n",
    "\n",
    "## income * days_birth\n",
    "trn6['income_age'] = trn6.income_total*trn6.DAYS_BIRTH\n",
    "tst['income_age'] = tst.income_total*tst.DAYS_BIRTH\n",
    "\n",
    "## income * DAYS_EMPLOYED\n",
    "trn6['income_emp'] = trn6.income_total*trn6.DAYS_EMPLOYED\n",
    "tst['income_emp'] = tst.income_total*tst.DAYS_EMPLOYED"
   ]
  },
  {
   "cell_type": "code",
   "execution_count": 23,
   "id": "appointed-lafayette",
   "metadata": {},
   "outputs": [
    {
     "name": "stdout",
     "output_type": "stream",
     "text": [
      "(26457, 23)\n"
     ]
    }
   ],
   "source": [
    "print(trn6.shape)"
   ]
  },
  {
   "cell_type": "code",
   "execution_count": 24,
   "id": "included-destruction",
   "metadata": {},
   "outputs": [
    {
     "data": {
      "text/plain": [
       "Index(['gender', 'car', 'reality', 'child_num', 'income_total', 'income_type',\n",
       "       'edu_type', 'family_type', 'house_type', 'DAYS_BIRTH', 'DAYS_EMPLOYED',\n",
       "       'FLAG_MOBIL', 'work_phone', 'phone', 'email', 'occyp_type',\n",
       "       'begin_month', 'credit', 'birth_plus', 'income_total_2',\n",
       "       'DAYS_BIRTH**2', 'income_age', 'income_emp'],\n",
       "      dtype='object')"
      ]
     },
     "execution_count": 24,
     "metadata": {},
     "output_type": "execute_result"
    }
   ],
   "source": [
    "trn6.columns"
   ]
  },
  {
   "cell_type": "code",
   "execution_count": 25,
   "id": "compressed-somalia",
   "metadata": {},
   "outputs": [],
   "source": [
    "## 조합 8차시도 : \n",
    "# trn6.income_total = np.log1p(trn6.income_total)\n",
    "trn6['DAYS_BIRTH**2'] = np.log1p(trn6['DAYS_BIRTH**2'])\n",
    "trn6.income_total_2 = trn6.income_total_2**2\n",
    "trn6.income_emp = trn6.income_emp**2\n",
    "trn6.income_age = trn6.income_age**3\n",
    "\n",
    "\n",
    "# tst.income_total = np.log1p(tst.income_total)\n",
    "tst['DAYS_BIRTH**2'] = np.log1p(tst['DAYS_BIRTH**2'])\n",
    "tst.income_total_2 = tst.income_total_2**2\n",
    "tst.income_emp = tst.income_emp**2\n",
    "tst.income_age = tst.income_age**3"
   ]
  },
  {
   "cell_type": "code",
   "execution_count": 26,
   "id": "identified-crystal",
   "metadata": {},
   "outputs": [],
   "source": [
    "trn6.income_total = trn6.income_total.astype(int)\n",
    "trn6['DAYS_BIRTH**2'] = trn6['DAYS_BIRTH**2'].astype(int)\n",
    "\n",
    "tst.income_total = tst.income_total.astype(int)\n",
    "tst['DAYS_BIRTH**2'] = tst['DAYS_BIRTH**2'].astype(int)"
   ]
  },
  {
   "cell_type": "markdown",
   "id": "presidential-issue",
   "metadata": {},
   "source": [
    "# Grid"
   ]
  },
  {
   "cell_type": "code",
   "execution_count": 40,
   "id": "silent-notice",
   "metadata": {},
   "outputs": [],
   "source": [
    "from sklearn.model_selection import train_test_split\n",
    "from sklearn.model_selection import GridSearchCV"
   ]
  },
  {
   "cell_type": "code",
   "execution_count": 49,
   "id": "forbidden-society",
   "metadata": {},
   "outputs": [],
   "source": [
    "# 그리드\n",
    "def algorithm_pipeline(X_train_data, X_test_data, y_train_data, y_test_data, \n",
    "                       model, param_grid, cv=8, scoring_fit='accuracy',\n",
    "                       do_probabilities = False):\n",
    "    gs = GridSearchCV(\n",
    "        estimator=model,\n",
    "        param_grid=param_grid, \n",
    "        cv=cv, \n",
    "        n_jobs=-1, \n",
    "        scoring=scoring_fit,\n",
    "        verbose=2\n",
    "    )\n",
    "    fitted_model = gs.fit(X_train_data, y_train_data)\n",
    "    \n",
    "    if do_probabilities:\n",
    "        pred = fitted_model.predict_proba(X_test_data)\n",
    "    else:\n",
    "        pred = fitted_model.predict(X_test_data)\n",
    "    \n",
    "    return fitted_model, pred"
   ]
  },
  {
   "cell_type": "code",
   "execution_count": 50,
   "id": "skilled-inflation",
   "metadata": {},
   "outputs": [
    {
     "name": "stdout",
     "output_type": "stream",
     "text": [
      "Fitting 5 folds for each of 84 candidates, totalling 420 fits\n",
      "0.722155017921147\n",
      "{'max_depth': 31, 'max_features': 4, 'min_samples_split': 8, 'n_estimators': 7000, 'random_state': 40}\n"
     ]
    }
   ],
   "source": [
    "ftr=trn6.drop(\"credit\",axis=1)\n",
    "target=trn6['credit']\n",
    "\n",
    "\n",
    "# 데이터 분할\n",
    "X_train,X_val,y_train,y_val=train_test_split(ftr,target,test_size=0.25,random_state=40)\n",
    "\n",
    "\n",
    "# 모델 객체 생성\n",
    "model = RandomForestClassifier()\n",
    "\n",
    "\n",
    "paramgrid = {'n_estimators' : [7000],\n",
    "            'min_samples_split' : [8,9,10],\n",
    "             'max_depth' : [24,25,26,27,31,32,33],\n",
    "             'max_features' : [3,4],\n",
    "             'random_state' : [40, 2021]\n",
    "            }\n",
    "\n",
    "\n",
    "model, pred = algorithm_pipeline(X_train, X_val, y_train, y_val, model, \n",
    "                                 paramgrid, cv=5, scoring_fit='accuracy')\n",
    "\n",
    "\n",
    "print(model.best_score_)\n",
    "print(model.best_params_)"
   ]
  },
  {
   "cell_type": "markdown",
   "id": "vital-pendant",
   "metadata": {},
   "source": [
    "# RF-Stacking"
   ]
  },
  {
   "cell_type": "code",
   "execution_count": 27,
   "id": "complex-british",
   "metadata": {},
   "outputs": [
    {
     "name": "stdout",
     "output_type": "stream",
     "text": [
      "(26457, 22)\n",
      "(10000, 22)\n",
      "training model for CV #1\n",
      "training model for CV #2\n",
      "training model for CV #3\n",
      "training model for CV #4\n",
      "training model for CV #5\n",
      "training model for CV #6\n",
      "training model for CV #7\n",
      "training model for CV #8\n",
      "training model for CV #9\n",
      "training model for CV #10\n",
      "0.6856012218673924\n",
      "[[  650   506  2066]\n",
      " [  128  2866  3273]\n",
      " [  305   768 15895]]%\n"
     ]
    }
   ],
   "source": [
    "### 이 기록은 라벨인코딩을 따로 지정하지 않고 한번에 돌린 데이터\n",
    "### trn6은 trn6 = trn.drop(['family_size', 'employed_plus'], axis = 1).copy()이다.\n",
    "### 총 18개의 변수를 사용한 것 -> 최고기록\n",
    "\n",
    "## predict_rf\n",
    "ftr = trn6.drop('credit', axis=1).values\n",
    "target = trn['credit'].values\n",
    "tst_ar = tst.drop(['family_size', 'employed_plus'], axis = 1).values\n",
    "n_class = 3\n",
    "n_fold = 10\n",
    "\n",
    "print(ftr.shape)\n",
    "print(tst_ar.shape)\n",
    "\n",
    "\n",
    "cv = StratifiedKFold(n_splits=n_fold, shuffle=True, random_state=40)\n",
    "\n",
    "rf_p_val = np.zeros((ftr.shape[0], n_class))\n",
    "rf_p_tst = np.zeros((tst_ar.shape[0], n_class))\n",
    "for i, (i_trn, i_val) in enumerate(cv.split(ftr, target), 1):\n",
    "    print(f'training model for CV #{i}')\n",
    "    rf_clf = RandomForestClassifier(n_estimators = 7000, \n",
    "                                random_state=2021,\n",
    "                                max_features = 3,\n",
    "                                max_depth = 28,\n",
    "                                min_samples_split = 8,\n",
    "                                n_jobs=4)\n",
    "    \n",
    "    rf_clf.fit(ftr[i_trn], target[i_trn])\n",
    "    rf_p_val[i_val, :] = rf_clf.predict_proba(ftr[i_val])\n",
    "    rf_p_tst += rf_clf.predict_proba(tst_ar) / n_fold\n",
    "    \n",
    "print(f'{log_loss(target, rf_p_val)}')\n",
    "print(f'{confusion_matrix(target, np.argmax(rf_p_val, axis=1))}%')"
   ]
  },
  {
   "cell_type": "code",
   "execution_count": 28,
   "id": "coordinate-climb",
   "metadata": {},
   "outputs": [
    {
     "data": {
      "text/plain": [
       "array([[0.11123611, 0.17302951, 0.71573438],\n",
       "       [0.59140044, 0.07963212, 0.32896744],\n",
       "       [0.02957004, 0.2397777 , 0.73065226],\n",
       "       ...,\n",
       "       [0.11610306, 0.22517792, 0.65871902],\n",
       "       [0.10390827, 0.21615163, 0.6799401 ],\n",
       "       [0.10202309, 0.2073711 , 0.6906058 ]])"
      ]
     },
     "execution_count": 28,
     "metadata": {},
     "output_type": "execute_result"
    }
   ],
   "source": [
    "rf_p_val"
   ]
  },
  {
   "cell_type": "code",
   "execution_count": 60,
   "id": "continental-investor",
   "metadata": {},
   "outputs": [],
   "source": [
    "from pathlib import Path\n",
    "tst_dir = Path('C:/Users/Roh Seung Chan/Desktop/공모전/신용카드 예측 공모전/data/tst')\n",
    "val_dir = Path('C:/Users/Roh Seung Chan/Desktop/공모전/신용카드 예측 공모전/data/val')\n",
    "\n",
    "algo_name = 'rf'\n",
    "feature_name = '2021'\n",
    "model_name = f'{algo_name}_{feature_name}'\n",
    "\n",
    "p_val_file = val_dir / f'{model_name}.val.csv'\n",
    "p_tst_file = tst_dir / f'{model_name}.tst.csv'\n",
    "\n",
    "np.savetxt(p_val_file, rf_p_val, fmt='%.6f', delimiter=',')\n",
    "np.savetxt(p_tst_file, rf_p_tst, fmt='%.6f', delimiter=',')"
   ]
  },
  {
   "cell_type": "code",
   "execution_count": 56,
   "id": "toxic-terrain",
   "metadata": {},
   "outputs": [],
   "source": [
    "sub = pd.read_csv('data/sample_submission.csv', index_col = 0)\n",
    "sub\n",
    "sub[sub.columns] = rf_p_tst"
   ]
  },
  {
   "cell_type": "code",
   "execution_count": 57,
   "id": "disabled-nothing",
   "metadata": {},
   "outputs": [],
   "source": [
    "sub.to_csv('data/rf_17.csv')"
   ]
  },
  {
   "cell_type": "markdown",
   "id": "structural-maintenance",
   "metadata": {},
   "source": [
    "1. trn6.income_age**(3) 으로 했을 때가 0.6866962841415036\n",
    "2. trn6.income_age**13 으로 했을 때가 0.6873255407581582\n",
    "*정규분포 형태와 아닌 형태로 대칭인 것만 같고 조금 다름*\n",
    "=> 직사각형이 더 좋음\n",
    "3. trn6.income_age 변환 안 함 : 0.6884951810307259\n",
    "4. tst.income_emp 변환 안 함 :0.6874159266024837\n",
    "5. tst.income_emp 5제곱으로 직사각형으로 만듦 : 0.6865284163441506\n",
    "6. trn6.income_total_2**3 으로 제곱을 3으로 변환 : 0.6861786811010409 -> 2제곱이 더 좋음"
   ]
  },
  {
   "cell_type": "code",
   "execution_count": null,
   "id": "super-vegetation",
   "metadata": {},
   "outputs": [],
   "source": [
    "## 최고기록 파라미터\n",
    "rf_clf = RandomForestClassifier(n_estimators = 7000, \n",
    "                                random_state=2021,\n",
    "                                max_features = 3,\n",
    "                                max_depth = 28,\n",
    "                                min_samples_split = 8,\n",
    "                                n_jobs=-1)"
   ]
  }
 ],
 "metadata": {
  "kernelspec": {
   "display_name": "Python 3",
   "language": "python",
   "name": "python3"
  },
  "language_info": {
   "codemirror_mode": {
    "name": "ipython",
    "version": 3
   },
   "file_extension": ".py",
   "mimetype": "text/x-python",
   "name": "python",
   "nbconvert_exporter": "python",
   "pygments_lexer": "ipython3",
   "version": "3.7.10"
  }
 },
 "nbformat": 4,
 "nbformat_minor": 5
}
