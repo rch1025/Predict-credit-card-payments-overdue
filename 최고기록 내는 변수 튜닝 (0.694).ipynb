{
 "cells": [
  {
   "cell_type": "markdown",
   "id": "structured-salem",
   "metadata": {},
   "source": [
    "- 5/12일 기준 최고기록은 라벨인코딩을 한번에 해준 것"
   ]
  },
  {
   "cell_type": "code",
   "execution_count": 38,
   "id": "sweet-summary",
   "metadata": {},
   "outputs": [],
   "source": [
    "import pandas as pd\n",
    "import numpy as np\n",
    "from collections import Counter\n",
    "import matplotlib.pyplot as plt\n",
    "import seaborn as sns\n",
    "plt.style.use('ggplot')\n",
    "\n",
    "from sklearn import metrics\n",
    "from sklearn.metrics import confusion_matrix\n",
    "from sklearn.metrics import accuracy_score\n",
    "from sklearn.metrics import precision_score\n",
    "from sklearn.metrics import log_loss\n",
    "from sklearn.preprocessing import LabelEncoder\n",
    "\n",
    "import lightgbm as lgb\n",
    "from lightgbm import LGBMClassifier\n",
    "from sklearn.ensemble import RandomForestClassifier\n",
    "from sklearn.model_selection import StratifiedKFold\n",
    "from sklearn.model_selection import train_test_split\n",
    "\n",
    "import warnings\n",
    "warnings.filterwarnings(action = 'ignore')"
   ]
  },
  {
   "cell_type": "code",
   "execution_count": 52,
   "id": "accomplished-jersey",
   "metadata": {},
   "outputs": [],
   "source": [
    "## 데이터 불러오기\n",
    "trn = pd.read_csv('data/train.csv')\n",
    "tst = pd.read_csv('data/test.csv')"
   ]
  },
  {
   "cell_type": "code",
   "execution_count": 53,
   "id": "lesbian-wednesday",
   "metadata": {},
   "outputs": [],
   "source": [
    "## 365 변환\n",
    "def days_to_plus(x):\n",
    "    return (x*-1)/365\n",
    "\n",
    "## 업무 시작일 변환\n",
    "def plus(x):\n",
    "    if x<0:\n",
    "        return x*(-1)\n",
    "    else:\n",
    "        return 0\n",
    "\n",
    "## 나이 양수로 변환\n",
    "trn['birth_plus'] = trn.DAYS_BIRTH.map(days_to_plus)\n",
    "tst['birth_plus'] = tst.DAYS_BIRTH.map(days_to_plus)\n",
    "    \n",
    "## 업무시작일 양수로 변환\n",
    "trn['employed_plus'] = trn.DAYS_EMPLOYED.map(days_to_plus)\n",
    "tst['employed_plus'] = tst.DAYS_EMPLOYED.map(days_to_plus)"
   ]
  },
  {
   "cell_type": "code",
   "execution_count": 26,
   "id": "medium-lending",
   "metadata": {},
   "outputs": [],
   "source": [
    "# ## incoome total 내림차순으로 정렬 및 인코딩\n",
    "# lbe = LabelEncoder()\n",
    "# lbe.fit(list(trn.groupby('edu_type')['income_total'].mean().sort_values(ascending = False).index))\n",
    "# trn.edu_type = lbe.transform(trn.edu_type)\n",
    "# tst.edu_type = lbe.transform(tst.edu_type)"
   ]
  },
  {
   "cell_type": "code",
   "execution_count": 27,
   "id": "informational-premium",
   "metadata": {},
   "outputs": [],
   "source": [
    "# ## incoome total 내림차순으로 정렬 및 인코딩\n",
    "# lbe = LabelEncoder()\n",
    "# lbe.fit(list(trn.groupby('house_type')['income_total'].mean().sort_values(ascending = False).index))\n",
    "# trn.house_type = lbe.transform(trn.house_type)\n",
    "# tst.house_type = lbe.transform(tst.house_type)"
   ]
  },
  {
   "cell_type": "code",
   "execution_count": 41,
   "id": "behind-bubble",
   "metadata": {},
   "outputs": [],
   "source": [
    "# ## occyp_type의 결측값들을 NONE이라는 범주로 만듦\n",
    "# trn['occyp_type'] = trn['occyp_type'].fillna('NONE').astype('object').values\n",
    "# tst['occyp_type'] = tst['occyp_type'].fillna('NONE').astype('object').values"
   ]
  },
  {
   "cell_type": "code",
   "execution_count": 29,
   "id": "analyzed-interview",
   "metadata": {},
   "outputs": [],
   "source": [
    "# ## incoome total 내림차순으로 정렬 및 인코딩\n",
    "# lbe = LabelEncoder()\n",
    "# lbe.fit(list(trn.groupby('occyp_type')['income_total'].mean().sort_values(ascending = False).index))\n",
    "# trn.occyp_type = lbe.transform(trn.occyp_type)\n",
    "# tst.occyp_type = lbe.transform(tst.occyp_type)"
   ]
  },
  {
   "cell_type": "code",
   "execution_count": 30,
   "id": "returning-mortality",
   "metadata": {},
   "outputs": [],
   "source": [
    "# ## incoome total 내림차순으로 정렬 및 인코딩\n",
    "# lbe = LabelEncoder()\n",
    "# lbe.fit(list(trn.groupby('income_type')['income_total'].mean().sort_values(ascending = False).index))\n",
    "# trn.income_type = lbe.transform(trn.income_type)\n",
    "# tst.income_type = lbe.transform(tst.income_type)"
   ]
  },
  {
   "cell_type": "code",
   "execution_count": 54,
   "id": "editorial-grounds",
   "metadata": {},
   "outputs": [
    {
     "name": "stdout",
     "output_type": "stream",
     "text": [
      "21 8 13\n"
     ]
    }
   ],
   "source": [
    "index_col = 'index'\n",
    "target_col = 'credit'\n",
    "\n",
    "cat_cols = [x for x in trn.columns if trn[x].dtype == 'object']\n",
    "float_cols = [x for x in trn.columns.drop('credit') if trn[x].dtype == 'float64']\n",
    "num_cols = [x for x in trn.columns if x not in cat_cols + [target_col]]\n",
    "feature_cols = num_cols + cat_cols\n",
    "print(len(feature_cols), len(cat_cols), len(num_cols))"
   ]
  },
  {
   "cell_type": "code",
   "execution_count": 55,
   "id": "helpful-matter",
   "metadata": {},
   "outputs": [],
   "source": [
    "from sklearn.preprocessing import LabelEncoder\n",
    "\n",
    "lbe = LabelEncoder()\n",
    "for i in cat_cols:\n",
    "    trn[i] = lbe.fit_transform(trn[i])\n",
    "    tst[i] = lbe.transform(tst[i])\n",
    "    \n",
    "for i in float_cols:\n",
    "    trn[i] = trn[i].astype('int')\n",
    "    tst[i] = tst[i].astype('int')"
   ]
  },
  {
   "cell_type": "code",
   "execution_count": 56,
   "id": "objective-sheriff",
   "metadata": {},
   "outputs": [],
   "source": [
    "## 인덱스 설정\n",
    "trn.set_index('index', inplace = True)\n",
    "tst.set_index('index', inplace = True)"
   ]
  },
  {
   "cell_type": "code",
   "execution_count": 57,
   "id": "choice-decline",
   "metadata": {},
   "outputs": [
    {
     "name": "stdout",
     "output_type": "stream",
     "text": [
      "<class 'pandas.core.frame.DataFrame'>\n",
      "Int64Index: 26457 entries, 0 to 26456\n",
      "Data columns (total 21 columns):\n",
      " #   Column         Non-Null Count  Dtype  \n",
      "---  ------         --------------  -----  \n",
      " 0   gender         26457 non-null  int32  \n",
      " 1   car            26457 non-null  int32  \n",
      " 2   reality        26457 non-null  int32  \n",
      " 3   child_num      26457 non-null  int64  \n",
      " 4   income_total   26457 non-null  int32  \n",
      " 5   income_type    26457 non-null  int32  \n",
      " 6   edu_type       26457 non-null  int32  \n",
      " 7   family_type    26457 non-null  int32  \n",
      " 8   house_type     26457 non-null  int32  \n",
      " 9   DAYS_BIRTH     26457 non-null  int64  \n",
      " 10  DAYS_EMPLOYED  26457 non-null  int64  \n",
      " 11  FLAG_MOBIL     26457 non-null  int64  \n",
      " 12  work_phone     26457 non-null  int64  \n",
      " 13  phone          26457 non-null  int64  \n",
      " 14  email          26457 non-null  int64  \n",
      " 15  occyp_type     26457 non-null  int32  \n",
      " 16  family_size    26457 non-null  int32  \n",
      " 17  begin_month    26457 non-null  int32  \n",
      " 18  credit         26457 non-null  float64\n",
      " 19  birth_plus     26457 non-null  int32  \n",
      " 20  employed_plus  26457 non-null  int32  \n",
      "dtypes: float64(1), int32(13), int64(7)\n",
      "memory usage: 3.1 MB\n"
     ]
    }
   ],
   "source": [
    "trn.info()"
   ]
  },
  {
   "cell_type": "code",
   "execution_count": 58,
   "id": "funded-contributor",
   "metadata": {},
   "outputs": [],
   "source": [
    "trn.credit = trn.credit.astype('category')"
   ]
  },
  {
   "cell_type": "code",
   "execution_count": 59,
   "id": "essential-wrong",
   "metadata": {},
   "outputs": [],
   "source": [
    "trn1 = trn.drop('family_size', axis = 1).copy()\n",
    "trn2 = trn.drop('child_num', axis = 1).copy()\n",
    "trn3 = trn.drop('birth_plus', axis = 1).copy()\n",
    "trn4 = trn.drop('employed_plus', axis = 1).copy()\n",
    "trn5 = trn.drop(['birth_plus', 'employed_plus'], axis = 1).copy()\n",
    "# 제일 좋음\n",
    "trn6 = trn.drop(['family_size', 'employed_plus'], axis = 1).copy()\n",
    "trn7 = trn.drop(['family_size', 'birth_plus', 'employed_plus'], axis = 1).copy()"
   ]
  },
  {
   "cell_type": "code",
   "execution_count": null,
   "id": "sitting-counter",
   "metadata": {},
   "outputs": [],
   "source": [
    "# train과 valid(test) 셋을 분리 \n",
    "x_train, x_valid, y_train, y_valid = train_test_split(trn6.drop('credit', axis=1), trn.credit, test_size=0.3, stratify=trn.credit, random_state=40)\n",
    "\n",
    "# RF 모델링 \n",
    "rf = RandomForestClassifier(n_estimators = 5000,\n",
    "                            max_features = 3,\n",
    "                            min_samples_split = 6,\n",
    "                            random_state = 2021,\n",
    "                            n_jobs = 10\n",
    "                           )\n",
    "rf.fit(x_train, y_train)\n",
    "rf_pred = rf.predict_proba(x_valid)\n",
    "log_loss(y_valid, rf_pred)"
   ]
  },
  {
   "cell_type": "code",
   "execution_count": null,
   "id": "optical-night",
   "metadata": {},
   "outputs": [],
   "source": [
    "### 이 기록은 라벨인코딩을 따로 지정하지 않고 한번에 돌린 데이터\n",
    "### trn6은 trn6 = trn.drop(['family_size', 'employed_plus'], axis = 1).copy()이다.\n",
    "### 총 18개의 변수를 사용한 것 -> 최고기록\n",
    "\n",
    "## predict_rf\n",
    "ftr = trn6.drop('credit', axis=1).values\n",
    "target = trn['credit'].values\n",
    "tst_ar = tst.drop(['family_size', 'employed_plus'], axis = 1).values\n",
    "n_class = 3\n",
    "n_fold = 5\n",
    "\n",
    "print(ftr.shape)\n",
    "print(tst_ar.shape)\n",
    "\n",
    "\n",
    "cv = StratifiedKFold(n_splits=5, shuffle=True, random_state=40)\n",
    "\n",
    "rf_p_val = np.zeros((ftr.shape[0], n_class))\n",
    "rf_p_tst = np.zeros((tst_ar.shape[0], n_class))\n",
    "for i, (i_trn, i_val) in enumerate(cv.split(ftr, target), 1):\n",
    "    print(f'training model for CV #{i}')\n",
    "    rf_clf = RandomForestClassifier(n_estimators = 5000, \n",
    "                                random_state=2021,\n",
    "                                max_features = 3,\n",
    "                                min_samples_split = 6,\n",
    "                                n_jobs=-1)\n",
    "    rf_clf.fit(ftr[i_trn], target[i_trn])\n",
    "    rf_p_val[i_val, :] = rf_clf.predict_proba(ftr[i_val])\n",
    "    rf_p_tst += rf_clf.predict_proba(tst_ar) / n_fold\n",
    "    \n",
    "print(f'{log_loss(target, rf_p_val)}')\n",
    "print(f'{confusion_matrix(target, np.argmax(rf_p_val, axis=1))}%')"
   ]
  },
  {
   "cell_type": "markdown",
   "id": "drawn-mandate",
   "metadata": {},
   "source": [
    "- 0.7181191299537627\n",
    ": 3fold\n",
    "[[  564   510  2148]\n",
    " [  137  2700  3430]\n",
    " [  337   865 15766]]%\n",
    "     rf_clf = RandomForestClassifier(n_estimators = 5000, \n",
    "                                random_state=2021,\n",
    "                                max_features = 3,\n",
    "                                min_samples_split = 6,\n",
    "                                n_jobs=6)\n",
    "                                \n",
    "- 0.7027768293407574\n",
    ": 5fold\n",
    "0.7027768293407574\n",
    "[[  656   527  2039]\n",
    " [  149  2864  3254]\n",
    " [  355   899 15714]]%\n",
    "     rf_clf = RandomForestClassifier(n_estimators = 5000, \n",
    "                                random_state=2021,\n",
    "                                max_features = 3,\n",
    "                                min_samples_split = 6,\n",
    "                                n_jobs=6)"
   ]
  },
  {
   "cell_type": "markdown",
   "id": "realistic-generation",
   "metadata": {},
   "source": [
    "## trn6에서 cv = 10으로 해보기\n",
    "- 벨리드 성능 먼저 확인 : 0.7029055255003107 보다 높아야 함\n",
    "- 0.694738615715623 나옴"
   ]
  },
  {
   "cell_type": "code",
   "execution_count": 60,
   "id": "confirmed-trainer",
   "metadata": {},
   "outputs": [
    {
     "name": "stdout",
     "output_type": "stream",
     "text": [
      "(26457, 18)\n",
      "(10000, 18)\n",
      "training model for CV #1\n",
      "training model for CV #2\n",
      "training model for CV #3\n",
      "training model for CV #4\n",
      "training model for CV #5\n",
      "training model for CV #6\n",
      "training model for CV #7\n",
      "training model for CV #8\n",
      "training model for CV #9\n",
      "training model for CV #10\n",
      "0.694738615715623\n",
      "[[  677   513  2032]\n",
      " [  153  2890  3224]\n",
      " [  368   867 15733]]%\n"
     ]
    }
   ],
   "source": [
    "### 이 기록은 라벨인코딩을 따로 지정하지 않고 한번에 돌린 데이터\n",
    "### trn6은 trn6 = trn.drop(['family_size', 'employed_plus'], axis = 1).copy()이다.\n",
    "### 총 18개의 변수를 사용한 것 -> 최고기록\n",
    "\n",
    "## predict_rf\n",
    "ftr = trn6.drop('credit', axis=1).values\n",
    "target = trn['credit'].values\n",
    "tst_ar = tst.drop(['family_size', 'employed_plus'], axis = 1).values\n",
    "n_class = 3\n",
    "n_fold = 10\n",
    "\n",
    "print(ftr.shape)\n",
    "print(tst_ar.shape)\n",
    "\n",
    "\n",
    "cv = StratifiedKFold(n_splits=n_fold, shuffle=True, random_state=40)\n",
    "\n",
    "rf_p_val = np.zeros((ftr.shape[0], n_class))\n",
    "rf_p_tst = np.zeros((tst_ar.shape[0], n_class))\n",
    "for i, (i_trn, i_val) in enumerate(cv.split(ftr, target), 1):\n",
    "    print(f'training model for CV #{i}')\n",
    "    rf_clf = RandomForestClassifier(n_estimators = 5000, \n",
    "                                random_state=2021,\n",
    "                                max_features = 3,\n",
    "                                min_samples_split = 6,\n",
    "                                n_jobs=1)\n",
    "    rf_clf.fit(ftr[i_trn], target[i_trn])\n",
    "    rf_p_val[i_val, :] = rf_clf.predict_proba(ftr[i_val])\n",
    "    rf_p_tst += rf_clf.predict_proba(tst_ar) / n_fold\n",
    "    \n",
    "print(f'{log_loss(target, rf_p_val)}')\n",
    "print(f'{confusion_matrix(target, np.argmax(rf_p_val, axis=1))}%')"
   ]
  },
  {
   "cell_type": "code",
   "execution_count": 61,
   "id": "guilty-atlantic",
   "metadata": {},
   "outputs": [],
   "source": [
    "sub = pd.read_csv('data/sample_submission.csv', index_col = 0)\n",
    "sub\n",
    "sub[sub.columns] = rf_p_tst"
   ]
  },
  {
   "cell_type": "code",
   "execution_count": 62,
   "id": "fallen-linux",
   "metadata": {},
   "outputs": [],
   "source": [
    "sub.to_csv('data/최고기록 CV=10.csv')"
   ]
  },
  {
   "cell_type": "markdown",
   "id": "coupled-confidentiality",
   "metadata": {},
   "source": [
    "## 연봉을 추가한 cv10"
   ]
  },
  {
   "cell_type": "code",
   "execution_count": 63,
   "id": "neither-developer",
   "metadata": {},
   "outputs": [],
   "source": [
    "trn6['income_total_2'] = trn6.income_total**2\n",
    "tst['income_total_2'] = tst.income_total**2"
   ]
  },
  {
   "cell_type": "code",
   "execution_count": 65,
   "id": "alert-syndication",
   "metadata": {},
   "outputs": [
    {
     "name": "stdout",
     "output_type": "stream",
     "text": [
      "(26457, 19)\n",
      "(10000, 19)\n",
      "training model for CV #1\n",
      "training model for CV #2\n",
      "training model for CV #3\n",
      "training model for CV #4\n",
      "training model for CV #5\n",
      "training model for CV #6\n",
      "training model for CV #7\n",
      "training model for CV #8\n",
      "training model for CV #9\n",
      "training model for CV #10\n",
      "0.6933945398659884\n",
      "[[  708   521  1993]\n",
      " [  156  2942  3169]\n",
      " [  386   901 15681]]%\n"
     ]
    }
   ],
   "source": [
    "### 이 기록은 라벨인코딩을 따로 지정하지 않고 한번에 돌린 데이터\n",
    "### trn6은 trn6 = trn.drop(['family_size', 'employed_plus'], axis = 1).copy()이다.\n",
    "### 총 18개의 변수를 사용한 것 -> 최고기록\n",
    "\n",
    "## predict_rf\n",
    "ftr = trn6.drop('credit', axis=1).values\n",
    "target = trn['credit'].values\n",
    "tst_ar = tst.drop(['family_size', 'employed_plus'], axis = 1).values\n",
    "n_class = 3\n",
    "n_fold = 10\n",
    "\n",
    "print(ftr.shape)\n",
    "print(tst_ar.shape)\n",
    "\n",
    "\n",
    "cv = StratifiedKFold(n_splits=n_fold, shuffle=True, random_state=40)\n",
    "\n",
    "rf_p_val = np.zeros((ftr.shape[0], n_class))\n",
    "rf_p_tst = np.zeros((tst_ar.shape[0], n_class))\n",
    "for i, (i_trn, i_val) in enumerate(cv.split(ftr, target), 1):\n",
    "    print(f'training model for CV #{i}')\n",
    "    rf_clf = RandomForestClassifier(n_estimators = 5000, \n",
    "                                random_state=2021,\n",
    "                                max_features = 3,\n",
    "                                min_samples_split = 6,\n",
    "                                n_jobs=6)\n",
    "    rf_clf.fit(ftr[i_trn], target[i_trn])\n",
    "    rf_p_val[i_val, :] = rf_clf.predict_proba(ftr[i_val])\n",
    "    rf_p_tst += rf_clf.predict_proba(tst_ar) / n_fold\n",
    "    \n",
    "print(f'{log_loss(target, rf_p_val)}')\n",
    "print(f'{confusion_matrix(target, np.argmax(rf_p_val, axis=1))}%')"
   ]
  },
  {
   "cell_type": "code",
   "execution_count": 69,
   "id": "elegant-belgium",
   "metadata": {},
   "outputs": [],
   "source": [
    "sub = pd.read_csv('data/sample_submission.csv', index_col = 0)\n",
    "sub\n",
    "sub[sub.columns] = rf_p_tst"
   ]
  },
  {
   "cell_type": "code",
   "execution_count": 70,
   "id": "compound-phone",
   "metadata": {},
   "outputs": [],
   "source": [
    "sub.to_csv('data/최고기록+연봉weight CV=10.csv')"
   ]
  },
  {
   "cell_type": "markdown",
   "id": "cooperative-portugal",
   "metadata": {},
   "source": [
    "-----"
   ]
  },
  {
   "cell_type": "markdown",
   "id": "curious-staff",
   "metadata": {},
   "source": [
    "## trn6 + 연봉 변수 제곱 추가 해보기\n",
    "- 벨리드 성능 확인 : 0.7029055255003107 보다 높아야 함\n",
    "- 처음에는 5폴드로 진행하기(R 베이스 라인과 파이썬의 차이에서 진행중) : \n",
    "- 이후 10폴드 진행 : \n"
   ]
  },
  {
   "cell_type": "code",
   "execution_count": null,
   "id": "involved-expert",
   "metadata": {},
   "outputs": [],
   "source": [
    "trn6['income_total_2'] = trn6.income_total**2\n",
    "tst['income_total_2'] = tst.income_total**2"
   ]
  },
  {
   "cell_type": "code",
   "execution_count": null,
   "id": "boring-fantasy",
   "metadata": {},
   "outputs": [],
   "source": [
    "### 이 기록은 라벨인코딩을 따로 지정하지 않고 한번에 돌린 데이터\n",
    "### trn6은 trn6 = trn.drop(['family_size', 'employed_plus'], axis = 1).copy()이다.\n",
    "### 총 18개의 변수를 사용한 것 -> 최고기록\n",
    "\n",
    "## predict_rf\n",
    "ftr = trn6.drop('credit', axis=1).values\n",
    "target = trn['credit'].values\n",
    "tst_ar = tst.drop(['family_size', 'employed_plus'], axis = 1).values\n",
    "n_class = 3\n",
    "n_fold = 5\n",
    "\n",
    "print(ftr.shape)\n",
    "print(tst_ar.shape)\n",
    "\n",
    "\n",
    "cv = StratifiedKFold(n_splits=n_fold, shuffle=True, random_state=40)\n",
    "\n",
    "rf_p_val = np.zeros((ftr.shape[0], n_class))\n",
    "rf_p_tst = np.zeros((tst_ar.shape[0], n_class))\n",
    "for i, (i_trn, i_val) in enumerate(cv.split(ftr, target), 1):\n",
    "    print(f'training model for CV #{i}')\n",
    "    rf_clf = RandomForestClassifier(n_estimators = 5000, \n",
    "                                random_state=2021,\n",
    "                                max_features = 3,\n",
    "                                min_samples_split = 6,\n",
    "                                n_jobs=-1)\n",
    "    rf_clf.fit(ftr[i_trn], target[i_trn])\n",
    "    rf_p_val[i_val, :] = rf_clf.predict_proba(ftr[i_val])\n",
    "    rf_p_tst += rf_clf.predict_proba(tst_ar) / n_fold\n",
    "    \n",
    "print(f'{log_loss(target, rf_p_val)}')\n",
    "print(f'{confusion_matrix(target, np.argmax(rf_p_val, axis=1))}%')"
   ]
  },
  {
   "cell_type": "markdown",
   "id": "precious-nudist",
   "metadata": {},
   "source": [
    "------"
   ]
  },
  {
   "cell_type": "markdown",
   "id": "fundamental-alfred",
   "metadata": {},
   "source": [
    "## Extra Tree 확인\n",
    "- trn6를 extra tree에 넣어서 확인\n",
    "- 그리드 서치를 통해 찾은 파라미터를 사용"
   ]
  },
  {
   "cell_type": "code",
   "execution_count": null,
   "id": "owned-roommate",
   "metadata": {},
   "outputs": [],
   "source": [
    "from sklearn.model_selection import GridSearchCV\n",
    "from sklearn.model_selection import StratifiedKFold"
   ]
  },
  {
   "cell_type": "code",
   "execution_count": null,
   "id": "known-vietnamese",
   "metadata": {},
   "outputs": [],
   "source": [
    "param_grid = {\n",
    "    'n_estimators': [1000, 2000, 3000, 4000],\n",
    "    'max_features': [3, 4, 5, 6, 7, 8, 9],\n",
    "    'min_samples_split': [4,5,6,7,8,9,10],\n",
    "    'random_state' : [2021]\n",
    "}"
   ]
  },
  {
   "cell_type": "code",
   "execution_count": null,
   "id": "friendly-professional",
   "metadata": {},
   "outputs": [],
   "source": [
    "estimator = ExtraTreesClassifier()"
   ]
  },
  {
   "cell_type": "code",
   "execution_count": null,
   "id": "outstanding-mouth",
   "metadata": {},
   "outputs": [],
   "source": [
    "kf = StratifiedKFold(n_splits=5, shuffle=True, random_state=40)"
   ]
  },
  {
   "cell_type": "code",
   "execution_count": null,
   "id": "published-satellite",
   "metadata": {},
   "outputs": [],
   "source": [
    "# define grid_search\n",
    "grid_search = GridSearchCV(estimator=estimator, \n",
    "                           param_grid=param_grid, \n",
    "                           cv=kf, \n",
    "                           n_jobs=2, \n",
    "                           verbose=2\n",
    "                          )\n",
    "\n",
    "# fit with (x_train, y_train)\n",
    "grid_search.fit(x_train, y_train)"
   ]
  },
  {
   "cell_type": "code",
   "execution_count": null,
   "id": "consistent-gnome",
   "metadata": {},
   "outputs": [],
   "source": [
    "grid_search.best_params_"
   ]
  },
  {
   "cell_type": "code",
   "execution_count": null,
   "id": "hired-czech",
   "metadata": {},
   "outputs": [],
   "source": []
  },
  {
   "cell_type": "code",
   "execution_count": null,
   "id": "interstate-opera",
   "metadata": {},
   "outputs": [],
   "source": [
    "## predict_rf\n",
    "ftr = trn6.drop('credit', axis=1).values\n",
    "target = trn['credit'].values\n",
    "tst_ar = tst.drop(['family_size', 'employed_plus'], axis = 1).values\n",
    "n_class = 3\n",
    "n_fold = 10\n",
    "\n",
    "print(ftr.shape)\n",
    "print(tst_ar.shape)\n",
    "\n",
    "cv = StratifiedKFold(n_splits=5, shuffle=True, random_state=42)\n",
    "\n",
    "print(ftr.shape)\n",
    "\n",
    "ext_p_val = np.zeros((ftr.shape[0], n_class))\n",
    "ext_p_tst = np.zeros((tst_ar.shape[0], n_class))\n",
    "\n",
    "for i, (i_trn, i_val) in enumerate(cv.split(ftr, target), 1):\n",
    "    print(f'training model for CV #{i}')\n",
    "    ext_clf = ExtraTreesClassifier(n_estimators=5000, \n",
    "                                   random_state=2021)\n",
    "    \n",
    "    ext_clf.fit(ftr[i_trn], tst_ar[i_trn])\n",
    "    ext_p_val[i_val, :] = ext_clf.predict_proba(ftr[i_val])\n",
    "    ext_p_tst += ext_clf.predict_proba(tst_ar) / n_fold\n",
    "    \n",
    "    print(log_loss(target[i_val],np.argmax(ext_p_val[i_val],axis=1)))\n",
    "\n",
    "print(f'{log_loss(target, ext_p_val)}')\n",
    "print(confusion_matrix(target, np.argmax(ext_p_val, axis=1)))"
   ]
  },
  {
   "cell_type": "code",
   "execution_count": null,
   "id": "clean-modem",
   "metadata": {},
   "outputs": [],
   "source": []
  }
 ],
 "metadata": {
  "kernelspec": {
   "display_name": "Python 3",
   "language": "python",
   "name": "python3"
  },
  "language_info": {
   "codemirror_mode": {
    "name": "ipython",
    "version": 3
   },
   "file_extension": ".py",
   "mimetype": "text/x-python",
   "name": "python",
   "nbconvert_exporter": "python",
   "pygments_lexer": "ipython3",
   "version": "3.7.10"
  }
 },
 "nbformat": 4,
 "nbformat_minor": 5
}
