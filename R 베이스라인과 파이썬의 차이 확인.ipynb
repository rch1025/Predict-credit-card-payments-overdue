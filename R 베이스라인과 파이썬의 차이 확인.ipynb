{
 "cells": [
  {
   "cell_type": "markdown",
   "id": "intermediate-language",
   "metadata": {},
   "source": [
    "- 라벨 인코딩한 범주형 변수들 타입을 category로 바꿔주기 : 똑같은\n",
    "- 결과변수 category로 바꾸지 말고 해보기 : 똑같을듯\n",
    "- 상관관계를 통해 변수 삭제"
   ]
  },
  {
   "cell_type": "code",
   "execution_count": 38,
   "id": "fixed-magnet",
   "metadata": {},
   "outputs": [],
   "source": [
    "import pandas as pd\n",
    "import numpy as np\n",
    "from collections import Counter\n",
    "import matplotlib.pyplot as plt\n",
    "import seaborn as sns\n",
    "plt.style.use('ggplot')\n",
    "\n",
    "from sklearn import metrics\n",
    "from sklearn.metrics import confusion_matrix\n",
    "from sklearn.metrics import accuracy_score\n",
    "from sklearn.metrics import precision_score\n",
    "from sklearn.metrics import log_loss\n",
    "from sklearn.preprocessing import LabelEncoder\n",
    "\n",
    "import lightgbm as lgb\n",
    "from lightgbm import LGBMClassifier\n",
    "from sklearn.ensemble import RandomForestClassifier\n",
    "from sklearn.model_selection import StratifiedKFold\n",
    "from sklearn.model_selection import train_test_split\n",
    "\n",
    "import warnings\n",
    "warnings.filterwarnings(action = 'ignore')"
   ]
  },
  {
   "cell_type": "code",
   "execution_count": 39,
   "id": "shared-cattle",
   "metadata": {},
   "outputs": [],
   "source": [
    "## 데이터 불러오기\n",
    "trn = pd.read_csv('data/train.csv')\n",
    "tst = pd.read_csv('data/test.csv')"
   ]
  },
  {
   "cell_type": "markdown",
   "id": "mediterranean-victorian",
   "metadata": {},
   "source": [
    "## 변수 생성\n",
    "- 2개의 파생변수만을 생성함"
   ]
  },
  {
   "cell_type": "code",
   "execution_count": 40,
   "id": "convinced-florence",
   "metadata": {},
   "outputs": [],
   "source": [
    "## 365 변환\n",
    "def days_to_plus(x):\n",
    "    return (x*-1)/365\n",
    "\n",
    "## 업무 시작일 변환\n",
    "def plus(x):\n",
    "    if x<0:\n",
    "        return x*(-1)\n",
    "    else:\n",
    "        return 0\n",
    "\n",
    "## 나이 양수로 변환\n",
    "trn['birth_plus'] = trn.DAYS_BIRTH.map(days_to_plus)\n",
    "tst['birth_plus'] = tst.DAYS_BIRTH.map(days_to_plus)\n",
    "    \n",
    "## 업무시작일 양수로 변환\n",
    "trn['employed_plus'] = trn.DAYS_EMPLOYED.map(days_to_plus)\n",
    "tst['employed_plus'] = tst.DAYS_EMPLOYED.map(days_to_plus)"
   ]
  },
  {
   "cell_type": "code",
   "execution_count": 41,
   "id": "driving-allocation",
   "metadata": {},
   "outputs": [
    {
     "name": "stdout",
     "output_type": "stream",
     "text": [
      "<class 'pandas.core.frame.DataFrame'>\n",
      "RangeIndex: 26457 entries, 0 to 26456\n",
      "Data columns (total 22 columns):\n",
      " #   Column         Non-Null Count  Dtype  \n",
      "---  ------         --------------  -----  \n",
      " 0   index          26457 non-null  int64  \n",
      " 1   gender         26457 non-null  object \n",
      " 2   car            26457 non-null  object \n",
      " 3   reality        26457 non-null  object \n",
      " 4   child_num      26457 non-null  int64  \n",
      " 5   income_total   26457 non-null  float64\n",
      " 6   income_type    26457 non-null  object \n",
      " 7   edu_type       26457 non-null  object \n",
      " 8   family_type    26457 non-null  object \n",
      " 9   house_type     26457 non-null  object \n",
      " 10  DAYS_BIRTH     26457 non-null  int64  \n",
      " 11  DAYS_EMPLOYED  26457 non-null  int64  \n",
      " 12  FLAG_MOBIL     26457 non-null  int64  \n",
      " 13  work_phone     26457 non-null  int64  \n",
      " 14  phone          26457 non-null  int64  \n",
      " 15  email          26457 non-null  int64  \n",
      " 16  occyp_type     18286 non-null  object \n",
      " 17  family_size    26457 non-null  float64\n",
      " 18  begin_month    26457 non-null  float64\n",
      " 19  credit         26457 non-null  float64\n",
      " 20  birth_plus     26457 non-null  float64\n",
      " 21  employed_plus  26457 non-null  float64\n",
      "dtypes: float64(6), int64(8), object(8)\n",
      "memory usage: 4.4+ MB\n"
     ]
    }
   ],
   "source": [
    "trn.info()"
   ]
  },
  {
   "cell_type": "markdown",
   "id": "tired-picking",
   "metadata": {},
   "source": [
    "## Label Encoding"
   ]
  },
  {
   "cell_type": "code",
   "execution_count": 42,
   "id": "common-insurance",
   "metadata": {},
   "outputs": [
    {
     "name": "stdout",
     "output_type": "stream",
     "text": [
      "21 8 13\n"
     ]
    }
   ],
   "source": [
    "index_col = 'index'\n",
    "target_col = 'credit'\n",
    "\n",
    "cat_cols = [x for x in trn.columns if trn[x].dtype == 'object']\n",
    "float_cols = [x for x in trn.columns.drop('credit') if trn[x].dtype == 'float64']\n",
    "num_cols = [x for x in trn.columns if x not in cat_cols + [target_col]]\n",
    "feature_cols = num_cols + cat_cols\n",
    "print(len(feature_cols), len(cat_cols), len(num_cols))"
   ]
  },
  {
   "cell_type": "code",
   "execution_count": 43,
   "id": "packed-petroleum",
   "metadata": {},
   "outputs": [],
   "source": [
    "from sklearn.preprocessing import LabelEncoder\n",
    "\n",
    "lbe = LabelEncoder()\n",
    "for i in cat_cols:\n",
    "    trn[i] = lbe.fit_transform(trn[i])\n",
    "    tst[i] = lbe.transform(tst[i])\n",
    "    \n",
    "for i in float_cols:\n",
    "    trn[i] = trn[i].astype('int')\n",
    "    tst[i] = tst[i].astype('int')"
   ]
  },
  {
   "cell_type": "code",
   "execution_count": 44,
   "id": "phantom-vault",
   "metadata": {},
   "outputs": [],
   "source": [
    "for i in cat_cols:\n",
    "    trn[i] = trn[i].astype('category')\n",
    "    tst[i] = tst[i].astype('category')\n",
    "    \n",
    "## 결과 변수 category 형으로 만들기\n",
    "trn.credit = trn.credit.astype('category')"
   ]
  },
  {
   "cell_type": "code",
   "execution_count": 45,
   "id": "equal-bolivia",
   "metadata": {
    "scrolled": false
   },
   "outputs": [
    {
     "name": "stdout",
     "output_type": "stream",
     "text": [
      "<class 'pandas.core.frame.DataFrame'>\n",
      "RangeIndex: 26457 entries, 0 to 26456\n",
      "Data columns (total 22 columns):\n",
      " #   Column         Non-Null Count  Dtype   \n",
      "---  ------         --------------  -----   \n",
      " 0   index          26457 non-null  int64   \n",
      " 1   gender         26457 non-null  category\n",
      " 2   car            26457 non-null  category\n",
      " 3   reality        26457 non-null  category\n",
      " 4   child_num      26457 non-null  int64   \n",
      " 5   income_total   26457 non-null  int32   \n",
      " 6   income_type    26457 non-null  category\n",
      " 7   edu_type       26457 non-null  category\n",
      " 8   family_type    26457 non-null  category\n",
      " 9   house_type     26457 non-null  category\n",
      " 10  DAYS_BIRTH     26457 non-null  int64   \n",
      " 11  DAYS_EMPLOYED  26457 non-null  int64   \n",
      " 12  FLAG_MOBIL     26457 non-null  int64   \n",
      " 13  work_phone     26457 non-null  int64   \n",
      " 14  phone          26457 non-null  int64   \n",
      " 15  email          26457 non-null  int64   \n",
      " 16  occyp_type     26457 non-null  category\n",
      " 17  family_size    26457 non-null  int32   \n",
      " 18  begin_month    26457 non-null  int32   \n",
      " 19  credit         26457 non-null  float64 \n",
      " 20  birth_plus     26457 non-null  int32   \n",
      " 21  employed_plus  26457 non-null  int32   \n",
      "dtypes: category(8), float64(1), int32(5), int64(8)\n",
      "memory usage: 2.5 MB\n"
     ]
    }
   ],
   "source": [
    "trn.info()"
   ]
  },
  {
   "cell_type": "code",
   "execution_count": 46,
   "id": "welcome-asbestos",
   "metadata": {},
   "outputs": [],
   "source": [
    "## 인덱스 설정\n",
    "trn.set_index('index', inplace = True)\n",
    "tst.set_index('index', inplace = True)"
   ]
  },
  {
   "cell_type": "code",
   "execution_count": 47,
   "id": "exterior-finish",
   "metadata": {},
   "outputs": [
    {
     "data": {
      "text/html": [
       "<div>\n",
       "<style scoped>\n",
       "    .dataframe tbody tr th:only-of-type {\n",
       "        vertical-align: middle;\n",
       "    }\n",
       "\n",
       "    .dataframe tbody tr th {\n",
       "        vertical-align: top;\n",
       "    }\n",
       "\n",
       "    .dataframe thead th {\n",
       "        text-align: right;\n",
       "    }\n",
       "</style>\n",
       "<table border=\"1\" class=\"dataframe\">\n",
       "  <thead>\n",
       "    <tr style=\"text-align: right;\">\n",
       "      <th></th>\n",
       "      <th>gender</th>\n",
       "      <th>car</th>\n",
       "      <th>reality</th>\n",
       "      <th>child_num</th>\n",
       "      <th>income_total</th>\n",
       "      <th>income_type</th>\n",
       "      <th>edu_type</th>\n",
       "      <th>family_type</th>\n",
       "      <th>house_type</th>\n",
       "      <th>DAYS_BIRTH</th>\n",
       "      <th>...</th>\n",
       "      <th>FLAG_MOBIL</th>\n",
       "      <th>work_phone</th>\n",
       "      <th>phone</th>\n",
       "      <th>email</th>\n",
       "      <th>occyp_type</th>\n",
       "      <th>family_size</th>\n",
       "      <th>begin_month</th>\n",
       "      <th>credit</th>\n",
       "      <th>birth_plus</th>\n",
       "      <th>employed_plus</th>\n",
       "    </tr>\n",
       "    <tr>\n",
       "      <th>index</th>\n",
       "      <th></th>\n",
       "      <th></th>\n",
       "      <th></th>\n",
       "      <th></th>\n",
       "      <th></th>\n",
       "      <th></th>\n",
       "      <th></th>\n",
       "      <th></th>\n",
       "      <th></th>\n",
       "      <th></th>\n",
       "      <th></th>\n",
       "      <th></th>\n",
       "      <th></th>\n",
       "      <th></th>\n",
       "      <th></th>\n",
       "      <th></th>\n",
       "      <th></th>\n",
       "      <th></th>\n",
       "      <th></th>\n",
       "      <th></th>\n",
       "      <th></th>\n",
       "    </tr>\n",
       "  </thead>\n",
       "  <tbody>\n",
       "    <tr>\n",
       "      <th>0</th>\n",
       "      <td>0</td>\n",
       "      <td>0</td>\n",
       "      <td>0</td>\n",
       "      <td>0</td>\n",
       "      <td>202500</td>\n",
       "      <td>0</td>\n",
       "      <td>1</td>\n",
       "      <td>1</td>\n",
       "      <td>2</td>\n",
       "      <td>-13899</td>\n",
       "      <td>...</td>\n",
       "      <td>1</td>\n",
       "      <td>0</td>\n",
       "      <td>0</td>\n",
       "      <td>0</td>\n",
       "      <td>18</td>\n",
       "      <td>2</td>\n",
       "      <td>-6</td>\n",
       "      <td>1.0</td>\n",
       "      <td>38</td>\n",
       "      <td>12</td>\n",
       "    </tr>\n",
       "    <tr>\n",
       "      <th>1</th>\n",
       "      <td>0</td>\n",
       "      <td>0</td>\n",
       "      <td>1</td>\n",
       "      <td>1</td>\n",
       "      <td>247500</td>\n",
       "      <td>0</td>\n",
       "      <td>4</td>\n",
       "      <td>0</td>\n",
       "      <td>1</td>\n",
       "      <td>-11380</td>\n",
       "      <td>...</td>\n",
       "      <td>1</td>\n",
       "      <td>0</td>\n",
       "      <td>0</td>\n",
       "      <td>1</td>\n",
       "      <td>8</td>\n",
       "      <td>3</td>\n",
       "      <td>-5</td>\n",
       "      <td>1.0</td>\n",
       "      <td>31</td>\n",
       "      <td>4</td>\n",
       "    </tr>\n",
       "    <tr>\n",
       "      <th>2</th>\n",
       "      <td>1</td>\n",
       "      <td>1</td>\n",
       "      <td>1</td>\n",
       "      <td>0</td>\n",
       "      <td>450000</td>\n",
       "      <td>4</td>\n",
       "      <td>1</td>\n",
       "      <td>1</td>\n",
       "      <td>1</td>\n",
       "      <td>-19087</td>\n",
       "      <td>...</td>\n",
       "      <td>1</td>\n",
       "      <td>0</td>\n",
       "      <td>1</td>\n",
       "      <td>0</td>\n",
       "      <td>10</td>\n",
       "      <td>2</td>\n",
       "      <td>-22</td>\n",
       "      <td>2.0</td>\n",
       "      <td>52</td>\n",
       "      <td>12</td>\n",
       "    </tr>\n",
       "    <tr>\n",
       "      <th>3</th>\n",
       "      <td>0</td>\n",
       "      <td>0</td>\n",
       "      <td>1</td>\n",
       "      <td>0</td>\n",
       "      <td>202500</td>\n",
       "      <td>0</td>\n",
       "      <td>4</td>\n",
       "      <td>1</td>\n",
       "      <td>1</td>\n",
       "      <td>-15088</td>\n",
       "      <td>...</td>\n",
       "      <td>1</td>\n",
       "      <td>0</td>\n",
       "      <td>1</td>\n",
       "      <td>0</td>\n",
       "      <td>14</td>\n",
       "      <td>2</td>\n",
       "      <td>-37</td>\n",
       "      <td>0.0</td>\n",
       "      <td>41</td>\n",
       "      <td>5</td>\n",
       "    </tr>\n",
       "    <tr>\n",
       "      <th>4</th>\n",
       "      <td>0</td>\n",
       "      <td>1</td>\n",
       "      <td>1</td>\n",
       "      <td>0</td>\n",
       "      <td>157500</td>\n",
       "      <td>2</td>\n",
       "      <td>1</td>\n",
       "      <td>1</td>\n",
       "      <td>1</td>\n",
       "      <td>-15037</td>\n",
       "      <td>...</td>\n",
       "      <td>1</td>\n",
       "      <td>0</td>\n",
       "      <td>0</td>\n",
       "      <td>0</td>\n",
       "      <td>10</td>\n",
       "      <td>2</td>\n",
       "      <td>-26</td>\n",
       "      <td>2.0</td>\n",
       "      <td>41</td>\n",
       "      <td>5</td>\n",
       "    </tr>\n",
       "  </tbody>\n",
       "</table>\n",
       "<p>5 rows × 21 columns</p>\n",
       "</div>"
      ],
      "text/plain": [
       "      gender car reality  child_num  income_total income_type edu_type  \\\n",
       "index                                                                    \n",
       "0          0   0       0          0        202500           0        1   \n",
       "1          0   0       1          1        247500           0        4   \n",
       "2          1   1       1          0        450000           4        1   \n",
       "3          0   0       1          0        202500           0        4   \n",
       "4          0   1       1          0        157500           2        1   \n",
       "\n",
       "      family_type house_type  DAYS_BIRTH  ...  FLAG_MOBIL  work_phone  phone  \\\n",
       "index                                     ...                                  \n",
       "0               1          2      -13899  ...           1           0      0   \n",
       "1               0          1      -11380  ...           1           0      0   \n",
       "2               1          1      -19087  ...           1           0      1   \n",
       "3               1          1      -15088  ...           1           0      1   \n",
       "4               1          1      -15037  ...           1           0      0   \n",
       "\n",
       "       email  occyp_type family_size  begin_month  credit  birth_plus  \\\n",
       "index                                                                   \n",
       "0          0          18           2           -6     1.0          38   \n",
       "1          1           8           3           -5     1.0          31   \n",
       "2          0          10           2          -22     2.0          52   \n",
       "3          0          14           2          -37     0.0          41   \n",
       "4          0          10           2          -26     2.0          41   \n",
       "\n",
       "       employed_plus  \n",
       "index                 \n",
       "0                 12  \n",
       "1                  4  \n",
       "2                 12  \n",
       "3                  5  \n",
       "4                  5  \n",
       "\n",
       "[5 rows x 21 columns]"
      ]
     },
     "execution_count": 47,
     "metadata": {},
     "output_type": "execute_result"
    }
   ],
   "source": [
    "trn.head()"
   ]
  },
  {
   "cell_type": "code",
   "execution_count": 34,
   "id": "legal-commerce",
   "metadata": {},
   "outputs": [
    {
     "name": "stdout",
     "output_type": "stream",
     "text": [
      "<class 'pandas.core.frame.DataFrame'>\n",
      "Int64Index: 10000 entries, 26457 to 36456\n",
      "Data columns (total 20 columns):\n",
      " #   Column         Non-Null Count  Dtype\n",
      "---  ------         --------------  -----\n",
      " 0   gender         10000 non-null  int32\n",
      " 1   car            10000 non-null  int32\n",
      " 2   reality        10000 non-null  int32\n",
      " 3   child_num      10000 non-null  int64\n",
      " 4   income_total   10000 non-null  int32\n",
      " 5   income_type    10000 non-null  int32\n",
      " 6   edu_type       10000 non-null  int32\n",
      " 7   family_type    10000 non-null  int32\n",
      " 8   house_type     10000 non-null  int32\n",
      " 9   DAYS_BIRTH     10000 non-null  int64\n",
      " 10  DAYS_EMPLOYED  10000 non-null  int64\n",
      " 11  FLAG_MOBIL     10000 non-null  int64\n",
      " 12  work_phone     10000 non-null  int64\n",
      " 13  phone          10000 non-null  int64\n",
      " 14  email          10000 non-null  int64\n",
      " 15  occyp_type     10000 non-null  int32\n",
      " 16  family_size    10000 non-null  int32\n",
      " 17  begin_month    10000 non-null  int32\n",
      " 18  birth_plus     10000 non-null  int32\n",
      " 19  employed_plus  10000 non-null  int32\n",
      "dtypes: int32(13), int64(7)\n",
      "memory usage: 1.1 MB\n"
     ]
    }
   ],
   "source": [
    "tst.info()"
   ]
  },
  {
   "cell_type": "code",
   "execution_count": 35,
   "id": "brazilian-planet",
   "metadata": {},
   "outputs": [
    {
     "data": {
      "text/plain": [
       "RandomForestClassifier(max_features=3, min_samples_split=6, n_estimators=5000,\n",
       "                       n_jobs=1, random_state=2021)"
      ]
     },
     "execution_count": 35,
     "metadata": {},
     "output_type": "execute_result"
    }
   ],
   "source": [
    "# train과 valid(test) 셋을 분리 \n",
    "x_train, x_valid, y_train, y_valid = train_test_split(trn.drop('credit', axis=1), trn.credit, test_size=0.3, stratify=trn.credit, random_state=40)\n",
    "\n",
    "# RF 모델링 \n",
    "rf = RandomForestClassifier(n_estimators = 5000,\n",
    "                            max_features = 3,\n",
    "                            min_samples_split = 6,\n",
    "                            random_state = 2021,\n",
    "                            n_jobs = 1\n",
    "                           )\n",
    "rf.fit(x_train, y_train)"
   ]
  },
  {
   "cell_type": "code",
   "execution_count": 36,
   "id": "constitutional-center",
   "metadata": {},
   "outputs": [],
   "source": [
    "rf_pred = rf.predict_proba(x_valid)"
   ]
  },
  {
   "cell_type": "code",
   "execution_count": 37,
   "id": "behavioral-chaos",
   "metadata": {},
   "outputs": [
    {
     "data": {
      "text/plain": [
       "0.7120824800381204"
      ]
     },
     "execution_count": 37,
     "metadata": {},
     "output_type": "execute_result"
    }
   ],
   "source": [
    "log_loss(y_valid, rf_pred)"
   ]
  },
  {
   "cell_type": "code",
   "execution_count": null,
   "id": "talented-benchmark",
   "metadata": {},
   "outputs": [],
   "source": [
    "import eli5 \n",
    "from eli5.sklearn import PermutationImportance "
   ]
  },
  {
   "cell_type": "code",
   "execution_count": null,
   "id": "nearby-caution",
   "metadata": {},
   "outputs": [],
   "source": [
    "perm = PermutationImportance(rf, \n",
    "                             scoring = 'neg_log_loss',\n",
    "                             random_state = 2021).fit(x_valid, y_valid)"
   ]
  },
  {
   "cell_type": "code",
   "execution_count": null,
   "id": "fewer-recommendation",
   "metadata": {},
   "outputs": [],
   "source": [
    "eli5.show_weights(perm, top = x_valid.shape[1], feature_names = x_valid.columns.tolist())"
   ]
  },
  {
   "cell_type": "markdown",
   "id": "formal-variance",
   "metadata": {},
   "source": [
    "## 벨리드 검정 기준\n",
    "- 0.7163870280361224\n",
    ": rf = RandomForestClassifier(n_estimators = 1000,\n",
    "                           max_features = 3,\n",
    "                            min_samples_split = 5,\n",
    "                            random_state = 2021,\n",
    "                            n_jobs = -1\n",
    "                            \n",
    "                            \n",
    "- 0.7123578685866444\n",
    ": rf = RandomForestClassifier(n_estimators = 1000,\n",
    "                           max_features = 3,\n",
    "                            min_samples_split = 6,\n",
    "                            random_state = 2021,\n",
    "                            n_jobs = -1\n",
    "                           )\n",
    "                           \n",
    "- 0.7120824800381204\n",
    ": rf = RandomForestClassifier(n_estimators = 5000,\n",
    "                           max_features = 3,\n",
    "                            min_samples_split = 6,\n",
    "                            random_state = 2021,\n",
    "                            n_jobs = -1\n",
    "                           )"
   ]
  },
  {
   "cell_type": "code",
   "execution_count": 53,
   "id": "entertaining-tunnel",
   "metadata": {},
   "outputs": [
    {
     "ename": "KeyboardInterrupt",
     "evalue": "",
     "output_type": "error",
     "traceback": [
      "\u001b[1;31m---------------------------------------------------------------------------\u001b[0m",
      "\u001b[1;31mKeyboardInterrupt\u001b[0m                         Traceback (most recent call last)",
      "\u001b[1;32m<ipython-input-53-ed4097bc1a81>\u001b[0m in \u001b[0;36m<module>\u001b[1;34m\u001b[0m\n\u001b[0;32m      9\u001b[0m                             \u001b[0mn_jobs\u001b[0m \u001b[1;33m=\u001b[0m \u001b[1;33m-\u001b[0m\u001b[1;36m1\u001b[0m\u001b[1;33m\u001b[0m\u001b[1;33m\u001b[0m\u001b[0m\n\u001b[0;32m     10\u001b[0m                            )\n\u001b[1;32m---> 11\u001b[1;33m \u001b[0mrf\u001b[0m\u001b[1;33m.\u001b[0m\u001b[0mfit\u001b[0m\u001b[1;33m(\u001b[0m\u001b[0mtrn\u001b[0m\u001b[1;33m.\u001b[0m\u001b[0mdrop\u001b[0m\u001b[1;33m(\u001b[0m\u001b[1;34m'credit'\u001b[0m\u001b[1;33m,\u001b[0m \u001b[0maxis\u001b[0m\u001b[1;33m=\u001b[0m\u001b[1;36m1\u001b[0m\u001b[1;33m)\u001b[0m\u001b[1;33m,\u001b[0m \u001b[0mtrn\u001b[0m\u001b[1;33m.\u001b[0m\u001b[0mcredit\u001b[0m\u001b[1;33m)\u001b[0m\u001b[1;33m\u001b[0m\u001b[1;33m\u001b[0m\u001b[0m\n\u001b[0m",
      "\u001b[1;32m~\\anaconda3\\envs\\algo\\lib\\site-packages\\sklearn\\ensemble\\_forest.py\u001b[0m in \u001b[0;36mfit\u001b[1;34m(self, X, y, sample_weight)\u001b[0m\n\u001b[0;32m    391\u001b[0m                     \u001b[0mverbose\u001b[0m\u001b[1;33m=\u001b[0m\u001b[0mself\u001b[0m\u001b[1;33m.\u001b[0m\u001b[0mverbose\u001b[0m\u001b[1;33m,\u001b[0m \u001b[0mclass_weight\u001b[0m\u001b[1;33m=\u001b[0m\u001b[0mself\u001b[0m\u001b[1;33m.\u001b[0m\u001b[0mclass_weight\u001b[0m\u001b[1;33m,\u001b[0m\u001b[1;33m\u001b[0m\u001b[1;33m\u001b[0m\u001b[0m\n\u001b[0;32m    392\u001b[0m                     n_samples_bootstrap=n_samples_bootstrap)\n\u001b[1;32m--> 393\u001b[1;33m                 for i, t in enumerate(trees))\n\u001b[0m\u001b[0;32m    394\u001b[0m \u001b[1;33m\u001b[0m\u001b[0m\n\u001b[0;32m    395\u001b[0m             \u001b[1;31m# Collect newly grown trees\u001b[0m\u001b[1;33m\u001b[0m\u001b[1;33m\u001b[0m\u001b[1;33m\u001b[0m\u001b[0m\n",
      "\u001b[1;32m~\\anaconda3\\envs\\algo\\lib\\site-packages\\joblib\\parallel.py\u001b[0m in \u001b[0;36m__call__\u001b[1;34m(self, iterable)\u001b[0m\n\u001b[0;32m   1052\u001b[0m \u001b[1;33m\u001b[0m\u001b[0m\n\u001b[0;32m   1053\u001b[0m             \u001b[1;32mwith\u001b[0m \u001b[0mself\u001b[0m\u001b[1;33m.\u001b[0m\u001b[0m_backend\u001b[0m\u001b[1;33m.\u001b[0m\u001b[0mretrieval_context\u001b[0m\u001b[1;33m(\u001b[0m\u001b[1;33m)\u001b[0m\u001b[1;33m:\u001b[0m\u001b[1;33m\u001b[0m\u001b[1;33m\u001b[0m\u001b[0m\n\u001b[1;32m-> 1054\u001b[1;33m                 \u001b[0mself\u001b[0m\u001b[1;33m.\u001b[0m\u001b[0mretrieve\u001b[0m\u001b[1;33m(\u001b[0m\u001b[1;33m)\u001b[0m\u001b[1;33m\u001b[0m\u001b[1;33m\u001b[0m\u001b[0m\n\u001b[0m\u001b[0;32m   1055\u001b[0m             \u001b[1;31m# Make sure that we get a last message telling us we are done\u001b[0m\u001b[1;33m\u001b[0m\u001b[1;33m\u001b[0m\u001b[1;33m\u001b[0m\u001b[0m\n\u001b[0;32m   1056\u001b[0m             \u001b[0melapsed_time\u001b[0m \u001b[1;33m=\u001b[0m \u001b[0mtime\u001b[0m\u001b[1;33m.\u001b[0m\u001b[0mtime\u001b[0m\u001b[1;33m(\u001b[0m\u001b[1;33m)\u001b[0m \u001b[1;33m-\u001b[0m \u001b[0mself\u001b[0m\u001b[1;33m.\u001b[0m\u001b[0m_start_time\u001b[0m\u001b[1;33m\u001b[0m\u001b[1;33m\u001b[0m\u001b[0m\n",
      "\u001b[1;32m~\\anaconda3\\envs\\algo\\lib\\site-packages\\joblib\\parallel.py\u001b[0m in \u001b[0;36mretrieve\u001b[1;34m(self)\u001b[0m\n\u001b[0;32m    931\u001b[0m             \u001b[1;32mtry\u001b[0m\u001b[1;33m:\u001b[0m\u001b[1;33m\u001b[0m\u001b[1;33m\u001b[0m\u001b[0m\n\u001b[0;32m    932\u001b[0m                 \u001b[1;32mif\u001b[0m \u001b[0mgetattr\u001b[0m\u001b[1;33m(\u001b[0m\u001b[0mself\u001b[0m\u001b[1;33m.\u001b[0m\u001b[0m_backend\u001b[0m\u001b[1;33m,\u001b[0m \u001b[1;34m'supports_timeout'\u001b[0m\u001b[1;33m,\u001b[0m \u001b[1;32mFalse\u001b[0m\u001b[1;33m)\u001b[0m\u001b[1;33m:\u001b[0m\u001b[1;33m\u001b[0m\u001b[1;33m\u001b[0m\u001b[0m\n\u001b[1;32m--> 933\u001b[1;33m                     \u001b[0mself\u001b[0m\u001b[1;33m.\u001b[0m\u001b[0m_output\u001b[0m\u001b[1;33m.\u001b[0m\u001b[0mextend\u001b[0m\u001b[1;33m(\u001b[0m\u001b[0mjob\u001b[0m\u001b[1;33m.\u001b[0m\u001b[0mget\u001b[0m\u001b[1;33m(\u001b[0m\u001b[0mtimeout\u001b[0m\u001b[1;33m=\u001b[0m\u001b[0mself\u001b[0m\u001b[1;33m.\u001b[0m\u001b[0mtimeout\u001b[0m\u001b[1;33m)\u001b[0m\u001b[1;33m)\u001b[0m\u001b[1;33m\u001b[0m\u001b[1;33m\u001b[0m\u001b[0m\n\u001b[0m\u001b[0;32m    934\u001b[0m                 \u001b[1;32melse\u001b[0m\u001b[1;33m:\u001b[0m\u001b[1;33m\u001b[0m\u001b[1;33m\u001b[0m\u001b[0m\n\u001b[0;32m    935\u001b[0m                     \u001b[0mself\u001b[0m\u001b[1;33m.\u001b[0m\u001b[0m_output\u001b[0m\u001b[1;33m.\u001b[0m\u001b[0mextend\u001b[0m\u001b[1;33m(\u001b[0m\u001b[0mjob\u001b[0m\u001b[1;33m.\u001b[0m\u001b[0mget\u001b[0m\u001b[1;33m(\u001b[0m\u001b[1;33m)\u001b[0m\u001b[1;33m)\u001b[0m\u001b[1;33m\u001b[0m\u001b[1;33m\u001b[0m\u001b[0m\n",
      "\u001b[1;32m~\\anaconda3\\envs\\algo\\lib\\multiprocessing\\pool.py\u001b[0m in \u001b[0;36mget\u001b[1;34m(self, timeout)\u001b[0m\n\u001b[0;32m    649\u001b[0m \u001b[1;33m\u001b[0m\u001b[0m\n\u001b[0;32m    650\u001b[0m     \u001b[1;32mdef\u001b[0m \u001b[0mget\u001b[0m\u001b[1;33m(\u001b[0m\u001b[0mself\u001b[0m\u001b[1;33m,\u001b[0m \u001b[0mtimeout\u001b[0m\u001b[1;33m=\u001b[0m\u001b[1;32mNone\u001b[0m\u001b[1;33m)\u001b[0m\u001b[1;33m:\u001b[0m\u001b[1;33m\u001b[0m\u001b[1;33m\u001b[0m\u001b[0m\n\u001b[1;32m--> 651\u001b[1;33m         \u001b[0mself\u001b[0m\u001b[1;33m.\u001b[0m\u001b[0mwait\u001b[0m\u001b[1;33m(\u001b[0m\u001b[0mtimeout\u001b[0m\u001b[1;33m)\u001b[0m\u001b[1;33m\u001b[0m\u001b[1;33m\u001b[0m\u001b[0m\n\u001b[0m\u001b[0;32m    652\u001b[0m         \u001b[1;32mif\u001b[0m \u001b[1;32mnot\u001b[0m \u001b[0mself\u001b[0m\u001b[1;33m.\u001b[0m\u001b[0mready\u001b[0m\u001b[1;33m(\u001b[0m\u001b[1;33m)\u001b[0m\u001b[1;33m:\u001b[0m\u001b[1;33m\u001b[0m\u001b[1;33m\u001b[0m\u001b[0m\n\u001b[0;32m    653\u001b[0m             \u001b[1;32mraise\u001b[0m \u001b[0mTimeoutError\u001b[0m\u001b[1;33m\u001b[0m\u001b[1;33m\u001b[0m\u001b[0m\n",
      "\u001b[1;32m~\\anaconda3\\envs\\algo\\lib\\multiprocessing\\pool.py\u001b[0m in \u001b[0;36mwait\u001b[1;34m(self, timeout)\u001b[0m\n\u001b[0;32m    646\u001b[0m \u001b[1;33m\u001b[0m\u001b[0m\n\u001b[0;32m    647\u001b[0m     \u001b[1;32mdef\u001b[0m \u001b[0mwait\u001b[0m\u001b[1;33m(\u001b[0m\u001b[0mself\u001b[0m\u001b[1;33m,\u001b[0m \u001b[0mtimeout\u001b[0m\u001b[1;33m=\u001b[0m\u001b[1;32mNone\u001b[0m\u001b[1;33m)\u001b[0m\u001b[1;33m:\u001b[0m\u001b[1;33m\u001b[0m\u001b[1;33m\u001b[0m\u001b[0m\n\u001b[1;32m--> 648\u001b[1;33m         \u001b[0mself\u001b[0m\u001b[1;33m.\u001b[0m\u001b[0m_event\u001b[0m\u001b[1;33m.\u001b[0m\u001b[0mwait\u001b[0m\u001b[1;33m(\u001b[0m\u001b[0mtimeout\u001b[0m\u001b[1;33m)\u001b[0m\u001b[1;33m\u001b[0m\u001b[1;33m\u001b[0m\u001b[0m\n\u001b[0m\u001b[0;32m    649\u001b[0m \u001b[1;33m\u001b[0m\u001b[0m\n\u001b[0;32m    650\u001b[0m     \u001b[1;32mdef\u001b[0m \u001b[0mget\u001b[0m\u001b[1;33m(\u001b[0m\u001b[0mself\u001b[0m\u001b[1;33m,\u001b[0m \u001b[0mtimeout\u001b[0m\u001b[1;33m=\u001b[0m\u001b[1;32mNone\u001b[0m\u001b[1;33m)\u001b[0m\u001b[1;33m:\u001b[0m\u001b[1;33m\u001b[0m\u001b[1;33m\u001b[0m\u001b[0m\n",
      "\u001b[1;32m~\\anaconda3\\envs\\algo\\lib\\threading.py\u001b[0m in \u001b[0;36mwait\u001b[1;34m(self, timeout)\u001b[0m\n\u001b[0;32m    550\u001b[0m             \u001b[0msignaled\u001b[0m \u001b[1;33m=\u001b[0m \u001b[0mself\u001b[0m\u001b[1;33m.\u001b[0m\u001b[0m_flag\u001b[0m\u001b[1;33m\u001b[0m\u001b[1;33m\u001b[0m\u001b[0m\n\u001b[0;32m    551\u001b[0m             \u001b[1;32mif\u001b[0m \u001b[1;32mnot\u001b[0m \u001b[0msignaled\u001b[0m\u001b[1;33m:\u001b[0m\u001b[1;33m\u001b[0m\u001b[1;33m\u001b[0m\u001b[0m\n\u001b[1;32m--> 552\u001b[1;33m                 \u001b[0msignaled\u001b[0m \u001b[1;33m=\u001b[0m \u001b[0mself\u001b[0m\u001b[1;33m.\u001b[0m\u001b[0m_cond\u001b[0m\u001b[1;33m.\u001b[0m\u001b[0mwait\u001b[0m\u001b[1;33m(\u001b[0m\u001b[0mtimeout\u001b[0m\u001b[1;33m)\u001b[0m\u001b[1;33m\u001b[0m\u001b[1;33m\u001b[0m\u001b[0m\n\u001b[0m\u001b[0;32m    553\u001b[0m             \u001b[1;32mreturn\u001b[0m \u001b[0msignaled\u001b[0m\u001b[1;33m\u001b[0m\u001b[1;33m\u001b[0m\u001b[0m\n\u001b[0;32m    554\u001b[0m \u001b[1;33m\u001b[0m\u001b[0m\n",
      "\u001b[1;32m~\\anaconda3\\envs\\algo\\lib\\threading.py\u001b[0m in \u001b[0;36mwait\u001b[1;34m(self, timeout)\u001b[0m\n\u001b[0;32m    294\u001b[0m         \u001b[1;32mtry\u001b[0m\u001b[1;33m:\u001b[0m    \u001b[1;31m# restore state no matter what (e.g., KeyboardInterrupt)\u001b[0m\u001b[1;33m\u001b[0m\u001b[1;33m\u001b[0m\u001b[0m\n\u001b[0;32m    295\u001b[0m             \u001b[1;32mif\u001b[0m \u001b[0mtimeout\u001b[0m \u001b[1;32mis\u001b[0m \u001b[1;32mNone\u001b[0m\u001b[1;33m:\u001b[0m\u001b[1;33m\u001b[0m\u001b[1;33m\u001b[0m\u001b[0m\n\u001b[1;32m--> 296\u001b[1;33m                 \u001b[0mwaiter\u001b[0m\u001b[1;33m.\u001b[0m\u001b[0macquire\u001b[0m\u001b[1;33m(\u001b[0m\u001b[1;33m)\u001b[0m\u001b[1;33m\u001b[0m\u001b[1;33m\u001b[0m\u001b[0m\n\u001b[0m\u001b[0;32m    297\u001b[0m                 \u001b[0mgotit\u001b[0m \u001b[1;33m=\u001b[0m \u001b[1;32mTrue\u001b[0m\u001b[1;33m\u001b[0m\u001b[1;33m\u001b[0m\u001b[0m\n\u001b[0;32m    298\u001b[0m             \u001b[1;32melse\u001b[0m\u001b[1;33m:\u001b[0m\u001b[1;33m\u001b[0m\u001b[1;33m\u001b[0m\u001b[0m\n",
      "\u001b[1;31mKeyboardInterrupt\u001b[0m: "
     ]
    }
   ],
   "source": [
    "# 테스트 예측\n",
    "x_train, x_valid, y_train, y_valid = train_test_split(trn.drop('credit', axis=1), trn.credit, test_size=0.3, stratify=trn.credit, random_state=40)\n",
    "\n",
    "# RF 모델링 \n",
    "rf = RandomForestClassifier(n_estimators = 5000,\n",
    "                           max_features = 3,\n",
    "                            min_samples_split = 5,\n",
    "                            random_state = 2021,\n",
    "                            n_jobs = -1\n",
    "                           )\n",
    "rf.fit(trn.drop('credit', axis=1), trn.credit)"
   ]
  },
  {
   "cell_type": "code",
   "execution_count": null,
   "id": "political-advantage",
   "metadata": {},
   "outputs": [],
   "source": [
    "rf_pred = rf.predict_proba(tst)"
   ]
  },
  {
   "cell_type": "code",
   "execution_count": null,
   "id": "reliable-alliance",
   "metadata": {},
   "outputs": [],
   "source": [
    "rf_pred"
   ]
  },
  {
   "cell_type": "markdown",
   "id": "political-title",
   "metadata": {},
   "source": [
    "## 제출하기"
   ]
  },
  {
   "cell_type": "code",
   "execution_count": 15,
   "id": "facial-digit",
   "metadata": {},
   "outputs": [
    {
     "data": {
      "text/html": [
       "<div>\n",
       "<style scoped>\n",
       "    .dataframe tbody tr th:only-of-type {\n",
       "        vertical-align: middle;\n",
       "    }\n",
       "\n",
       "    .dataframe tbody tr th {\n",
       "        vertical-align: top;\n",
       "    }\n",
       "\n",
       "    .dataframe thead th {\n",
       "        text-align: right;\n",
       "    }\n",
       "</style>\n",
       "<table border=\"1\" class=\"dataframe\">\n",
       "  <thead>\n",
       "    <tr style=\"text-align: right;\">\n",
       "      <th></th>\n",
       "      <th>0</th>\n",
       "      <th>1</th>\n",
       "      <th>2</th>\n",
       "    </tr>\n",
       "    <tr>\n",
       "      <th>index</th>\n",
       "      <th></th>\n",
       "      <th></th>\n",
       "      <th></th>\n",
       "    </tr>\n",
       "  </thead>\n",
       "  <tbody>\n",
       "    <tr>\n",
       "      <th>26457</th>\n",
       "      <td>0.060745</td>\n",
       "      <td>0.213474</td>\n",
       "      <td>0.725781</td>\n",
       "    </tr>\n",
       "    <tr>\n",
       "      <th>26458</th>\n",
       "      <td>0.333988</td>\n",
       "      <td>0.292378</td>\n",
       "      <td>0.373634</td>\n",
       "    </tr>\n",
       "    <tr>\n",
       "      <th>26459</th>\n",
       "      <td>0.034598</td>\n",
       "      <td>0.051495</td>\n",
       "      <td>0.913907</td>\n",
       "    </tr>\n",
       "    <tr>\n",
       "      <th>26460</th>\n",
       "      <td>0.076464</td>\n",
       "      <td>0.054618</td>\n",
       "      <td>0.868919</td>\n",
       "    </tr>\n",
       "    <tr>\n",
       "      <th>26461</th>\n",
       "      <td>0.072112</td>\n",
       "      <td>0.185330</td>\n",
       "      <td>0.742558</td>\n",
       "    </tr>\n",
       "  </tbody>\n",
       "</table>\n",
       "</div>"
      ],
      "text/plain": [
       "              0         1         2\n",
       "index                              \n",
       "26457  0.060745  0.213474  0.725781\n",
       "26458  0.333988  0.292378  0.373634\n",
       "26459  0.034598  0.051495  0.913907\n",
       "26460  0.076464  0.054618  0.868919\n",
       "26461  0.072112  0.185330  0.742558"
      ]
     },
     "execution_count": 15,
     "metadata": {},
     "output_type": "execute_result"
    }
   ],
   "source": [
    "sub = pd.read_csv('data/sample_submission.csv', index_col = 0)\n",
    "sub[sub.columns] = rf_pred\n",
    "sub.head()"
   ]
  },
  {
   "cell_type": "code",
   "execution_count": 16,
   "id": "entitled-encounter",
   "metadata": {},
   "outputs": [],
   "source": [
    "sub.to_csv('data/n_estimator 차이.csv')"
   ]
  },
  {
   "cell_type": "markdown",
   "id": "respected-pharmacology",
   "metadata": {},
   "source": [
    "## 교차 검증 사용"
   ]
  },
  {
   "cell_type": "code",
   "execution_count": 54,
   "id": "completed-shannon",
   "metadata": {},
   "outputs": [],
   "source": [
    "ftr = trn.drop(['credit'],axis=1).values\n",
    "target = trn['credit'].values\n",
    "tst_ar = tst.values\n",
    "n_class = 3\n",
    "n_fold = 3"
   ]
  },
  {
   "cell_type": "code",
   "execution_count": 55,
   "id": "rising-special",
   "metadata": {},
   "outputs": [
    {
     "name": "stdout",
     "output_type": "stream",
     "text": [
      "(10000, 20)\n",
      "\n",
      "(26457, 20)\n"
     ]
    }
   ],
   "source": [
    "print(tst_ar.shape)\n",
    "print()\n",
    "print(ftr.shape)"
   ]
  },
  {
   "cell_type": "code",
   "execution_count": null,
   "id": "northern-hardware",
   "metadata": {},
   "outputs": [
    {
     "name": "stdout",
     "output_type": "stream",
     "text": [
      "(26457, 20)\n",
      "\n",
      "(10000, 20)\n",
      "training model for CV #1\n",
      "training model for CV #2\n",
      "training model for CV #3\n",
      "training model for CV #4\n"
     ]
    }
   ],
   "source": [
    "## predict_rf\n",
    "print(ftr.shape)\n",
    "print()\n",
    "print(tst_ar.shape)\n",
    "\n",
    "cv = StratifiedKFold(n_splits=5, shuffle=True, random_state=40)\n",
    "\n",
    "rf_p_val = np.zeros((ftr.shape[0], n_class))\n",
    "rf_p_tst = np.zeros((tst_ar.shape[0], n_class))\n",
    "for i, (i_trn, i_val) in enumerate(cv.split(ftr, target), 1):\n",
    "    print(f'training model for CV #{i}')\n",
    "    rf_clf = RandomForestClassifier(n_estimators = 5000, \n",
    "                                random_state=2021,\n",
    "                                max_features = 3,\n",
    "                                min_samples_split = 6,\n",
    "                                n_jobs=6)\n",
    "    rf_clf.fit(ftr[i_trn], target[i_trn])\n",
    "    rf_p_val[i_val, :] = rf_clf.predict_proba(ftr[i_val])\n",
    "    rf_p_tst += rf_clf.predict_proba(tst_ar) / n_fold\n",
    "    \n",
    "print(f'{log_loss(target, rf_p_val)}')\n",
    "print(f'{confusion_matrix(target, np.argmax(rf_p_val, axis=1))}%')"
   ]
  },
  {
   "cell_type": "markdown",
   "id": "drawn-mandate",
   "metadata": {},
   "source": [
    "- 0.7181191299537627\n",
    ": 3fold\n",
    "[[  564   510  2148]\n",
    " [  137  2700  3430]\n",
    " [  337   865 15766]]%\n",
    "     rf_clf = RandomForestClassifier(n_estimators = 5000, \n",
    "                                random_state=2021,\n",
    "                                max_features = 3,\n",
    "                                min_samples_split = 6,\n",
    "                                n_jobs=6)\n",
    "                                \n",
    "- 0.7027768293407574\n",
    ": 5fold\n",
    "0.7027768293407574\n",
    "[[  656   527  2039]\n",
    " [  149  2864  3254]\n",
    " [  355   899 15714]]%\n",
    "     rf_clf = RandomForestClassifier(n_estimators = 5000, \n",
    "                                random_state=2021,\n",
    "                                max_features = 3,\n",
    "                                min_samples_split = 6,\n",
    "                                n_jobs=6)"
   ]
  },
  {
   "cell_type": "code",
   "execution_count": 41,
   "id": "hybrid-crystal",
   "metadata": {},
   "outputs": [],
   "source": [
    "sub = pd.read_csv('data/sample_submission.csv', index_col = 0)\n",
    "sub\n",
    "sub[sub.columns] = rf_p_tst"
   ]
  },
  {
   "cell_type": "code",
   "execution_count": 42,
   "id": "burning-amateur",
   "metadata": {},
   "outputs": [],
   "source": [
    "sub.to_csv('data/최고기록 CV=5.csv')"
   ]
  },
  {
   "cell_type": "code",
   "execution_count": null,
   "id": "linear-apollo",
   "metadata": {},
   "outputs": [],
   "source": [
    "plot_importance(rf_clf)"
   ]
  },
  {
   "cell_type": "code",
   "execution_count": null,
   "id": "worst-syracuse",
   "metadata": {},
   "outputs": [],
   "source": []
  }
 ],
 "metadata": {
  "kernelspec": {
   "display_name": "Python 3",
   "language": "python",
   "name": "python3"
  },
  "language_info": {
   "codemirror_mode": {
    "name": "ipython",
    "version": 3
   },
   "file_extension": ".py",
   "mimetype": "text/x-python",
   "name": "python",
   "nbconvert_exporter": "python",
   "pygments_lexer": "ipython3",
   "version": "3.7.10"
  }
 },
 "nbformat": 4,
 "nbformat_minor": 5
}
