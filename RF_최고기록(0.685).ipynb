{
 "cells": [
  {
   "cell_type": "code",
   "execution_count": 1,
   "id": "facial-evolution",
   "metadata": {},
   "outputs": [],
   "source": [
    "import pandas as pd\n",
    "import numpy as np\n",
    "from collections import Counter\n",
    "import matplotlib.pyplot as plt\n",
    "import seaborn as sns\n",
    "plt.style.use('ggplot')\n",
    "\n",
    "from sklearn import metrics\n",
    "from sklearn.metrics import confusion_matrix\n",
    "from sklearn.metrics import accuracy_score\n",
    "from sklearn.metrics import precision_score\n",
    "from sklearn.metrics import log_loss\n",
    "from sklearn.preprocessing import LabelEncoder\n",
    "\n",
    "from sklearn.ensemble import RandomForestClassifier\n",
    "\n",
    "from sklearn.model_selection import StratifiedKFold\n",
    "from sklearn.model_selection import train_test_split\n",
    "\n",
    "import warnings\n",
    "warnings.filterwarnings(action = 'ignore')"
   ]
  },
  {
   "cell_type": "code",
   "execution_count": 2,
   "id": "sustainable-desperate",
   "metadata": {},
   "outputs": [],
   "source": [
    "# 데이터 불러오기\n",
    "trn = pd.read_csv('data/train.csv')\n",
    "tst = pd.read_csv('data/test.csv')"
   ]
  },
  {
   "cell_type": "code",
   "execution_count": 3,
   "id": "computational-recognition",
   "metadata": {},
   "outputs": [],
   "source": [
    "## 365 변환\n",
    "def days_to_plus(x):\n",
    "    return (x*-1)/365\n",
    "\n",
    "## 업무 시작일 변환\n",
    "def plus(x):\n",
    "    if x<0:\n",
    "        return x*(-1)\n",
    "    else:\n",
    "        return 0\n",
    "\n",
    "## 나이 양수로 변환\n",
    "trn['birth_plus'] = trn.DAYS_BIRTH.map(days_to_plus)\n",
    "tst['birth_plus'] = tst.DAYS_BIRTH.map(days_to_plus)\n",
    "    \n",
    "## 업무시작일 양수로 변환\n",
    "trn['employed_plus'] = trn.DAYS_EMPLOYED.map(days_to_plus)\n",
    "tst['employed_plus'] = tst.DAYS_EMPLOYED.map(days_to_plus)"
   ]
  },
  {
   "cell_type": "code",
   "execution_count": 4,
   "id": "curious-attempt",
   "metadata": {},
   "outputs": [
    {
     "name": "stdout",
     "output_type": "stream",
     "text": [
      "21 8 13\n"
     ]
    }
   ],
   "source": [
    "index_col = 'index'\n",
    "target_col = 'credit'\n",
    "\n",
    "cat_cols = [x for x in trn.columns if trn[x].dtype == 'object']\n",
    "float_cols = [x for x in trn.columns.drop('credit') if trn[x].dtype == 'float64']\n",
    "num_cols = [x for x in trn.columns if x not in cat_cols + [target_col]]\n",
    "feature_cols = num_cols + cat_cols\n",
    "print(len(feature_cols), len(cat_cols), len(num_cols))"
   ]
  },
  {
   "cell_type": "code",
   "execution_count": 5,
   "id": "convertible-crawford",
   "metadata": {},
   "outputs": [],
   "source": [
    "from sklearn.preprocessing import LabelEncoder\n",
    "\n",
    "lbe = LabelEncoder()\n",
    "for i in cat_cols:\n",
    "    trn[i] = lbe.fit_transform(trn[i].astype(str))\n",
    "    tst[i] = lbe.transform(tst[i].astype(str))\n",
    "    \n",
    "for i in float_cols:\n",
    "    trn[i] = trn[i].astype('int')\n",
    "    tst[i] = tst[i].astype('int')"
   ]
  },
  {
   "cell_type": "code",
   "execution_count": 6,
   "id": "tough-maple",
   "metadata": {},
   "outputs": [],
   "source": [
    "## 인덱스 설정\n",
    "trn.set_index('index', inplace = True)\n",
    "tst.set_index('index', inplace = True)"
   ]
  },
  {
   "cell_type": "code",
   "execution_count": 7,
   "id": "experienced-tiffany",
   "metadata": {},
   "outputs": [],
   "source": [
    "trn.credit = trn.credit.astype('category')"
   ]
  },
  {
   "cell_type": "code",
   "execution_count": 8,
   "id": "pressed-vacation",
   "metadata": {},
   "outputs": [],
   "source": [
    "trn6 = trn.drop(['family_size', 'employed_plus'], axis = 1).copy()"
   ]
  },
  {
   "cell_type": "code",
   "execution_count": 9,
   "id": "refined-texture",
   "metadata": {},
   "outputs": [],
   "source": [
    "## 연봉 제곱 변수 제거\n",
    "trn6['income_total_2'] = trn6.income_total**2\n",
    "tst['income_total_2'] = tst.income_total**2\n",
    "\n",
    "## DAYS_BIRTH 제곱 변수 추가\n",
    "trn6['DAYS_BIRTH**2'] = trn6.DAYS_BIRTH**2\n",
    "tst['DAYS_BIRTH**2'] = tst.DAYS_BIRTH**2\n",
    "\n",
    "## income * days_birth\n",
    "trn6['income_age']=trn6.income_total*trn6.DAYS_BIRTH\n",
    "tst['income_age']=tst.income_total*tst.DAYS_BIRTH\n",
    "\n",
    "## income * DAYS_EMPLOYED\n",
    "trn6['income_emp']=trn6.income_total*trn6.DAYS_EMPLOYED\n",
    "tst['income_emp']=tst.income_total*tst.DAYS_EMPLOYED"
   ]
  },
  {
   "cell_type": "code",
   "execution_count": 10,
   "id": "super-platinum",
   "metadata": {},
   "outputs": [
    {
     "name": "stdout",
     "output_type": "stream",
     "text": [
      "(26457, 23)\n"
     ]
    }
   ],
   "source": [
    "print(trn6.shape)"
   ]
  },
  {
   "cell_type": "code",
   "execution_count": 42,
   "id": "municipal-bench",
   "metadata": {
    "scrolled": true
   },
   "outputs": [
    {
     "data": {
      "text/plain": [
       "<AxesSubplot:xlabel='income_total_2', ylabel='Density'>"
      ]
     },
     "execution_count": 42,
     "metadata": {},
     "output_type": "execute_result"
    },
    {
     "data": {
      "image/png": "[encoded data removed]",
      "text/plain": [
       "<Figure size 432x288 with 1 Axes>"
      ]
     },
     "metadata": {},
     "output_type": "display_data"
    }
   ],
   "source": [
    "sns.distplot(trn6.income_total_2**2, label = i)"
   ]
  },
  {
   "cell_type": "markdown",
   "id": "typical-village",
   "metadata": {},
   "source": [
    "# RF 최고기록"
   ]
  },
  {
   "cell_type": "code",
   "execution_count": 10,
   "id": "central-exhibit",
   "metadata": {},
   "outputs": [],
   "source": [
    "## 조합 9차시도 : \n",
    "\n",
    "trn6.income_total = np.log1p(trn6.income_total)\n",
    "# trn6['DAYS_BIRTH**2'] = np.log1p(trn6['DAYS_BIRTH**2'])\n",
    "trn6.income_total_2 = trn6.income_total_2**2\n",
    "trn6.income_emp = trn6.income_emp**2\n",
    "trn6.income_age = trn6.income_age**3\n",
    "\n",
    "\n",
    "tst.income_total = np.log1p(tst.income_total)\n",
    "# tst['DAYS_BIRTH**2'] = np.log1p(tst['DAYS_BIRTH**2'])\n",
    "tst.income_total_2 = tst.income_total_2**2\n",
    "tst.income_emp = tst.income_emp**2\n",
    "tst.income_age = tst.income_age**3"
   ]
  },
  {
   "cell_type": "code",
   "execution_count": 11,
   "id": "visible-polls",
   "metadata": {},
   "outputs": [],
   "source": [
    "trn6.income_total = trn6.income_total.astype(int)\n",
    "trn6['DAYS_BIRTH**2'] = trn6['DAYS_BIRTH**2'].astype(int)\n",
    "\n",
    "tst.income_total = tst.income_total.astype(int)\n",
    "tst['DAYS_BIRTH**2'] = tst['DAYS_BIRTH**2'].astype(int)"
   ]
  },
  {
   "cell_type": "code",
   "execution_count": 12,
   "id": "unsigned-compatibility",
   "metadata": {},
   "outputs": [
    {
     "name": "stdout",
     "output_type": "stream",
     "text": [
      "(26457, 22)\n",
      "(10000, 22)\n",
      "training model for CV #1\n",
      "training model for CV #2\n",
      "training model for CV #3\n",
      "training model for CV #4\n",
      "training model for CV #5\n",
      "training model for CV #6\n",
      "training model for CV #7\n",
      "training model for CV #8\n",
      "training model for CV #9\n",
      "training model for CV #10\n",
      "0.6858634231403249\n",
      "[[  712   523  1987]\n",
      " [  139  2985  3143]\n",
      " [  345   876 15747]]%\n"
     ]
    }
   ],
   "source": [
    "### 이 기록은 라벨인코딩을 따로 지정하지 않고 한번에 돌린 데이터\n",
    "### trn6은 trn6 = trn.drop(['family_size', 'employed_plus'], axis = 1).copy()이다.\n",
    "### 총 18개의 변수를 사용한 것 -> 최고기록\n",
    "\n",
    "## predict_rf\n",
    "ftr = trn6.drop('credit', axis=1).values\n",
    "target = trn['credit'].values\n",
    "tst_ar = tst.drop(['family_size', 'employed_plus'], axis = 1).values\n",
    "n_class = 3\n",
    "n_fold = 10\n",
    "\n",
    "print(ftr.shape)\n",
    "print(tst_ar.shape)\n",
    "\n",
    "\n",
    "cv = StratifiedKFold(n_splits=n_fold, shuffle=True, random_state=40)\n",
    "\n",
    "rf_p_val = np.zeros((ftr.shape[0], n_class))\n",
    "rf_p_tst = np.zeros((tst_ar.shape[0], n_class))\n",
    "for i, (i_trn, i_val) in enumerate(cv.split(ftr, target), 1):\n",
    "    print(f'training model for CV #{i}')\n",
    "    rf_clf = RandomForestClassifier(n_estimators = 7000, \n",
    "                                random_state=2021,\n",
    "                                max_features = 3,\n",
    "                                min_samples_split = 8,\n",
    "                                n_jobs=2)\n",
    "    rf_clf.fit(ftr[i_trn], target[i_trn])\n",
    "    rf_p_val[i_val, :] = rf_clf.predict_proba(ftr[i_val])\n",
    "    rf_p_tst += rf_clf.predict_proba(tst_ar) / n_fold\n",
    "    \n",
    "print(f'{log_loss(target, rf_p_val)}')\n",
    "print(f'{confusion_matrix(target, np.argmax(rf_p_val, axis=1))}%')"
   ]
  },
  {
   "cell_type": "code",
   "execution_count": 63,
   "id": "checked-fitting",
   "metadata": {},
   "outputs": [],
   "source": [
    "sub = pd.read_csv('data/sample_submission.csv', index_col = 0)\n",
    "sub\n",
    "sub[sub.columns] = rf_p_tst"
   ]
  },
  {
   "cell_type": "code",
   "execution_count": 64,
   "id": "explicit-insurance",
   "metadata": {},
   "outputs": [],
   "source": [
    "sub.to_csv('data/DAYS_BIRTH제곱만 로그 변환 안 함.csv')"
   ]
  },
  {
   "cell_type": "markdown",
   "id": "moderate-constraint",
   "metadata": {},
   "source": [
    "1. trn6.income_age**(3) 으로 했을 때가 0.6866962841415036\n",
    "2. trn6.income_age**13 으로 했을 때가 0.6873255407581582\n",
    "*정규분포 형태와 아닌 형태로 대칭인 것만 같고 조금 다름*\n",
    "=> 직사각형이 더 좋음\n",
    "3. trn6.income_age 변환 안 함 : 0.6884951810307259\n",
    "4. tst.income_emp 변환 안 함 :0.6874159266024837\n",
    "5. trn6.income_total_2 변환 안 함 : 0.686115792094735\n",
    "6. trn6.income_total_2**2 : 0.6860332046797343 => 가장 높은 성능"
   ]
  },
  {
   "cell_type": "markdown",
   "id": "featured-anchor",
   "metadata": {},
   "source": [
    "---"
   ]
  },
  {
   "cell_type": "markdown",
   "id": "exclusive-offset",
   "metadata": {},
   "source": [
    "# 0.6858826235417401\n",
    "\n"
   ]
  },
  {
   "cell_type": "markdown",
   "id": "applied-excerpt",
   "metadata": {},
   "source": [
    "\n",
    "trn6.income_total = np.log1p(trn6.income_total)\n",
    "(주석)# trn6['DAYS_BIRTH**2'] = np.log1p(trn6['DAYS_BIRTH**2'])\n",
    "trn6.income_total_2 = trn6.income_total_2**2\n",
    "trn6.income_emp = trn6.income_emp**2\n",
    "trn6.income_age = trn6.income_age**3\n",
    "\n",
    "\n",
    "for i in ['income_total','DAYS_BIRTH**2']:\n",
    "   tst[i] = np.log1p(tst[i])\n",
    "tst.income_total = np.log1p(tst.income_total)\n",
    "(주석)# tst['DAYS_BIRTH**2'] = np.log1p(tst['DAYS_BIRTH**2'])\n",
    "tst.income_total_2 = tst.income_total_2**2\n",
    "tst.income_emp = tst.income_emp**2\n",
    "tst.income_age = tst.income_age**3"
   ]
  },
  {
   "cell_type": "code",
   "execution_count": null,
   "id": "figured-sweden",
   "metadata": {},
   "outputs": [],
   "source": []
  }
 ],
 "metadata": {
  "kernelspec": {
   "display_name": "Python 3",
   "language": "python",
   "name": "python3"
  },
  "language_info": {
   "codemirror_mode": {
    "name": "ipython",
    "version": 3
   },
   "file_extension": ".py",
   "mimetype": "text/x-python",
   "name": "python",
   "nbconvert_exporter": "python",
   "pygments_lexer": "ipython3",
   "version": "3.7.10"
  }
 },
 "nbformat": 4,
 "nbformat_minor": 5
}
