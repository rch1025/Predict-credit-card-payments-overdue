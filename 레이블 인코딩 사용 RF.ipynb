{
 "cells": [
  {
   "cell_type": "markdown",
   "id": "cloudy-sender",
   "metadata": {},
   "source": [
    "# **** 여기부터 하기 ****"
   ]
  },
  {
   "cell_type": "code",
   "execution_count": 14,
   "id": "selective-finder",
   "metadata": {},
   "outputs": [],
   "source": [
    "import pandas as pd\n",
    "import numpy as np\n",
    "from collections import Counter\n",
    "import matplotlib.pyplot as plt\n",
    "plt.style.use('ggplot')\n",
    "\n",
    "from sklearn.model_selection import train_test_split\n",
    "from sklearn.ensemble import RandomForestClassifier\n",
    "from sklearn import metrics\n",
    "from sklearn.metrics import confusion_matrix\n",
    "from sklearn.metrics import accuracy_score\n",
    "from sklearn.metrics import precision_score\n",
    "from sklearn.model_selection import StratifiedKFold\n",
    "from sklearn.preprocessing import LabelEncoder\n",
    "from sklearn.metrics import log_loss\n",
    "\n",
    "import warnings\n",
    "warnings.filterwarnings(action = 'ignore')"
   ]
  },
  {
   "cell_type": "code",
   "execution_count": 40,
   "id": "green-logistics",
   "metadata": {},
   "outputs": [],
   "source": [
    "trn = pd.read_csv('data/train.csv', index_col = 0)\n",
    "tst = pd.read_csv('data/test.csv', index_col = 0)\n",
    "\n",
    "trn2 = trn.drop('credit', axis = 1)\n",
    "\n",
    "df = pd.concat([trn2,tst])"
   ]
  },
  {
   "cell_type": "code",
   "execution_count": 41,
   "id": "frank-guess",
   "metadata": {},
   "outputs": [],
   "source": [
    "## 나이 변환\n",
    "def days_to_age(x):\n",
    "    return (x*-1)/365\n",
    "\n",
    "## 신용카드 발급월 양수로 전환\n",
    "def begin_plus_month(x):\n",
    "    return (x*-1)\n",
    "\n",
    "## 신용카드 발급월 연도로 전환\n",
    "def begin_plus_year(x):\n",
    "    return (x)//12\n",
    "\n",
    "## 업무 시작일 변환\n",
    "def plus(x):\n",
    "    if x<0:\n",
    "        return x*(-1)\n",
    "    else:\n",
    "        return 0"
   ]
  },
  {
   "cell_type": "markdown",
   "id": "average-moscow",
   "metadata": {},
   "source": [
    "# 변수 생성"
   ]
  },
  {
   "cell_type": "markdown",
   "id": "reliable-broadcast",
   "metadata": {},
   "source": [
    "## 연속형 변수 처리"
   ]
  },
  {
   "cell_type": "code",
   "execution_count": 42,
   "id": "silent-contrary",
   "metadata": {},
   "outputs": [
    {
     "data": {
      "text/plain": [
       "index\n",
       "0        12\n",
       "1         4\n",
       "2        12\n",
       "3         5\n",
       "4         5\n",
       "         ..\n",
       "26452     5\n",
       "26453     6\n",
       "26454     5\n",
       "26455     0\n",
       "26456     2\n",
       "Name: employed_bin2, Length: 26457, dtype: int64"
      ]
     },
     "execution_count": 42,
     "metadata": {},
     "output_type": "execute_result"
    }
   ],
   "source": [
    "## 나이로 변환\n",
    "trn['birth'] = days_to_age(trn.DAYS_BIRTH).round()\n",
    "\n",
    "## 나이 구간화\n",
    "trn['age'] = pd.cut(trn.birth, bins = [0,10,20,30,40,50,60,70], labels = ['10','20','30','40','50','60','70']).astype(int)\n",
    "trn['age']\n",
    "\n",
    "## 신용카드 발급월 변수의 변환\n",
    "trn['begin_month_plus'] = begin_plus_month(trn.begin_month).round()\n",
    "\n",
    "## 신용카드 발급월 연차로 변환\n",
    "trn['begin_month_year'] = begin_plus_year(trn.begin_month_plus)\n",
    "\n",
    "## 신용카드 발급월 구간화\n",
    "trn['begin_month_bin'] = pd.cut(trn.begin_month_plus, bins = [-10,10,20,30,40,50,60,70], labels = ['10','20','30','40','50','60','70']).astype(int)\n",
    "trn['begin_month_bin'].value_counts()\n",
    "\n",
    "## 업무시작일 양수로 변환\n",
    "trn['employed_plus'] = trn.DAYS_EMPLOYED.map(plus)\n",
    "trn['employed_plus']\n",
    "\n",
    "## 0과 1로 범주화 (업무를 하는 사람과 아닌 사람)\n",
    "trn['employed_bin'] = trn.employed_plus.map(lambda x : 0 if x==0 else 1)\n",
    "\n",
    "## 업무 연차로 변환\n",
    "trn['employed_bin2'] = trn['employed_plus']//365\n",
    "trn['employed_bin2']\n",
    "\n",
    "# trn['credit'] = trn.credit.astype('object')"
   ]
  },
  {
   "cell_type": "code",
   "execution_count": 43,
   "id": "severe-solid",
   "metadata": {},
   "outputs": [],
   "source": [
    "## 나이로 변환\n",
    "tst['birth'] = days_to_age(tst.DAYS_BIRTH).round()\n",
    "\n",
    "## 나이 구간화\n",
    "tst['age'] = pd.cut(tst.birth, bins = [0,10,20,30,40,50,60,70], labels = ['10','20','30','40','50','60','70']).astype(int)\n",
    "\n",
    "## 신용카드 발급월 변수의 변환\n",
    "tst['begin_month_plus'] = begin_plus_month(tst.begin_month).round()\n",
    "\n",
    "## 신용카드 발급월 연차로 변환\n",
    "tst['begin_month_year'] = begin_plus_year(tst.begin_month_plus)\n",
    "\n",
    "## 신용카드 발급월 구간화\n",
    "tst['begin_month_bin'] = pd.cut(tst.begin_month_plus, bins = [-10,10,20,30,40,50,60,70], labels = ['10','20','30','40','50','60','70']).astype(int)\n",
    "\n",
    "## 업무시작일 양수로 변환\n",
    "tst['employed_plus'] = tst.DAYS_EMPLOYED.map(plus)\n",
    "\n",
    "## 0과 1로 범주화 (업무를 하는 사람과 아닌 사람)\n",
    "tst['employed_bin'] = tst.employed_plus.map(lambda x : 0 if x==0 else 1)\n",
    "\n",
    "## 업무 연차로 변환\n",
    "tst['employed_bin2'] = tst['employed_plus']//365\n"
   ]
  },
  {
   "cell_type": "markdown",
   "id": "tutorial-course",
   "metadata": {},
   "source": [
    "##  범주형 변수"
   ]
  },
  {
   "cell_type": "code",
   "execution_count": 38,
   "id": "subject-plymouth",
   "metadata": {},
   "outputs": [],
   "source": [
    "## 성별 : 여성을 0으로 남성을 1로 변환\n",
    "trn['gender'] = trn['gender'].map({'F': '0', 'M': '1'})\n",
    "\n",
    "## 자동차 소유 여부 : No 0으로 yes를 1로 변환\n",
    "trn['car'] = trn['car'].map({'N': '0', 'Y': '1'})\n",
    "\n",
    "## 부동산 소유 여부 : No 0으로 yes를 1로 변환\n",
    "trn['reality'] = trn['reality'].map({'N': '0', 'Y': '1'})\n",
    "\n",
    "# trn['edu_type'] = trn.edu_type.map({'Academic degree' : '0', \n",
    "#                   \"Lower secondary\" : '1', \n",
    "#                   'Incomplete higher' : '2',\n",
    "#                  'Secondary / secondary special':'3',\n",
    "#                  'Higher education':4})\n",
    "\n",
    "# trn['income_type'] = trn.income_type.map({'Commercial associate' : '0', \n",
    "#                   \"Working\" : '1', \n",
    "#                   'State servant' : '2',\n",
    "#                  'Pensioner':'3',\n",
    "#                  'Student':'4'})\n",
    "\n",
    "# trn['family_type'] = trn.family_type.map({'Married' : '0', \n",
    "#                   \"Civil marriage\" : '1', \n",
    "#                   'Separated' : '2',\n",
    "#                  'Single / not married':'3',\n",
    "#                  'Widow':'4'})\n",
    "\n",
    "# trn['house_type'] = trn.house_type.map({'Municipal apartment' : '0', \n",
    "#                   \"House / apartment\" : '1', \n",
    "#                   'With parents' : '2',\n",
    "#                  'Co-op apartment':'3',\n",
    "#                  'Rented apartment':'4',\n",
    "#                   'Office apartment' : '5'  })"
   ]
  },
  {
   "cell_type": "code",
   "execution_count": 39,
   "id": "streaming-election",
   "metadata": {},
   "outputs": [],
   "source": [
    "## 성별 : 여성을 0으로 남성을 1로 변환\n",
    "tst['gender'] = tst['gender'].map({'F': '0', 'M': '1'})\n",
    "\n",
    "## 자동차 소유 여부 : No 0으로 yes를 1로 변환\n",
    "tst['car'] = tst['car'].map({'N': '0', 'Y': '1'})\n",
    "\n",
    "## 부동산 소유 여부 : No 0으로 yes를 1로 변환\n",
    "tst['reality'] = tst['reality'].map({'N': '0', 'Y': '1'})\n",
    "\n",
    "# tst['edu_type'] = tst.edu_type.map({'Academic degree' : 0, \n",
    "#                   \"Lower secondary\" : 1, \n",
    "#                   'Incomplete higher' : 2,\n",
    "#                  'Secondary / secondary special':3,\n",
    "#                  'Higher education':4})\n",
    "\n",
    "# tst['income_type'] = tst.income_type.map({'Commercial associate' : '0', \n",
    "#                   \"Working\" : '1', \n",
    "#                   'State servant' : '2',\n",
    "#                  'Pensioner':'3',\n",
    "#                  'Student':'4'})\n",
    "\n",
    "# tst['family_type'] = tst.family_type.map({'Married' : '0', \n",
    "#                   \"Civil marriage\" : '1', \n",
    "#                   'Separated' : '2',\n",
    "#                  'Single / not married':'3',\n",
    "#                  'Widow':'4'})\n",
    "\n",
    "# tst['house_type'] = tst.house_type.map({'Municipal apartment' : '0', \n",
    "#                   \"House / apartment\" : '1', \n",
    "#                   'With parents' : '2',\n",
    "#                  'Co-op apartment':'3',\n",
    "#                  'Rented apartment':'4',\n",
    "#                   'Office apartment' : '5'  })"
   ]
  },
  {
   "cell_type": "markdown",
   "id": "discrete-animation",
   "metadata": {},
   "source": [
    "## NONE 범주 사용"
   ]
  },
  {
   "cell_type": "code",
   "execution_count": 44,
   "id": "aerial-chase",
   "metadata": {},
   "outputs": [],
   "source": [
    "## occyp_type의 결측값들을 NONE이라는 범주로 만듦\n",
    "trn['occyp_type'] = trn['occyp_type'].fillna('NONE').astype(str).values\n",
    "tst['occyp_type'] = tst['occyp_type'].fillna('NONE').astype(str).values"
   ]
  },
  {
   "cell_type": "markdown",
   "id": "interesting-hungarian",
   "metadata": {},
   "source": [
    "## 라벨 인코딩 (보류)"
   ]
  },
  {
   "cell_type": "code",
   "execution_count": 46,
   "id": "american-studio",
   "metadata": {},
   "outputs": [
    {
     "name": "stdout",
     "output_type": "stream",
     "text": [
      "<class 'pandas.core.frame.DataFrame'>\n",
      "Int64Index: 26457 entries, 0 to 26456\n",
      "Data columns (total 27 columns):\n",
      " #   Column            Non-Null Count  Dtype  \n",
      "---  ------            --------------  -----  \n",
      " 0   gender            26457 non-null  object \n",
      " 1   car               26457 non-null  object \n",
      " 2   reality           26457 non-null  object \n",
      " 3   child_num         26457 non-null  int64  \n",
      " 4   income_total      26457 non-null  float64\n",
      " 5   income_type       26457 non-null  object \n",
      " 6   edu_type          26457 non-null  object \n",
      " 7   family_type       26457 non-null  object \n",
      " 8   house_type        26457 non-null  object \n",
      " 9   DAYS_BIRTH        26457 non-null  int64  \n",
      " 10  DAYS_EMPLOYED     26457 non-null  int64  \n",
      " 11  FLAG_MOBIL        26457 non-null  int64  \n",
      " 12  work_phone        26457 non-null  int64  \n",
      " 13  phone             26457 non-null  int64  \n",
      " 14  email             26457 non-null  int64  \n",
      " 15  occyp_type        26457 non-null  object \n",
      " 16  family_size       26457 non-null  float64\n",
      " 17  begin_month       26457 non-null  float64\n",
      " 18  credit            26457 non-null  float64\n",
      " 19  birth             26457 non-null  float64\n",
      " 20  age               26457 non-null  int32  \n",
      " 21  begin_month_plus  26457 non-null  float64\n",
      " 22  begin_month_year  26457 non-null  float64\n",
      " 23  begin_month_bin   26457 non-null  int32  \n",
      " 24  employed_plus     26457 non-null  int64  \n",
      " 25  employed_bin      26457 non-null  int64  \n",
      " 26  employed_bin2     26457 non-null  int64  \n",
      "dtypes: float64(7), int32(2), int64(10), object(8)\n",
      "memory usage: 5.4+ MB\n"
     ]
    }
   ],
   "source": [
    "trn.info()"
   ]
  },
  {
   "cell_type": "code",
   "execution_count": 45,
   "id": "planned-citation",
   "metadata": {},
   "outputs": [
    {
     "name": "stdout",
     "output_type": "stream",
     "text": [
      "26 8 18\n"
     ]
    }
   ],
   "source": [
    "index_col = 'index'\n",
    "target_col = 'credit'\n",
    "\n",
    "cat_cols = [x for x in trn.columns if trn[x].dtype == 'object']\n",
    "num_cols = [x for x in trn.columns if x not in cat_cols + [target_col]]\n",
    "feature_cols = num_cols + cat_cols\n",
    "print(len(feature_cols), len(cat_cols), len(num_cols))"
   ]
  },
  {
   "cell_type": "code",
   "execution_count": 47,
   "id": "little-gender",
   "metadata": {},
   "outputs": [],
   "source": [
    "from sklearn.preprocessing import LabelEncoder\n",
    "\n",
    "lbe = LabelEncoder()\n",
    "for i in cat_cols:\n",
    "    trn[i] = lbe.fit_transform(trn[i])\n",
    "    tst[i] = lbe.transform(tst[i])"
   ]
  },
  {
   "cell_type": "code",
   "execution_count": 49,
   "id": "minimal-beauty",
   "metadata": {},
   "outputs": [
    {
     "data": {
      "text/html": [
       "<div>\n",
       "<style scoped>\n",
       "    .dataframe tbody tr th:only-of-type {\n",
       "        vertical-align: middle;\n",
       "    }\n",
       "\n",
       "    .dataframe tbody tr th {\n",
       "        vertical-align: top;\n",
       "    }\n",
       "\n",
       "    .dataframe thead th {\n",
       "        text-align: right;\n",
       "    }\n",
       "</style>\n",
       "<table border=\"1\" class=\"dataframe\">\n",
       "  <thead>\n",
       "    <tr style=\"text-align: right;\">\n",
       "      <th></th>\n",
       "      <th>gender</th>\n",
       "      <th>car</th>\n",
       "      <th>reality</th>\n",
       "      <th>child_num</th>\n",
       "      <th>income_total</th>\n",
       "      <th>income_type</th>\n",
       "      <th>edu_type</th>\n",
       "      <th>family_type</th>\n",
       "      <th>house_type</th>\n",
       "      <th>DAYS_BIRTH</th>\n",
       "      <th>...</th>\n",
       "      <th>begin_month</th>\n",
       "      <th>credit</th>\n",
       "      <th>birth</th>\n",
       "      <th>age</th>\n",
       "      <th>begin_month_plus</th>\n",
       "      <th>begin_month_year</th>\n",
       "      <th>begin_month_bin</th>\n",
       "      <th>employed_plus</th>\n",
       "      <th>employed_bin</th>\n",
       "      <th>employed_bin2</th>\n",
       "    </tr>\n",
       "    <tr>\n",
       "      <th>index</th>\n",
       "      <th></th>\n",
       "      <th></th>\n",
       "      <th></th>\n",
       "      <th></th>\n",
       "      <th></th>\n",
       "      <th></th>\n",
       "      <th></th>\n",
       "      <th></th>\n",
       "      <th></th>\n",
       "      <th></th>\n",
       "      <th></th>\n",
       "      <th></th>\n",
       "      <th></th>\n",
       "      <th></th>\n",
       "      <th></th>\n",
       "      <th></th>\n",
       "      <th></th>\n",
       "      <th></th>\n",
       "      <th></th>\n",
       "      <th></th>\n",
       "      <th></th>\n",
       "    </tr>\n",
       "  </thead>\n",
       "  <tbody>\n",
       "    <tr>\n",
       "      <th>0</th>\n",
       "      <td>0</td>\n",
       "      <td>0</td>\n",
       "      <td>0</td>\n",
       "      <td>0</td>\n",
       "      <td>202500.0</td>\n",
       "      <td>0</td>\n",
       "      <td>1</td>\n",
       "      <td>1</td>\n",
       "      <td>2</td>\n",
       "      <td>-13899</td>\n",
       "      <td>...</td>\n",
       "      <td>-6.0</td>\n",
       "      <td>1.0</td>\n",
       "      <td>38.0</td>\n",
       "      <td>40</td>\n",
       "      <td>6.0</td>\n",
       "      <td>0.0</td>\n",
       "      <td>10</td>\n",
       "      <td>4709</td>\n",
       "      <td>1</td>\n",
       "      <td>12</td>\n",
       "    </tr>\n",
       "    <tr>\n",
       "      <th>1</th>\n",
       "      <td>0</td>\n",
       "      <td>0</td>\n",
       "      <td>1</td>\n",
       "      <td>1</td>\n",
       "      <td>247500.0</td>\n",
       "      <td>0</td>\n",
       "      <td>4</td>\n",
       "      <td>0</td>\n",
       "      <td>1</td>\n",
       "      <td>-11380</td>\n",
       "      <td>...</td>\n",
       "      <td>-5.0</td>\n",
       "      <td>1.0</td>\n",
       "      <td>31.0</td>\n",
       "      <td>40</td>\n",
       "      <td>5.0</td>\n",
       "      <td>0.0</td>\n",
       "      <td>10</td>\n",
       "      <td>1540</td>\n",
       "      <td>1</td>\n",
       "      <td>4</td>\n",
       "    </tr>\n",
       "    <tr>\n",
       "      <th>2</th>\n",
       "      <td>1</td>\n",
       "      <td>1</td>\n",
       "      <td>1</td>\n",
       "      <td>0</td>\n",
       "      <td>450000.0</td>\n",
       "      <td>4</td>\n",
       "      <td>1</td>\n",
       "      <td>1</td>\n",
       "      <td>1</td>\n",
       "      <td>-19087</td>\n",
       "      <td>...</td>\n",
       "      <td>-22.0</td>\n",
       "      <td>2.0</td>\n",
       "      <td>52.0</td>\n",
       "      <td>60</td>\n",
       "      <td>22.0</td>\n",
       "      <td>1.0</td>\n",
       "      <td>30</td>\n",
       "      <td>4434</td>\n",
       "      <td>1</td>\n",
       "      <td>12</td>\n",
       "    </tr>\n",
       "    <tr>\n",
       "      <th>3</th>\n",
       "      <td>0</td>\n",
       "      <td>0</td>\n",
       "      <td>1</td>\n",
       "      <td>0</td>\n",
       "      <td>202500.0</td>\n",
       "      <td>0</td>\n",
       "      <td>4</td>\n",
       "      <td>1</td>\n",
       "      <td>1</td>\n",
       "      <td>-15088</td>\n",
       "      <td>...</td>\n",
       "      <td>-37.0</td>\n",
       "      <td>0.0</td>\n",
       "      <td>41.0</td>\n",
       "      <td>50</td>\n",
       "      <td>37.0</td>\n",
       "      <td>3.0</td>\n",
       "      <td>40</td>\n",
       "      <td>2092</td>\n",
       "      <td>1</td>\n",
       "      <td>5</td>\n",
       "    </tr>\n",
       "    <tr>\n",
       "      <th>4</th>\n",
       "      <td>0</td>\n",
       "      <td>1</td>\n",
       "      <td>1</td>\n",
       "      <td>0</td>\n",
       "      <td>157500.0</td>\n",
       "      <td>2</td>\n",
       "      <td>1</td>\n",
       "      <td>1</td>\n",
       "      <td>1</td>\n",
       "      <td>-15037</td>\n",
       "      <td>...</td>\n",
       "      <td>-26.0</td>\n",
       "      <td>2.0</td>\n",
       "      <td>41.0</td>\n",
       "      <td>50</td>\n",
       "      <td>26.0</td>\n",
       "      <td>2.0</td>\n",
       "      <td>30</td>\n",
       "      <td>2105</td>\n",
       "      <td>1</td>\n",
       "      <td>5</td>\n",
       "    </tr>\n",
       "  </tbody>\n",
       "</table>\n",
       "<p>5 rows × 27 columns</p>\n",
       "</div>"
      ],
      "text/plain": [
       "       gender  car  reality  child_num  income_total  income_type  edu_type  \\\n",
       "index                                                                         \n",
       "0           0    0        0          0      202500.0            0         1   \n",
       "1           0    0        1          1      247500.0            0         4   \n",
       "2           1    1        1          0      450000.0            4         1   \n",
       "3           0    0        1          0      202500.0            0         4   \n",
       "4           0    1        1          0      157500.0            2         1   \n",
       "\n",
       "       family_type  house_type  DAYS_BIRTH  ...  begin_month  credit  birth  \\\n",
       "index                                       ...                               \n",
       "0                1           2      -13899  ...         -6.0     1.0   38.0   \n",
       "1                0           1      -11380  ...         -5.0     1.0   31.0   \n",
       "2                1           1      -19087  ...        -22.0     2.0   52.0   \n",
       "3                1           1      -15088  ...        -37.0     0.0   41.0   \n",
       "4                1           1      -15037  ...        -26.0     2.0   41.0   \n",
       "\n",
       "       age  begin_month_plus  begin_month_year  begin_month_bin  \\\n",
       "index                                                             \n",
       "0       40               6.0               0.0               10   \n",
       "1       40               5.0               0.0               10   \n",
       "2       60              22.0               1.0               30   \n",
       "3       50              37.0               3.0               40   \n",
       "4       50              26.0               2.0               30   \n",
       "\n",
       "       employed_plus  employed_bin  employed_bin2  \n",
       "index                                              \n",
       "0               4709             1             12  \n",
       "1               1540             1              4  \n",
       "2               4434             1             12  \n",
       "3               2092             1              5  \n",
       "4               2105             1              5  \n",
       "\n",
       "[5 rows x 27 columns]"
      ]
     },
     "execution_count": 49,
     "metadata": {},
     "output_type": "execute_result"
    }
   ],
   "source": [
    "trn.head()"
   ]
  },
  {
   "cell_type": "code",
   "execution_count": 50,
   "id": "stylish-intensity",
   "metadata": {},
   "outputs": [
    {
     "data": {
      "text/plain": [
       "gender              0\n",
       "car                 0\n",
       "reality             0\n",
       "child_num           0\n",
       "income_total        0\n",
       "income_type         0\n",
       "edu_type            0\n",
       "family_type         0\n",
       "house_type          0\n",
       "DAYS_BIRTH          0\n",
       "DAYS_EMPLOYED       0\n",
       "FLAG_MOBIL          0\n",
       "work_phone          0\n",
       "phone               0\n",
       "email               0\n",
       "occyp_type          0\n",
       "family_size         0\n",
       "begin_month         0\n",
       "birth               0\n",
       "age                 0\n",
       "begin_month_plus    0\n",
       "begin_month_year    0\n",
       "begin_month_bin     0\n",
       "employed_plus       0\n",
       "employed_bin        0\n",
       "employed_bin2       0\n",
       "dtype: int64"
      ]
     },
     "execution_count": 50,
     "metadata": {},
     "output_type": "execute_result"
    }
   ],
   "source": [
    "## 결측치 없음\n",
    "trn.isnull().sum()\n",
    "tst.isnull().sum()"
   ]
  },
  {
   "cell_type": "markdown",
   "id": "early-empire",
   "metadata": {},
   "source": [
    "# 로그로스 함수"
   ]
  },
  {
   "cell_type": "code",
   "execution_count": 153,
   "id": "coral-spider",
   "metadata": {},
   "outputs": [
    {
     "data": {
      "text/plain": [
       "0.7623861475096417"
      ]
     },
     "execution_count": 153,
     "metadata": {},
     "output_type": "execute_result"
    }
   ],
   "source": [
    "log_loss(y_test, RF_pred)"
   ]
  },
  {
   "cell_type": "markdown",
   "id": "rational-milan",
   "metadata": {},
   "source": [
    "# 랜덤 포레스트"
   ]
  },
  {
   "cell_type": "code",
   "execution_count": 56,
   "id": "compound-canada",
   "metadata": {},
   "outputs": [],
   "source": [
    "ftr = trn.drop(['credit'],axis=1).values\n",
    "target = trn['credit'].values\n",
    "tst_ar = tst.values\n",
    "n_class = 3\n",
    "n_fold = 5"
   ]
  },
  {
   "cell_type": "code",
   "execution_count": 57,
   "id": "protecting-douglas",
   "metadata": {},
   "outputs": [
    {
     "data": {
      "text/plain": [
       "(10000, 26)"
      ]
     },
     "execution_count": 57,
     "metadata": {},
     "output_type": "execute_result"
    }
   ],
   "source": [
    "tst_ar.shape"
   ]
  },
  {
   "cell_type": "code",
   "execution_count": 59,
   "id": "chubby-reading",
   "metadata": {
    "scrolled": false
   },
   "outputs": [
    {
     "name": "stdout",
     "output_type": "stream",
     "text": [
      "training model for CV #1\n"
     ]
    },
    {
     "name": "stderr",
     "output_type": "stream",
     "text": [
      "[Parallel(n_jobs=10)]: Using backend ThreadingBackend with 10 concurrent workers.\n",
      "[Parallel(n_jobs=10)]: Done  30 tasks      | elapsed:    0.0s\n",
      "[Parallel(n_jobs=10)]: Done 180 tasks      | elapsed:    0.7s\n",
      "[Parallel(n_jobs=10)]: Done 430 tasks      | elapsed:    1.7s\n",
      "[Parallel(n_jobs=10)]: Done 780 tasks      | elapsed:    3.2s\n",
      "[Parallel(n_jobs=10)]: Done 1230 tasks      | elapsed:    5.1s\n",
      "[Parallel(n_jobs=10)]: Done 1780 tasks      | elapsed:    7.6s\n",
      "[Parallel(n_jobs=10)]: Done 2000 out of 2000 | elapsed:    8.6s finished\n",
      "[Parallel(n_jobs=10)]: Using backend ThreadingBackend with 10 concurrent workers.\n",
      "[Parallel(n_jobs=10)]: Done  30 tasks      | elapsed:    0.0s\n",
      "[Parallel(n_jobs=10)]: Done 180 tasks      | elapsed:    0.0s\n",
      "[Parallel(n_jobs=10)]: Done 430 tasks      | elapsed:    0.0s\n",
      "[Parallel(n_jobs=10)]: Done 780 tasks      | elapsed:    0.1s\n",
      "[Parallel(n_jobs=10)]: Done 1230 tasks      | elapsed:    0.2s\n",
      "[Parallel(n_jobs=10)]: Done 1780 tasks      | elapsed:    0.4s\n",
      "[Parallel(n_jobs=10)]: Done 2000 out of 2000 | elapsed:    0.4s finished\n",
      "[Parallel(n_jobs=10)]: Using backend ThreadingBackend with 10 concurrent workers.\n",
      "[Parallel(n_jobs=10)]: Done  30 tasks      | elapsed:    0.0s\n",
      "[Parallel(n_jobs=10)]: Done 180 tasks      | elapsed:    0.0s\n",
      "[Parallel(n_jobs=10)]: Done 430 tasks      | elapsed:    0.0s\n",
      "[Parallel(n_jobs=10)]: Done 780 tasks      | elapsed:    0.2s\n",
      "[Parallel(n_jobs=10)]: Done 1230 tasks      | elapsed:    0.3s\n",
      "[Parallel(n_jobs=10)]: Done 1780 tasks      | elapsed:    0.5s\n",
      "[Parallel(n_jobs=10)]: Done 2000 out of 2000 | elapsed:    0.6s finished\n"
     ]
    },
    {
     "name": "stdout",
     "output_type": "stream",
     "text": [
      "training model for CV #2\n"
     ]
    },
    {
     "name": "stderr",
     "output_type": "stream",
     "text": [
      "[Parallel(n_jobs=10)]: Using backend ThreadingBackend with 10 concurrent workers.\n",
      "[Parallel(n_jobs=10)]: Done  30 tasks      | elapsed:    0.0s\n",
      "[Parallel(n_jobs=10)]: Done 180 tasks      | elapsed:    0.7s\n",
      "[Parallel(n_jobs=10)]: Done 430 tasks      | elapsed:    1.8s\n",
      "[Parallel(n_jobs=10)]: Done 780 tasks      | elapsed:    3.3s\n",
      "[Parallel(n_jobs=10)]: Done 1230 tasks      | elapsed:    5.2s\n",
      "[Parallel(n_jobs=10)]: Done 1780 tasks      | elapsed:    7.5s\n",
      "[Parallel(n_jobs=10)]: Done 2000 out of 2000 | elapsed:    8.6s finished\n",
      "[Parallel(n_jobs=10)]: Using backend ThreadingBackend with 10 concurrent workers.\n",
      "[Parallel(n_jobs=10)]: Done  30 tasks      | elapsed:    0.0s\n",
      "[Parallel(n_jobs=10)]: Done 180 tasks      | elapsed:    0.0s\n",
      "[Parallel(n_jobs=10)]: Done 430 tasks      | elapsed:    0.0s\n",
      "[Parallel(n_jobs=10)]: Done 780 tasks      | elapsed:    0.1s\n",
      "[Parallel(n_jobs=10)]: Done 1230 tasks      | elapsed:    0.2s\n",
      "[Parallel(n_jobs=10)]: Done 1780 tasks      | elapsed:    0.4s\n",
      "[Parallel(n_jobs=10)]: Done 2000 out of 2000 | elapsed:    0.4s finished\n",
      "[Parallel(n_jobs=10)]: Using backend ThreadingBackend with 10 concurrent workers.\n",
      "[Parallel(n_jobs=10)]: Done  30 tasks      | elapsed:    0.0s\n",
      "[Parallel(n_jobs=10)]: Done 180 tasks      | elapsed:    0.0s\n",
      "[Parallel(n_jobs=10)]: Done 430 tasks      | elapsed:    0.0s\n",
      "[Parallel(n_jobs=10)]: Done 780 tasks      | elapsed:    0.2s\n",
      "[Parallel(n_jobs=10)]: Done 1230 tasks      | elapsed:    0.3s\n",
      "[Parallel(n_jobs=10)]: Done 1780 tasks      | elapsed:    0.5s\n",
      "[Parallel(n_jobs=10)]: Done 2000 out of 2000 | elapsed:    0.6s finished\n"
     ]
    },
    {
     "name": "stdout",
     "output_type": "stream",
     "text": [
      "training model for CV #3\n"
     ]
    },
    {
     "name": "stderr",
     "output_type": "stream",
     "text": [
      "[Parallel(n_jobs=10)]: Using backend ThreadingBackend with 10 concurrent workers.\n",
      "[Parallel(n_jobs=10)]: Done  30 tasks      | elapsed:    0.0s\n",
      "[Parallel(n_jobs=10)]: Done 180 tasks      | elapsed:    0.7s\n",
      "[Parallel(n_jobs=10)]: Done 430 tasks      | elapsed:    1.8s\n",
      "[Parallel(n_jobs=10)]: Done 780 tasks      | elapsed:    3.3s\n",
      "[Parallel(n_jobs=10)]: Done 1230 tasks      | elapsed:    5.2s\n",
      "[Parallel(n_jobs=10)]: Done 1780 tasks      | elapsed:    7.6s\n",
      "[Parallel(n_jobs=10)]: Done 2000 out of 2000 | elapsed:    8.6s finished\n",
      "[Parallel(n_jobs=10)]: Using backend ThreadingBackend with 10 concurrent workers.\n",
      "[Parallel(n_jobs=10)]: Done  30 tasks      | elapsed:    0.0s\n",
      "[Parallel(n_jobs=10)]: Done 180 tasks      | elapsed:    0.0s\n",
      "[Parallel(n_jobs=10)]: Done 430 tasks      | elapsed:    0.0s\n",
      "[Parallel(n_jobs=10)]: Done 780 tasks      | elapsed:    0.1s\n",
      "[Parallel(n_jobs=10)]: Done 1230 tasks      | elapsed:    0.2s\n",
      "[Parallel(n_jobs=10)]: Done 1780 tasks      | elapsed:    0.4s\n",
      "[Parallel(n_jobs=10)]: Done 2000 out of 2000 | elapsed:    0.4s finished\n",
      "[Parallel(n_jobs=10)]: Using backend ThreadingBackend with 10 concurrent workers.\n",
      "[Parallel(n_jobs=10)]: Done  30 tasks      | elapsed:    0.0s\n",
      "[Parallel(n_jobs=10)]: Done 180 tasks      | elapsed:    0.0s\n",
      "[Parallel(n_jobs=10)]: Done 430 tasks      | elapsed:    0.0s\n",
      "[Parallel(n_jobs=10)]: Done 780 tasks      | elapsed:    0.2s\n",
      "[Parallel(n_jobs=10)]: Done 1230 tasks      | elapsed:    0.3s\n",
      "[Parallel(n_jobs=10)]: Done 1780 tasks      | elapsed:    0.5s\n",
      "[Parallel(n_jobs=10)]: Done 2000 out of 2000 | elapsed:    0.6s finished\n"
     ]
    },
    {
     "name": "stdout",
     "output_type": "stream",
     "text": [
      "training model for CV #4\n"
     ]
    },
    {
     "name": "stderr",
     "output_type": "stream",
     "text": [
      "[Parallel(n_jobs=10)]: Using backend ThreadingBackend with 10 concurrent workers.\n",
      "[Parallel(n_jobs=10)]: Done  30 tasks      | elapsed:    0.1s\n",
      "[Parallel(n_jobs=10)]: Done 180 tasks      | elapsed:    0.7s\n",
      "[Parallel(n_jobs=10)]: Done 430 tasks      | elapsed:    1.8s\n",
      "[Parallel(n_jobs=10)]: Done 780 tasks      | elapsed:    3.3s\n",
      "[Parallel(n_jobs=10)]: Done 1230 tasks      | elapsed:    5.3s\n",
      "[Parallel(n_jobs=10)]: Done 1780 tasks      | elapsed:    7.7s\n",
      "[Parallel(n_jobs=10)]: Done 2000 out of 2000 | elapsed:    8.7s finished\n",
      "[Parallel(n_jobs=10)]: Using backend ThreadingBackend with 10 concurrent workers.\n",
      "[Parallel(n_jobs=10)]: Done  30 tasks      | elapsed:    0.0s\n",
      "[Parallel(n_jobs=10)]: Done 180 tasks      | elapsed:    0.0s\n",
      "[Parallel(n_jobs=10)]: Done 430 tasks      | elapsed:    0.0s\n",
      "[Parallel(n_jobs=10)]: Done 780 tasks      | elapsed:    0.1s\n",
      "[Parallel(n_jobs=10)]: Done 1230 tasks      | elapsed:    0.2s\n",
      "[Parallel(n_jobs=10)]: Done 1780 tasks      | elapsed:    0.4s\n",
      "[Parallel(n_jobs=10)]: Done 2000 out of 2000 | elapsed:    0.4s finished\n",
      "[Parallel(n_jobs=10)]: Using backend ThreadingBackend with 10 concurrent workers.\n",
      "[Parallel(n_jobs=10)]: Done  30 tasks      | elapsed:    0.0s\n",
      "[Parallel(n_jobs=10)]: Done 180 tasks      | elapsed:    0.0s\n",
      "[Parallel(n_jobs=10)]: Done 430 tasks      | elapsed:    0.0s\n",
      "[Parallel(n_jobs=10)]: Done 780 tasks      | elapsed:    0.2s\n",
      "[Parallel(n_jobs=10)]: Done 1230 tasks      | elapsed:    0.3s\n",
      "[Parallel(n_jobs=10)]: Done 1780 tasks      | elapsed:    0.5s\n",
      "[Parallel(n_jobs=10)]: Done 2000 out of 2000 | elapsed:    0.6s finished\n"
     ]
    },
    {
     "name": "stdout",
     "output_type": "stream",
     "text": [
      "training model for CV #5\n"
     ]
    },
    {
     "name": "stderr",
     "output_type": "stream",
     "text": [
      "[Parallel(n_jobs=10)]: Using backend ThreadingBackend with 10 concurrent workers.\n",
      "[Parallel(n_jobs=10)]: Done  30 tasks      | elapsed:    0.1s\n",
      "[Parallel(n_jobs=10)]: Done 180 tasks      | elapsed:    0.7s\n",
      "[Parallel(n_jobs=10)]: Done 430 tasks      | elapsed:    1.8s\n",
      "[Parallel(n_jobs=10)]: Done 780 tasks      | elapsed:    3.3s\n",
      "[Parallel(n_jobs=10)]: Done 1230 tasks      | elapsed:    5.3s\n",
      "[Parallel(n_jobs=10)]: Done 1780 tasks      | elapsed:    7.8s\n",
      "[Parallel(n_jobs=10)]: Done 2000 out of 2000 | elapsed:    8.7s finished\n",
      "[Parallel(n_jobs=10)]: Using backend ThreadingBackend with 10 concurrent workers.\n",
      "[Parallel(n_jobs=10)]: Done  30 tasks      | elapsed:    0.0s\n",
      "[Parallel(n_jobs=10)]: Done 180 tasks      | elapsed:    0.0s\n",
      "[Parallel(n_jobs=10)]: Done 430 tasks      | elapsed:    0.0s\n",
      "[Parallel(n_jobs=10)]: Done 780 tasks      | elapsed:    0.1s\n",
      "[Parallel(n_jobs=10)]: Done 1230 tasks      | elapsed:    0.2s\n",
      "[Parallel(n_jobs=10)]: Done 1780 tasks      | elapsed:    0.4s\n",
      "[Parallel(n_jobs=10)]: Done 2000 out of 2000 | elapsed:    0.4s finished\n",
      "[Parallel(n_jobs=10)]: Using backend ThreadingBackend with 10 concurrent workers.\n",
      "[Parallel(n_jobs=10)]: Done  30 tasks      | elapsed:    0.0s\n",
      "[Parallel(n_jobs=10)]: Done 180 tasks      | elapsed:    0.0s\n",
      "[Parallel(n_jobs=10)]: Done 430 tasks      | elapsed:    0.0s\n",
      "[Parallel(n_jobs=10)]: Done 780 tasks      | elapsed:    0.2s\n",
      "[Parallel(n_jobs=10)]: Done 1230 tasks      | elapsed:    0.3s\n"
     ]
    },
    {
     "name": "stdout",
     "output_type": "stream",
     "text": [
      "0.7662433912513975\n",
      "[[  598   510  2114]\n",
      " [  205  2508  3554]\n",
      " [  486  1090 15392]]%\n"
     ]
    },
    {
     "name": "stderr",
     "output_type": "stream",
     "text": [
      "[Parallel(n_jobs=10)]: Done 1780 tasks      | elapsed:    0.5s\n",
      "[Parallel(n_jobs=10)]: Done 2000 out of 2000 | elapsed:    0.6s finished\n"
     ]
    }
   ],
   "source": [
    "## predict_rf\n",
    "\n",
    "cv = StratifiedKFold(n_splits=5, shuffle=True, random_state=40)\n",
    "\n",
    "rf_p_val = np.zeros((ftr.shape[0], n_class))\n",
    "rf_p_tst = np.zeros((tst_ar.shape[0], n_class))\n",
    "for i, (i_trn, i_val) in enumerate(cv.split(ftr, target), 1):\n",
    "    print(f'training model for CV #{i}')\n",
    "    rf_clf = RandomForestClassifier(n_estimators = 2000, \n",
    "                                random_state=40,\n",
    "                                verbose=True,\n",
    "                                oob_score=True,\n",
    "                                n_jobs=10)\n",
    "    rf_clf.fit(ftr[i_trn], target[i_trn])\n",
    "    rf_p_val[i_val, :] = rf_clf.predict_proba(ftr[i_val])\n",
    "    rf_p_tst += rf_clf.predict_proba(tst_ar) / n_fold\n",
    "    \n",
    "print(f'{log_loss(target, rf_p_val)}')\n",
    "print(f'{confusion_matrix(target, np.argmax(rf_p_val, axis=1))}%')"
   ]
  },
  {
   "cell_type": "markdown",
   "id": "eight-amplifier",
   "metadata": {},
   "source": [
    "# 제출하기"
   ]
  },
  {
   "cell_type": "code",
   "execution_count": 175,
   "id": "demonstrated-schedule",
   "metadata": {},
   "outputs": [],
   "source": [
    "sub = pd.read_csv('data/sample_submission.csv', index_col = 0)\n",
    "sub\n",
    "sub[sub.columns] = rf_p_tst"
   ]
  },
  {
   "cell_type": "code",
   "execution_count": 177,
   "id": "arbitrary-netscape",
   "metadata": {},
   "outputs": [],
   "source": [
    "sub.to_csv('data/210428_rf_처음.csv')"
   ]
  },
  {
   "cell_type": "code",
   "execution_count": null,
   "id": "cathedral-bible",
   "metadata": {},
   "outputs": [],
   "source": []
  }
 ],
 "metadata": {
  "kernelspec": {
   "display_name": "Python 3",
   "language": "python",
   "name": "python3"
  },
  "language_info": {
   "codemirror_mode": {
    "name": "ipython",
    "version": 3
   },
   "file_extension": ".py",
   "mimetype": "text/x-python",
   "name": "python",
   "nbconvert_exporter": "python",
   "pygments_lexer": "ipython3",
   "version": "3.7.10"
  }
 },
 "nbformat": 4,
 "nbformat_minor": 5
}
