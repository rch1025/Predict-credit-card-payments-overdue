{
 "cells": [
  {
   "cell_type": "markdown",
   "id": "faced-pride",
   "metadata": {},
   "source": [
    "    rf_clf = RandomForestClassifier(n_estimators = 5000, \n",
    "                                random_state=2021,\n",
    "                                max_features = 3,\n",
    "                                min_samples_split = 8,\n",
    "                                n_jobs=6)\n",
    "*파라미터는 위와 같이 전부 통일 (CV=10)*\n",
    "## 0번\n",
    "- trn6['income_total_2'] = trn6.income_total**2 : 0.693365280206174 (split이 8이긴 하지만 비슷할 것이라 예상됨)\n",
    "\n",
    "## 1번\n",
    "- trn6['income_total_2'] = trn6.income_total**2\n",
    "- trn6['DAYS_BIRTH**2'] = trn6.DAYS_BIRTH**2 : 0.6894138170624281\n",
    "\n",
    "## 2번\n",
    "- trn6['income_total_2'] = trn6.income_total**2\n",
    "- trn6['DAYS_BIRTH**2'] = trn6.DAYS_BIRTH**2\n",
    "- trn6['income_age']=trn6.income_total*trn6.DAYS_BIRTH : 0.6888274750470448\n",
    "\n",
    "## 3번\n",
    "- trn6['income_total_2'] = trn6.income_total**2\n",
    "- trn6['DAYS_BIRTH**2'] = trn6.DAYS_BIRTH**2\n",
    "- trn6['income_emp']=trn6.income_total*trn6.DAYS_EMPLOYED : 0.688586276151762\n",
    "\n",
    "## 4번 : 현재 최고기록(0.6884817799)\n",
    "- trn6['income_total_2'] = trn6.income_total**2\n",
    "- trn6['DAYS_BIRTH**2'] = trn6.DAYS_BIRTH**2\n",
    "- trn6['income_age']=trn6.income_total*trn6.DAYS_BIRTH \n",
    "- trn6['income_emp']=trn6.income_total*trn6.DAYS_EMPLOYED : 0.688427377363235\n",
    "\n",
    "## 5번\n",
    "- trn6['income_total_2'] = trn6.income_total**2\n",
    "- trn6['DAYS_BIRTH**2'] = trn6.DAYS_BIRTH**2\n",
    "- trn6['income_emp']=trn6.income_total//trn6.DAYS_EMPLOYED\n",
    "- tst['income_emp']=tst.income_total//tst.DAYS_EMPLOYED"
   ]
  },
  {
   "cell_type": "code",
   "execution_count": 1,
   "id": "resistant-interval",
   "metadata": {},
   "outputs": [],
   "source": [
    "import pandas as pd\n",
    "import numpy as np\n",
    "from collections import Counter\n",
    "import matplotlib.pyplot as plt\n",
    "import seaborn as sns\n",
    "plt.style.use('ggplot')\n",
    "\n",
    "from sklearn import metrics\n",
    "from sklearn.metrics import confusion_matrix\n",
    "from sklearn.metrics import accuracy_score\n",
    "from sklearn.metrics import precision_score\n",
    "from sklearn.metrics import log_loss\n",
    "from sklearn.preprocessing import LabelEncoder\n",
    "\n",
    "from sklearn.model_selection import GridSearchCV\n",
    "from sklearn.ensemble import RandomForestClassifier\n",
    "from sklearn.model_selection import StratifiedKFold\n",
    "from sklearn.model_selection import train_test_split\n",
    "\n",
    "import warnings\n",
    "warnings.filterwarnings(action = 'ignore')"
   ]
  },
  {
   "cell_type": "code",
   "execution_count": 2,
   "id": "eligible-palestinian",
   "metadata": {},
   "outputs": [],
   "source": [
    "## 데이터 불러오기\n",
    "trn = pd.read_csv('data/train.csv')\n",
    "tst = pd.read_csv('data/test.csv')"
   ]
  },
  {
   "cell_type": "code",
   "execution_count": 3,
   "id": "lonely-median",
   "metadata": {},
   "outputs": [],
   "source": [
    "## 365 변환\n",
    "def days_to_plus(x):\n",
    "    return (x*-1)/365\n",
    "\n",
    "## 업무 시작일 변환\n",
    "def plus(x):\n",
    "    if x<0:\n",
    "        return x*(-1)\n",
    "    else:\n",
    "        return 0\n",
    "\n",
    "## 나이 양수로 변환\n",
    "trn['birth_plus'] = trn.DAYS_BIRTH.map(days_to_plus)\n",
    "tst['birth_plus'] = tst.DAYS_BIRTH.map(days_to_plus)\n",
    "    \n",
    "## 업무시작일 양수로 변환\n",
    "trn['employed_plus'] = trn.DAYS_EMPLOYED.map(days_to_plus)\n",
    "tst['employed_plus'] = tst.DAYS_EMPLOYED.map(days_to_plus)"
   ]
  },
  {
   "cell_type": "code",
   "execution_count": 4,
   "id": "arabic-dietary",
   "metadata": {},
   "outputs": [
    {
     "name": "stdout",
     "output_type": "stream",
     "text": [
      "21 8 13\n"
     ]
    }
   ],
   "source": [
    "index_col = 'index'\n",
    "target_col = 'credit'\n",
    "\n",
    "cat_cols = [x for x in trn.columns if trn[x].dtype == 'object']\n",
    "float_cols = [x for x in trn.columns.drop('credit') if trn[x].dtype == 'float64']\n",
    "num_cols = [x for x in trn.columns if x not in cat_cols + [target_col]]\n",
    "feature_cols = num_cols + cat_cols\n",
    "print(len(feature_cols), len(cat_cols), len(num_cols))"
   ]
  },
  {
   "cell_type": "code",
   "execution_count": 5,
   "id": "aerial-luther",
   "metadata": {},
   "outputs": [],
   "source": [
    "from sklearn.preprocessing import LabelEncoder\n",
    "\n",
    "lbe = LabelEncoder()\n",
    "for i in cat_cols:\n",
    "    trn[i] = lbe.fit_transform(trn[i])\n",
    "    tst[i] = lbe.transform(tst[i])\n",
    "    \n",
    "for i in float_cols:\n",
    "    trn[i] = trn[i].astype('int')\n",
    "    tst[i] = tst[i].astype('int')"
   ]
  },
  {
   "cell_type": "code",
   "execution_count": 6,
   "id": "charitable-patent",
   "metadata": {},
   "outputs": [],
   "source": [
    "## 인덱스 설정\n",
    "trn.set_index('index', inplace = True)\n",
    "tst.set_index('index', inplace = True)"
   ]
  },
  {
   "cell_type": "code",
   "execution_count": 7,
   "id": "separated-spanking",
   "metadata": {},
   "outputs": [],
   "source": [
    "trn.credit = trn.credit.astype('category')"
   ]
  },
  {
   "cell_type": "code",
   "execution_count": 8,
   "id": "chronic-economy",
   "metadata": {},
   "outputs": [],
   "source": [
    "trn6 = trn.drop(['family_size', 'employed_plus'], axis = 1).copy()"
   ]
  },
  {
   "cell_type": "markdown",
   "id": "grand-possible",
   "metadata": {},
   "source": [
    "# 파생 변수 추가"
   ]
  },
  {
   "cell_type": "code",
   "execution_count": 21,
   "id": "assumed-lawrence",
   "metadata": {},
   "outputs": [],
   "source": [
    "## 연봉 제곱 변수 제거\n",
    "trn6['income_total_2'] = trn6.income_total**2\n",
    "tst['income_total_2'] = tst.income_total**2\n",
    "\n",
    "## DAYS_BIRTH 제곱 변수 추가\n",
    "trn6['DAYS_BIRTH**2'] = trn6.DAYS_BIRTH**2\n",
    "tst['DAYS_BIRTH**2'] = tst.DAYS_BIRTH**2"
   ]
  },
  {
   "cell_type": "code",
   "execution_count": 22,
   "id": "obvious-topic",
   "metadata": {},
   "outputs": [],
   "source": [
    "## 연봉 제곱 변수 제거\n",
    "trn6['income_total_2'] = trn6.income_total**2\n",
    "tst['income_total_2'] = tst.income_total**2\n",
    "\n",
    "## DAYS_BIRTH 제곱 변수 추가\n",
    "trn6['DAYS_BIRTH**2'] = trn6.DAYS_BIRTH**2\n",
    "tst['DAYS_BIRTH**2'] = tst.DAYS_BIRTH**2\n",
    "\n",
    "## income * days_birth\n",
    "trn6['income_age']=trn6.income_total*trn6.DAYS_BIRTH\n",
    "tst['income_age']=tst.income_total*tst.DAYS_BIRTH"
   ]
  },
  {
   "cell_type": "code",
   "execution_count": 32,
   "id": "alien-calibration",
   "metadata": {},
   "outputs": [],
   "source": [
    "## 연봉 제곱 변수 제거\n",
    "trn6['income_total_2'] = trn6.income_total**2\n",
    "tst['income_total_2'] = tst.income_total**2\n",
    "\n",
    "## DAYS_BIRTH 제곱 변수 추가\n",
    "trn6['DAYS_BIRTH**2'] = trn6.DAYS_BIRTH**2\n",
    "tst['DAYS_BIRTH**2'] = tst.DAYS_BIRTH**2\n",
    "\n",
    "## income * DAYS_EMPLOYED\n",
    "trn6['income_emp']=trn6.income_total*trn6.DAYS_EMPLOYED\n",
    "tst['income_emp']=tst.income_total*tst.DAYS_EMPLOYED"
   ]
  },
  {
   "cell_type": "code",
   "execution_count": 42,
   "id": "monetary-uganda",
   "metadata": {},
   "outputs": [],
   "source": [
    "## 연봉 제곱 변수 제거\n",
    "trn6['income_total_2'] = trn6.income_total**2\n",
    "tst['income_total_2'] = tst.income_total**2\n",
    "\n",
    "## DAYS_BIRTH 제곱 변수 추가\n",
    "trn6['DAYS_BIRTH**2'] = trn6.DAYS_BIRTH**2\n",
    "tst['DAYS_BIRTH**2'] = tst.DAYS_BIRTH**2\n",
    "\n",
    "## income * days_birth\n",
    "trn6['income_age']=trn6.income_total*trn6.DAYS_BIRTH\n",
    "tst['income_age']=tst.income_total*tst.DAYS_BIRTH\n",
    "\n",
    "## income * DAYS_EMPLOYED\n",
    "trn6['income_emp']=trn6.income_total*trn6.DAYS_EMPLOYED\n",
    "tst['income_emp']=tst.income_total*tst.DAYS_EMPLOYED"
   ]
  },
  {
   "cell_type": "code",
   "execution_count": 50,
   "id": "strategic-pathology",
   "metadata": {},
   "outputs": [],
   "source": [
    "## 연봉 제곱 변수 제거\n",
    "trn6['income_total_2'] = trn6.income_total**2\n",
    "tst['income_total_2'] = tst.income_total**2\n",
    "\n",
    "## DAYS_BIRTH 제곱 변수 추가\n",
    "trn6['DAYS_BIRTH**2'] = trn6.DAYS_BIRTH**2\n",
    "tst['DAYS_BIRTH**2'] = tst.DAYS_BIRTH**2\n",
    "\n",
    "## income * days_birth\n",
    "trn6['income_age']=trn6.income_total*trn6.DAYS_BIRTH\n",
    "tst['income_age']=tst.income_total*tst.DAYS_BIRTH\n",
    "\n",
    "## income * DAYS_EMPLOYED\n",
    "trn6['income_emp']=trn6.income_total//trn6.DAYS_EMPLOYED\n",
    "tst['income_emp']=tst.income_total//tst.DAYS_EMPLOYED"
   ]
  },
  {
   "cell_type": "code",
   "execution_count": null,
   "id": "compressed-japan",
   "metadata": {},
   "outputs": [
    {
     "name": "stdout",
     "output_type": "stream",
     "text": [
      "(26457, 22)\n",
      "(10000, 22)\n",
      "training model for CV #1\n",
      "training model for CV #2\n",
      "training model for CV #3\n"
     ]
    }
   ],
   "source": [
    "### 이 기록은 라벨인코딩을 따로 지정하지 않고 한번에 돌린 데이터\n",
    "### trn6은 trn6 = trn.drop(['family_size', 'employed_plus'], axis = 1).copy()이다.\n",
    "### 총 18개의 변수를 사용한 것 -> 최고기록\n",
    "\n",
    "## predict_rf\n",
    "ftr = trn6.drop('credit', axis=1).values\n",
    "target = trn['credit'].values\n",
    "tst_ar = tst.drop(['family_size', 'employed_plus'], axis = 1).values\n",
    "n_class = 3\n",
    "n_fold = 10\n",
    "\n",
    "print(ftr.shape)\n",
    "print(tst_ar.shape)\n",
    "\n",
    "\n",
    "cv = StratifiedKFold(n_splits=n_fold, shuffle=True, random_state=40)\n",
    "\n",
    "rf_p_val = np.zeros((ftr.shape[0], n_class))\n",
    "rf_p_tst = np.zeros((tst_ar.shape[0], n_class))\n",
    "for i, (i_trn, i_val) in enumerate(cv.split(ftr, target), 1):\n",
    "    print(f'training model for CV #{i}')\n",
    "    rf_clf = RandomForestClassifier(n_estimators = 5000, \n",
    "                                random_state=2021,\n",
    "                                max_features = 3,\n",
    "                                min_samples_split = 8,\n",
    "                                n_jobs=6)\n",
    "    rf_clf.fit(ftr[i_trn], target[i_trn])\n",
    "    rf_p_val[i_val, :] = rf_clf.predict_proba(ftr[i_val])\n",
    "    rf_p_tst += rf_clf.predict_proba(tst_ar) / n_fold\n",
    "    \n",
    "print(f'{log_loss(target, rf_p_val)}')\n",
    "print(f'{confusion_matrix(target, np.argmax(rf_p_val, axis=1))}%')"
   ]
  },
  {
   "cell_type": "code",
   "execution_count": 51,
   "id": "billion-diagram",
   "metadata": {},
   "outputs": [
    {
     "name": "stdout",
     "output_type": "stream",
     "text": [
      "(26457, 23)\n"
     ]
    },
    {
     "data": {
      "text/plain": [
       "Index(['gender', 'car', 'reality', 'child_num', 'income_total', 'income_type',\n",
       "       'edu_type', 'family_type', 'house_type', 'DAYS_BIRTH', 'DAYS_EMPLOYED',\n",
       "       'FLAG_MOBIL', 'work_phone', 'phone', 'email', 'occyp_type',\n",
       "       'begin_month', 'credit', 'birth_plus', 'income_total_2',\n",
       "       'DAYS_BIRTH**2', 'income_age', 'income_emp'],\n",
       "      dtype='object')"
      ]
     },
     "execution_count": 51,
     "metadata": {},
     "output_type": "execute_result"
    }
   ],
   "source": [
    "print(trn6.shape)\n",
    "trn6.columns"
   ]
  },
  {
   "cell_type": "code",
   "execution_count": 46,
   "id": "religious-congo",
   "metadata": {},
   "outputs": [],
   "source": [
    "sub = pd.read_csv('data/sample_submission.csv', index_col = 0)\n",
    "sub\n",
    "sub[sub.columns] = rf_p_tst"
   ]
  },
  {
   "cell_type": "code",
   "execution_count": 47,
   "id": "buried-configuration",
   "metadata": {},
   "outputs": [],
   "source": [
    "sub.to_csv('data/RF 최고기록+종성형 변수 추가.csv')"
   ]
  },
  {
   "cell_type": "code",
   "execution_count": null,
   "id": "active-blair",
   "metadata": {},
   "outputs": [],
   "source": []
  }
 ],
 "metadata": {
  "kernelspec": {
   "display_name": "Python 3",
   "language": "python",
   "name": "python3"
  },
  "language_info": {
   "codemirror_mode": {
    "name": "ipython",
    "version": 3
   },
   "file_extension": ".py",
   "mimetype": "text/x-python",
   "name": "python",
   "nbconvert_exporter": "python",
   "pygments_lexer": "ipython3",
   "version": "3.7.10"
  }
 },
 "nbformat": 4,
 "nbformat_minor": 5
}
