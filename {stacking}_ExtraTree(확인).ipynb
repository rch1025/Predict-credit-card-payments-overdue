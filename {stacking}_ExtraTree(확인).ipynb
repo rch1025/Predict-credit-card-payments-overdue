{
 "cells": [
  {
   "cell_type": "code",
   "execution_count": 1,
   "id": "stylish-disclaimer",
   "metadata": {},
   "outputs": [],
   "source": [
    "import pandas as pd\n",
    "import numpy as np\n",
    "from collections import Counter\n",
    "import matplotlib.pyplot as plt\n",
    "import seaborn as sns\n",
    "plt.style.use('ggplot')\n",
    "\n",
    "from sklearn import metrics\n",
    "from sklearn.metrics import confusion_matrix\n",
    "from sklearn.metrics import accuracy_score\n",
    "from sklearn.metrics import precision_score\n",
    "from sklearn.metrics import log_loss\n",
    "from sklearn.preprocessing import LabelEncoder\n",
    "\n",
    "from sklearn.ensemble import ExtraTreesClassifier\n",
    "from sklearn.model_selection import StratifiedKFold\n",
    "from sklearn.model_selection import train_test_split\n",
    "\n",
    "import warnings\n",
    "warnings.filterwarnings(action = 'ignore')"
   ]
  },
  {
   "cell_type": "code",
   "execution_count": 2,
   "id": "oriented-watch",
   "metadata": {},
   "outputs": [],
   "source": [
    "## 데이터 불러오기\n",
    "trn = pd.read_csv('data/train.csv')\n",
    "tst = pd.read_csv('data/test.csv')"
   ]
  },
  {
   "cell_type": "code",
   "execution_count": 3,
   "id": "thick-margin",
   "metadata": {},
   "outputs": [],
   "source": [
    "## 365 변환\n",
    "def days_to_plus(x):\n",
    "    return (x*-1)/365\n",
    "\n",
    "## 업무 시작일 변환\n",
    "def plus(x):\n",
    "    if x<0:\n",
    "        return x*(-1)\n",
    "    else:\n",
    "        return 0\n",
    "\n",
    "## 나이 양수로 변환\n",
    "trn['birth_plus'] = trn.DAYS_BIRTH.map(days_to_plus)\n",
    "tst['birth_plus'] = tst.DAYS_BIRTH.map(days_to_plus)\n",
    "    \n",
    "## 업무시작일 양수로 변환\n",
    "trn['employed_plus'] = trn.DAYS_EMPLOYED.map(days_to_plus)\n",
    "tst['employed_plus'] = tst.DAYS_EMPLOYED.map(days_to_plus)"
   ]
  },
  {
   "cell_type": "code",
   "execution_count": 4,
   "id": "prostate-deficit",
   "metadata": {},
   "outputs": [
    {
     "name": "stdout",
     "output_type": "stream",
     "text": [
      "21 8 13\n"
     ]
    }
   ],
   "source": [
    "index_col = 'index'\n",
    "target_col = 'credit'\n",
    "\n",
    "cat_cols = [x for x in trn.columns if trn[x].dtype == 'object']\n",
    "float_cols = [x for x in trn.columns.drop('credit') if trn[x].dtype == 'float64']\n",
    "num_cols = [x for x in trn.columns if x not in cat_cols + [target_col]]\n",
    "feature_cols = num_cols + cat_cols\n",
    "print(len(feature_cols), len(cat_cols), len(num_cols))"
   ]
  },
  {
   "cell_type": "code",
   "execution_count": 5,
   "id": "arranged-corpus",
   "metadata": {},
   "outputs": [],
   "source": [
    "from sklearn.preprocessing import LabelEncoder\n",
    "\n",
    "lbe = LabelEncoder()\n",
    "for i in cat_cols:\n",
    "    trn[i] = lbe.fit_transform(trn[i].astype(str))\n",
    "    tst[i] = lbe.transform(tst[i].astype(str))\n",
    "    \n",
    "for i in float_cols:\n",
    "    trn[i] = trn[i].astype('int')\n",
    "    tst[i] = tst[i].astype('int')"
   ]
  },
  {
   "cell_type": "code",
   "execution_count": 6,
   "id": "split-cassette",
   "metadata": {},
   "outputs": [],
   "source": [
    "## 인덱스 설정\n",
    "trn.set_index('index', inplace = True)\n",
    "tst.set_index('index', inplace = True)"
   ]
  },
  {
   "cell_type": "code",
   "execution_count": 7,
   "id": "sorted-aviation",
   "metadata": {},
   "outputs": [],
   "source": [
    "trn.credit = trn.credit.astype('category')"
   ]
  },
  {
   "cell_type": "code",
   "execution_count": 8,
   "id": "orange-moral",
   "metadata": {},
   "outputs": [],
   "source": [
    "trn6 = trn.drop(['family_size', 'employed_plus'], axis = 1).copy()"
   ]
  },
  {
   "cell_type": "code",
   "execution_count": 9,
   "id": "wound-productivity",
   "metadata": {},
   "outputs": [],
   "source": [
    "## 연봉 제곱 변수 제거\n",
    "trn6['income_total_2'] = trn6.income_total**2\n",
    "tst['income_total_2'] = tst.income_total**2\n",
    "\n",
    "## DAYS_BIRTH 제곱 변수 추가\n",
    "trn6['DAYS_BIRTH**2'] = trn6.DAYS_BIRTH**2\n",
    "tst['DAYS_BIRTH**2'] = tst.DAYS_BIRTH**2\n",
    "\n",
    "## income * days_birth\n",
    "trn6['income_age']=trn6.income_total*trn6.DAYS_BIRTH\n",
    "tst['income_age']=tst.income_total*tst.DAYS_BIRTH\n",
    "\n",
    "## income * DAYS_EMPLOYED\n",
    "trn6['income_emp']=trn6.income_total*trn6.DAYS_EMPLOYED\n",
    "tst['income_emp']=tst.income_total*tst.DAYS_EMPLOYED"
   ]
  },
  {
   "cell_type": "code",
   "execution_count": 10,
   "id": "appointed-lafayette",
   "metadata": {},
   "outputs": [
    {
     "name": "stdout",
     "output_type": "stream",
     "text": [
      "(26457, 23)\n"
     ]
    }
   ],
   "source": [
    "print(trn6.shape)"
   ]
  },
  {
   "cell_type": "code",
   "execution_count": 11,
   "id": "included-destruction",
   "metadata": {},
   "outputs": [
    {
     "data": {
      "text/plain": [
       "Index(['gender', 'car', 'reality', 'child_num', 'income_total', 'income_type',\n",
       "       'edu_type', 'family_type', 'house_type', 'DAYS_BIRTH', 'DAYS_EMPLOYED',\n",
       "       'FLAG_MOBIL', 'work_phone', 'phone', 'email', 'occyp_type',\n",
       "       'begin_month', 'credit', 'birth_plus', 'income_total_2',\n",
       "       'DAYS_BIRTH**2', 'income_age', 'income_emp'],\n",
       "      dtype='object')"
      ]
     },
     "execution_count": 11,
     "metadata": {},
     "output_type": "execute_result"
    }
   ],
   "source": [
    "trn6.columns"
   ]
  },
  {
   "cell_type": "code",
   "execution_count": 12,
   "id": "compressed-somalia",
   "metadata": {},
   "outputs": [],
   "source": [
    "## 조합 8차시도 : \n",
    "\n",
    "# trn6.income_total = np.log1p(trn6.income_total)\n",
    "trn6['DAYS_BIRTH**2'] = np.log1p(trn6['DAYS_BIRTH**2'])\n",
    "trn6.income_total_2 = trn6.income_total_2**2\n",
    "trn6.income_emp = trn6.income_emp**2\n",
    "trn6.income_age = trn6.income_age**3\n",
    "\n",
    "\n",
    "# tst.income_total = np.log1p(tst.income_total)\n",
    "tst['DAYS_BIRTH**2'] = np.log1p(tst['DAYS_BIRTH**2'])\n",
    "tst.income_total_2 = tst.income_total_2**2\n",
    "tst.income_emp = tst.income_emp**2\n",
    "tst.income_age = tst.income_age**3"
   ]
  },
  {
   "cell_type": "code",
   "execution_count": 13,
   "id": "identified-crystal",
   "metadata": {},
   "outputs": [],
   "source": [
    "trn6.income_total = trn6.income_total.astype(int)\n",
    "trn6['DAYS_BIRTH**2'] = trn6['DAYS_BIRTH**2'].astype(int)\n",
    "\n",
    "tst.income_total = tst.income_total.astype(int)\n",
    "tst['DAYS_BIRTH**2'] = tst['DAYS_BIRTH**2'].astype(int)"
   ]
  },
  {
   "cell_type": "markdown",
   "id": "ecological-prediction",
   "metadata": {},
   "source": [
    "# Grid"
   ]
  },
  {
   "cell_type": "code",
   "execution_count": 41,
   "id": "social-soviet",
   "metadata": {},
   "outputs": [],
   "source": [
    "from sklearn.model_selection import train_test_split\n",
    "from sklearn.model_selection import GridSearchCV"
   ]
  },
  {
   "cell_type": "code",
   "execution_count": 42,
   "id": "creative-seeker",
   "metadata": {},
   "outputs": [],
   "source": [
    "# 그리드\n",
    "def algorithm_pipeline(X_train_data, X_test_data, y_train_data, y_test_data, \n",
    "                       model, param_grid, cv=10, scoring_fit='accuracy',\n",
    "                       do_probabilities = False):\n",
    "    gs = GridSearchCV(\n",
    "        estimator=model,\n",
    "        param_grid=param_grid, \n",
    "        cv=cv, \n",
    "        n_jobs=10, \n",
    "        scoring=scoring_fit,\n",
    "        verbose=2\n",
    "    )\n",
    "    fitted_model = gs.fit(X_train_data, y_train_data)\n",
    "    \n",
    "    if do_probabilities:\n",
    "        pred = fitted_model.predict_proba(X_test_data)\n",
    "    else:\n",
    "        pred = fitted_model.predict(X_test_data)\n",
    "    \n",
    "    return fitted_model, pred"
   ]
  },
  {
   "cell_type": "code",
   "execution_count": 43,
   "id": "fitted-college",
   "metadata": {},
   "outputs": [
    {
     "name": "stdout",
     "output_type": "stream",
     "text": [
      "Fitting 5 folds for each of 48 candidates, totalling 240 fits\n",
      "0.7106543822348217\n",
      "{'max_depth': 30, 'max_features': 5, 'min_samples_split': 9, 'n_estimators': 7000, 'random_state': 2021}\n"
     ]
    }
   ],
   "source": [
    "ftr=trn6.drop(\"credit\",axis=1)\n",
    "target=trn6['credit']\n",
    "\n",
    "# 데이터 분할\n",
    "X_train,X_val,y_train,y_val=train_test_split(ftr,target,test_size=0.2,random_state=40)\n",
    "\n",
    "# 모델 객체 생성\n",
    "model = ExtraTreesClassifier()\n",
    "\n",
    "paramgrid = {'n_estimators' : [7000],\n",
    "            'min_samples_split' : [8,9,10,11],\n",
    "             'max_depth' : [27,28,29,30],\n",
    "             'max_features' : [3,4,5],\n",
    "             'random_state' : [2021]\n",
    "            }\n",
    "\n",
    "model, pred = algorithm_pipeline(X_train, X_val, y_train, y_val, model, \n",
    "                                 paramgrid, cv=5, scoring_fit='accuracy')\n",
    "\n",
    "print(model.best_score_)\n",
    "print(model.best_params_)"
   ]
  },
  {
   "cell_type": "code",
   "execution_count": 14,
   "id": "younger-cuisine",
   "metadata": {},
   "outputs": [
    {
     "name": "stdout",
     "output_type": "stream",
     "text": [
      "(26457, 22)\n",
      "(10000, 22)\n",
      "training model for CV #1\n",
      "training model for CV #2\n",
      "training model for CV #3\n",
      "training model for CV #4\n",
      "training model for CV #5\n",
      "training model for CV #6\n",
      "training model for CV #7\n",
      "training model for CV #8\n",
      "training model for CV #9\n",
      "training model for CV #10\n",
      "0.7133101117901619\n",
      "[[  662   441  2119]\n",
      " [  150  2618  3499]\n",
      " [  315   887 15766]]\n"
     ]
    }
   ],
   "source": [
    "## predict_rf\n",
    "ftr = trn6.drop('credit', axis=1).values\n",
    "target = trn['credit'].values\n",
    "tst_ar = tst.drop(['family_size', 'employed_plus'], axis = 1).values\n",
    "n_class = 3\n",
    "n_fold = 10\n",
    "\n",
    "print(ftr.shape)\n",
    "print(tst_ar.shape)\n",
    "\n",
    "cv = StratifiedKFold(n_splits = n_fold, shuffle = True, random_state = 42)\n",
    "\n",
    "ext_p_val = np.zeros((ftr.shape[0], n_class))\n",
    "ext_p_tst = np.zeros((tst_ar.shape[0], n_class))\n",
    "for i, (i_trn, i_val) in enumerate(cv.split(ftr, target), 1):\n",
    "    print(f'training model for CV #{i}')\n",
    "    ext_clf = ExtraTreesClassifier(\n",
    "                                   max_depth = 30, \n",
    "                                   max_features = 4, \n",
    "                                   min_samples_split = 9, \n",
    "                                   n_estimators = 7000, \n",
    "                                   random_state = 2021,\n",
    "                                  n_jobs = 4)\n",
    "\n",
    "    ext_clf.fit(ftr[i_trn], target[i_trn])\n",
    "    ext_p_val[i_val, :] = ext_clf.predict_proba(ftr[i_val])\n",
    "    ext_p_tst += ext_clf.predict_proba(tst_ar) / n_fold\n",
    "\n",
    "\n",
    "print(f'{log_loss(target, ext_p_val)}')\n",
    "print(confusion_matrix(target, np.argmax(ext_p_val, axis=1)))"
   ]
  },
  {
   "cell_type": "code",
   "execution_count": 15,
   "id": "binding-tournament",
   "metadata": {},
   "outputs": [
    {
     "data": {
      "text/plain": [
       "array([[0.12247438, 0.24397274, 0.63355288],\n",
       "       [0.69149705, 0.05364093, 0.25486202],\n",
       "       [0.03620578, 0.31140361, 0.65239061],\n",
       "       ...,\n",
       "       [0.12294983, 0.25721616, 0.61983401],\n",
       "       [0.05752245, 0.23841071, 0.70406684],\n",
       "       [0.0971995 , 0.23287728, 0.66992321]])"
      ]
     },
     "execution_count": 15,
     "metadata": {},
     "output_type": "execute_result"
    }
   ],
   "source": [
    "ext_p_val"
   ]
  },
  {
   "cell_type": "code",
   "execution_count": 27,
   "id": "major-queen",
   "metadata": {},
   "outputs": [],
   "source": [
    "from pathlib import Path\n",
    "tst_dir = Path('C:/Users/Roh Seung Chan/Desktop/공모전/신용카드 예측 공모전/data/tst')\n",
    "val_dir = Path('C:/Users/Roh Seung Chan/Desktop/공모전/신용카드 예측 공모전/data/val')\n",
    "\n",
    "algo_name = 'extra'\n",
    "feature_name = '0.711'\n",
    "model_name = f'{algo_name}_{feature_name}'\n",
    "\n",
    "p_val_file = val_dir / f'{model_name}.val.csv'\n",
    "p_tst_file = tst_dir / f'{model_name}.tst.csv'\n",
    "\n",
    "np.savetxt(p_val_file, ext_p_val, fmt='%.6f', delimiter=',')\n",
    "np.savetxt(p_tst_file, ext_p_tst, fmt='%.6f', delimiter=',')"
   ]
  },
  {
   "cell_type": "code",
   "execution_count": null,
   "id": "outstanding-champagne",
   "metadata": {},
   "outputs": [],
   "source": []
  },
  {
   "cell_type": "code",
   "execution_count": 163,
   "id": "binary-exchange",
   "metadata": {},
   "outputs": [],
   "source": [
    "sub = pd.read_csv('data/sample_submission.csv', index_col = 0)\n",
    "sub\n",
    "sub[sub.columns] = rf_p_tst"
   ]
  },
  {
   "cell_type": "code",
   "execution_count": 164,
   "id": "disabled-nothing",
   "metadata": {},
   "outputs": [],
   "source": [
    "sub.to_csv('data/데이터_재표현(전부).csv')"
   ]
  },
  {
   "cell_type": "markdown",
   "id": "structural-maintenance",
   "metadata": {},
   "source": [
    "1. trn6.income_age**(3) 으로 했을 때가 0.6866962841415036\n",
    "2. trn6.income_age**13 으로 했을 때가 0.6873255407581582\n",
    "*정규분포 형태와 아닌 형태로 대칭인 것만 같고 조금 다름*\n",
    "=> 직사각형이 더 좋음\n",
    "3. trn6.income_age 변환 안 함 : 0.6884951810307259\n",
    "4. tst.income_emp 변환 안 함 :0.6874159266024837\n",
    "5. tst.income_emp 5제곱으로 직사각형으로 만듦 : 0.6865284163441506\n",
    "6. trn6.income_total_2**3 으로 제곱을 3으로 변환 : 0.6861786811010409 -> 2제곱이 더 좋음"
   ]
  },
  {
   "cell_type": "code",
   "execution_count": null,
   "id": "super-vegetation",
   "metadata": {},
   "outputs": [],
   "source": [
    "## 스태킹에 사용한 extra_2021 : 0.713\n",
    "ext_clf = ExtraTreesClassifier(\n",
    "                                   max_depth = 30, \n",
    "                                   max_features = 4, \n",
    "                                   min_samples_split = 9, \n",
    "                                   n_estimators = 7000, \n",
    "                                   random_state = 2021,\n",
    "                                  n_jobs = 4)"
   ]
  },
  {
   "cell_type": "code",
   "execution_count": null,
   "id": "entitled-sperm",
   "metadata": {},
   "outputs": [],
   "source": [
    "## 스태킹에 사용한 extra_2021_2 : 0.0.711483310787575\n",
    "ext_clf = ExtraTreesClassifier(\n",
    "                                   max_depth = 30, \n",
    "                                   max_features = 5, \n",
    "                                   min_samples_split = 9, \n",
    "                                   n_estimators = 7000, \n",
    "                                   random_state = 2021,\n",
    "                                  n_jobs = 4)"
   ]
  }
 ],
 "metadata": {
  "kernelspec": {
   "display_name": "Python 3",
   "language": "python",
   "name": "python3"
  },
  "language_info": {
   "codemirror_mode": {
    "name": "ipython",
    "version": 3
   },
   "file_extension": ".py",
   "mimetype": "text/x-python",
   "name": "python",
   "nbconvert_exporter": "python",
   "pygments_lexer": "ipython3",
   "version": "3.7.10"
  }
 },
 "nbformat": 4,
 "nbformat_minor": 5
}
