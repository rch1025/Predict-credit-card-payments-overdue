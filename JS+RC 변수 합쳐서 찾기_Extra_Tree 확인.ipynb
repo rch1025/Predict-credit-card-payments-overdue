{
 "cells": [
  {
   "cell_type": "code",
   "execution_count": 1,
   "id": "fixed-magnet",
   "metadata": {},
   "outputs": [],
   "source": [
    "import pandas as pd\n",
    "import numpy as np\n",
    "from collections import Counter\n",
    "import matplotlib.pyplot as plt\n",
    "import seaborn as sns\n",
    "plt.style.use('ggplot')\n",
    "\n",
    "from sklearn import metrics\n",
    "from sklearn.metrics import confusion_matrix\n",
    "from sklearn.metrics import accuracy_score\n",
    "from sklearn.metrics import precision_score\n",
    "from sklearn.metrics import log_loss\n",
    "from sklearn.preprocessing import LabelEncoder\n",
    "\n",
    "import lightgbm as lgb\n",
    "from lightgbm import LGBMClassifier\n",
    "from sklearn.ensemble import RandomForestClassifier\n",
    "from sklearn.model_selection import StratifiedKFold\n",
    "from sklearn.model_selection import train_test_split\n",
    "\n",
    "import warnings\n",
    "warnings.filterwarnings(action = 'ignore')"
   ]
  },
  {
   "cell_type": "code",
   "execution_count": 2,
   "id": "shared-cattle",
   "metadata": {},
   "outputs": [],
   "source": [
    "## 데이터 불러오기\n",
    "trn = pd.read_csv('data/train.csv')\n",
    "tst = pd.read_csv('data/test.csv')"
   ]
  },
  {
   "cell_type": "markdown",
   "id": "mediterranean-victorian",
   "metadata": {},
   "source": [
    "## 변수 생성\n",
    "- 종성형 변수와 내 변수\n",
    "- 연봉까지 포함하여 만든 카드 개수 변수가 begin_month 제외한 카드 개수 변수와 얼마나 일치하는지 보기\n",
    "- 내가 만들었던 변수 넣기"
   ]
  },
  {
   "cell_type": "code",
   "execution_count": 3,
   "id": "national-double",
   "metadata": {},
   "outputs": [],
   "source": [
    "## 나이 변환\n",
    "def days_to_age(x):\n",
    "    return (x*-1)/365\n",
    "\n",
    "## 신용카드 발급월 양수로 전환\n",
    "def begin_plus_month(x):\n",
    "    return (x*-1)\n",
    "\n",
    "## 신용카드 발급월 연도로 전환\n",
    "def begin_plus_year(x):\n",
    "    return (x)//12\n",
    "\n",
    "## 업무 시작일 변환\n",
    "def plus(x):\n",
    "    if x<0:\n",
    "        return x*(-1)\n",
    "    else:\n",
    "        return 0\n",
    "\n",
    "\n",
    "## 나이로 변환\n",
    "trn['birth'] = days_to_age(trn.DAYS_BIRTH).round()\n",
    "\n",
    "## 나이 구간화\n",
    "trn['age']=(trn.DAYS_BIRTH*(-1)/365).apply(lambda x:str(x)[0]+'0')\n",
    "# trn.drop('DAYS_BIRTH', axis=1, inplace = True)\n",
    "\n",
    "## 신용카드 발급월 변수의 변환\n",
    "trn['begin_month_plus'] = begin_plus_month(trn.begin_month).round()\n",
    "# trn.drop('begin_month', axis=1, inplace = True)\n",
    "\n",
    "## 신용카드 발급월 연차로 변환\n",
    "trn['begin_month_year'] = begin_plus_year(trn.begin_month_plus)\n",
    "\n",
    "## 신용카드 발급월 구간화\n",
    "trn['begin_month_bin'] = (trn.begin_month_plus*10).apply(lambda x:str(x)[0]+'0')\n",
    "\n",
    "## 업무시작일 양수로 변환\n",
    "trn['employed_plus'] = trn.DAYS_EMPLOYED.map(plus)\n",
    "\n",
    "## 0과 1로 범주화 (업무를 하는 사람과 아닌 사람)\n",
    "trn['employed_bin'] = trn.employed_plus.map(lambda x : 0 if x==0 else 1)\n",
    "\n",
    "## 업무 연차로 변환\n",
    "trn['employed_bin2'] = trn['employed_plus']//365\n",
    "\n",
    "\n",
    "#### test 데이터\n",
    "## 나이로 변환\n",
    "tst['birth'] = days_to_age(tst.DAYS_BIRTH).round()\n",
    "\n",
    "## 나이 구간화\n",
    "tst['age']=(tst.DAYS_BIRTH*(-1)/365).apply(lambda x:str(x)[0]+'0')\n",
    "# trn.drop('DAYS_BIRTH', axis=1, inplace = True)\n",
    "\n",
    "## 신용카드 발급월 변수의 변환\n",
    "tst['begin_month_plus'] = begin_plus_month(tst.begin_month).round()\n",
    "# trn.drop('begin_month', axis=1, inplace = True)\n",
    "\n",
    "## 신용카드 발급월 연차로 변환\n",
    "tst['begin_month_year'] = begin_plus_year(tst.begin_month_plus)\n",
    "\n",
    "## 신용카드 발급월 구간화\n",
    "tst['begin_month_bin'] = (tst.begin_month_plus*10).apply(lambda x:str(x)[0]+'0')\n",
    "\n",
    "## 업무시작일 양수로 변환\n",
    "tst['employed_plus'] = tst.DAYS_EMPLOYED.map(plus)\n",
    "\n",
    "## 0과 1로 범주화 (업무를 하는 사람과 아닌 사람)\n",
    "tst['employed_bin'] = tst.employed_plus.map(lambda x : 0 if x==0 else 1)\n",
    "\n",
    "## 업무 연차로 변환\n",
    "tst['employed_bin2'] = tst['employed_plus']//365"
   ]
  },
  {
   "cell_type": "code",
   "execution_count": 4,
   "id": "mighty-amount",
   "metadata": {},
   "outputs": [],
   "source": [
    "### train 데이터 조정\n",
    "\n",
    "#식별자 변수-1\n",
    "trn['ident']=''\n",
    "for i in range(trn.shape[1]-4):\n",
    "    trn['ident']=trn['ident']+trn.drop(['index','begin_month','credit'],axis=1).iloc[:,i].astype(str)\n",
    "\n",
    "#카드 순위\n",
    "trn['rank_card']=trn.groupby('ident').begin_month.rank()\n",
    "trn=pd.merge(trn,trn.groupby('ident').index.count(),how='left',on='ident')\n",
    "trn=pd.merge(trn,trn.groupby('ident').begin_month.std(),how='left',on='ident')\n",
    "trn=pd.merge(trn,trn.groupby('ident').begin_month_x.max(),how='left',on='ident')\n",
    "trn=pd.merge(trn,trn.groupby('ident').begin_month_x_x.min(),how='left',on='ident')\n",
    "\n",
    "# 카드 개수 : begin_month 제외\n",
    "trn['num_card']=trn['index_y']\n",
    "\n",
    "# 카드 발급일 표준편차, 최소, 최대값\n",
    "trn['begin_month_std']=trn['begin_month_y']\n",
    "trn['begin_month_max']=trn['begin_month_x_y']\n",
    "trn['begin_month_min']=trn['begin_month_x_x_y']\n",
    "trn['begin_month_std'].fillna(100,inplace=True)\n",
    "trn['begin_month']=trn.begin_month_x_x_x\n",
    "\n",
    "## 중복된 관측치 = 1 // 아니면 = 0\n",
    "trn['same_card_human1'] = (trn['num_card']>1).astype(int)\n",
    "\n",
    "trn=trn.drop(['ident','index_y','begin_month_y','begin_month_x_y','begin_month_x_x_y','begin_month_x_x_x'],axis=1)\n",
    "\n",
    "# 카드 발급일 포함 식별자 변수-2\n",
    "trn['ident']=''\n",
    "for i in range(trn.shape[1]-3):\n",
    "    trn['ident']=trn['ident']+trn.drop(['index_x','credit'],axis=1).iloc[:,i].astype(str)\n",
    "\n",
    "trn=pd.merge(trn,trn.groupby('ident').gender.count(),how='left',on='ident')\n",
    "\n",
    "# 중복 카드 개수 : begin_month 포함(같은 날에 여러개 만든 사람)\n",
    "trn['dup_card']=trn.gender_y\n",
    "trn['gender']=trn.gender_x\n",
    "\n",
    "## 중복된 관측치 = 1 // 아니면 = 0\n",
    "trn['same_card_human2'] = (trn['dup_card']>1).astype(int)\n",
    "\n",
    "trn.drop(['gender_y','gender_x','ident'],axis=1,inplace=True)\n",
    "\n",
    "# 고용 당시 연령\n",
    "trn['age_employed']=trn['DAYS_BIRTH']-trn['DAYS_EMPLOYED']\n",
    "\n",
    "# 카드 발급 당시 연령\n",
    "trn['age_begin']=trn['DAYS_BIRTH']/30-trn['begin_month']\n",
    "\n",
    "# 카드 발급 당시 회사 근속 연차(월)\n",
    "trn['begin_employed']=trn['DAYS_EMPLOYED']/30-trn['begin_month']\n",
    "\n",
    "# 자산 수\n",
    "trn['asset']=trn['car'].replace(['Y','N'],[1,0])+trn['reality'].replace(['Y','N'],[1,0])\n",
    "\n",
    "# 카드 발급 월 카테고리\n",
    "trn['begin_month_cate']=(trn.begin_month%12).astype('category')\n",
    "\n",
    "# 생월 카테고리\n",
    "trn['birth_month']=((trn.DAYS_BIRTH/30).astype(int)%12).astype('category')\n",
    "\n",
    "# 고용 월 카테고리\n",
    "trn['employed_month']=((trn.DAYS_EMPLOYED/30).astype(int)%12).astype('category')\n",
    "\n",
    "\n",
    "### test 데이터 조정\n",
    "tst['ident']=''\n",
    "for i in range(tst.shape[1]-3):\n",
    "    tst['ident']=tst['ident']+tst.drop(['index','begin_month'],axis=1).iloc[:,i].astype(str)\n",
    "\n",
    "tst['rank_card']=tst.groupby('ident').begin_month.rank()  \n",
    "tst=pd.merge(tst,tst.groupby('ident').index.count(),how='left',on='ident')\n",
    "tst=pd.merge(tst,tst.groupby('ident').begin_month.std(),how='left',on='ident')\n",
    "tst=pd.merge(tst,tst.groupby('ident').begin_month_x.max(),how='left',on='ident')\n",
    "tst=pd.merge(tst,tst.groupby('ident').begin_month_x_x.min(),how='left',on='ident')\n",
    "\n",
    "\n",
    "tst['num_card']=tst['index_y']\n",
    "tst['begin_month_std']=tst['begin_month_y']\n",
    "tst['begin_month_max']=tst['begin_month_x_y']\n",
    "tst['begin_month_min']=tst['begin_month_x_x_y']\n",
    "tst['begin_month_std'].fillna(100,inplace=True)\n",
    "tst['begin_month']=tst.begin_month_x_x_x\n",
    "\n",
    "## 중복된 관측치 = 1 // 아니면 = 0\n",
    "tst['same_card_human1'] = (tst['num_card']>1).astype(int)\n",
    "\n",
    "tst=tst.drop(['ident','index_y','begin_month_y','begin_month_x_y','begin_month_x_x_y','begin_month_x_x_x'],axis=1)\n",
    "\n",
    "tst['ident']=''\n",
    "for i in range(tst.shape[1]-2):\n",
    "    tst['ident']=tst['ident']+tst.drop(['index_x'],axis=1).iloc[:,i].astype(str)\n",
    "\n",
    "tst=pd.merge(tst,tst.groupby('ident').gender.count(),how='left',on='ident')\n",
    "tst['dup_card']=tst.gender_y\n",
    "tst['gender']=tst.gender_x\n",
    "\n",
    "## 중복된 관측치 = 1 // 아니면 = 0\n",
    "tst['same_card_human2'] = (tst['dup_card']>1).astype(int)\n",
    "\n",
    "tst.drop(['gender_y','gender_x','ident'],axis=1,inplace=True)\n",
    "\n",
    "tst['age_employed']=tst['DAYS_BIRTH']-tst['DAYS_EMPLOYED']\n",
    "tst['age_begin']=tst['DAYS_BIRTH']/30-tst['begin_month']\n",
    "tst['begin_employed']=tst['DAYS_EMPLOYED']/30-tst['begin_month']\n",
    "\n",
    "tst['asset']=tst['car'].replace(['Y','N'],[1,0])+tst['reality'].replace(['Y','N'],[1,0])\n",
    "tst['begin_month_cate']=(tst.begin_month%12).astype('category')\n",
    "\n",
    "tst['birth_month']=((tst.DAYS_BIRTH/30).astype(int)%12).astype('category')\n",
    "\n",
    "tst['employed_month']=((tst.DAYS_EMPLOYED/30).astype(int)%12).astype('category')\n",
    "\n",
    "trn.drop(['index_x'],axis=1,inplace=True)\n",
    "tst.drop(['index_x'],axis=1,inplace=True)"
   ]
  },
  {
   "cell_type": "code",
   "execution_count": 5,
   "id": "alone-mixer",
   "metadata": {},
   "outputs": [
    {
     "data": {
      "text/plain": [
       "Index(['credit'], dtype='object')"
      ]
     },
     "execution_count": 5,
     "metadata": {},
     "output_type": "execute_result"
    }
   ],
   "source": [
    "## 변수 포함 여부 확인\n",
    "trn.columns[trn.columns.isin(tst.columns)==False]"
   ]
  },
  {
   "cell_type": "code",
   "execution_count": 6,
   "id": "interested-context",
   "metadata": {},
   "outputs": [
    {
     "name": "stdout",
     "output_type": "stream",
     "text": [
      "(26457, 42)\n",
      "(10000, 41)\n"
     ]
    }
   ],
   "source": [
    "print(trn.shape)\n",
    "print(tst.shape)"
   ]
  },
  {
   "cell_type": "code",
   "execution_count": 7,
   "id": "attractive-quarterly",
   "metadata": {},
   "outputs": [],
   "source": [
    "## 독립변수 중 category 변수 int 형으로 전환\n",
    "trn.begin_month_bin = trn.begin_month_bin.astype(int)\n",
    "trn.age = trn.begin_month_bin.astype(int)\n",
    "trn.begin_month_cate = trn.begin_month_cate.astype(int)\n",
    "trn.birth_month = trn.birth_month.astype(int)\n",
    "trn.employed_month = trn.employed_month.astype(int)\n",
    "\n",
    "tst.begin_month_bin = tst.begin_month_bin.astype(int)\n",
    "tst.age = tst.begin_month_bin.astype(int)\n",
    "tst.begin_month_cate = tst.begin_month_cate.astype(int)\n",
    "tst.birth_month = tst.birth_month.astype(int)\n",
    "tst.employed_month = tst.employed_month.astype(int)"
   ]
  },
  {
   "cell_type": "markdown",
   "id": "tired-picking",
   "metadata": {},
   "source": [
    "## Label Encoding"
   ]
  },
  {
   "cell_type": "markdown",
   "id": "downtown-boost",
   "metadata": {},
   "source": [
    "## 라벨 인코딩 조정"
   ]
  },
  {
   "cell_type": "code",
   "execution_count": 8,
   "id": "ruled-switch",
   "metadata": {},
   "outputs": [],
   "source": [
    "## edu_type 내림차순으로 정렬 및 인코딩\n",
    "lbe = LabelEncoder()\n",
    "lbe.fit(list(trn.groupby('edu_type')['income_total'].mean().sort_values(ascending = False).index))\n",
    "trn.edu_type = lbe.transform(trn.edu_type)\n",
    "tst.edu_type = lbe.transform(tst.edu_type)\n",
    "\n",
    "## house_type 내림차순으로 정렬 및 인코딩\n",
    "lbe = LabelEncoder()\n",
    "lbe.fit(list(trn.groupby('house_type')['income_total'].mean().sort_values(ascending = False).index))\n",
    "trn.house_type = lbe.transform(trn.house_type)\n",
    "tst.house_type = lbe.transform(tst.house_type)\n",
    "\n",
    "## occyp_type의 결측값들을 NONE이라는 범주로 만듦\n",
    "trn['occyp_type'] = trn['occyp_type'].fillna('NONE').astype('object').values\n",
    "tst['occyp_type'] = tst['occyp_type'].fillna('NONE').astype('object').values\n",
    "\n",
    "## occyp_type 내림차순으로 정렬 및 인코딩\n",
    "lbe = LabelEncoder()\n",
    "lbe.fit(list(trn.groupby('occyp_type')['income_total'].mean().sort_values(ascending = False).index))\n",
    "trn.occyp_type = lbe.transform(trn.occyp_type)\n",
    "tst.occyp_type = lbe.transform(tst.occyp_type)\n",
    "\n",
    "## income_type 내림차순으로 정렬 및 인코딩\n",
    "lbe = LabelEncoder()\n",
    "lbe.fit(list(trn.groupby('income_type')['income_total'].mean().sort_values(ascending = False).index))\n",
    "trn.income_type = lbe.transform(trn.income_type)\n",
    "tst.income_type = lbe.transform(tst.income_type)"
   ]
  },
  {
   "cell_type": "code",
   "execution_count": 9,
   "id": "hollywood-shelf",
   "metadata": {},
   "outputs": [
    {
     "name": "stdout",
     "output_type": "stream",
     "text": [
      "41 4 37\n"
     ]
    }
   ],
   "source": [
    "index_col = 'index'\n",
    "target_col = 'credit'\n",
    "\n",
    "cat_cols = [x for x in trn.columns if trn[x].dtype == 'object']\n",
    "float_cols = [x for x in trn.columns.drop('credit') if trn[x].dtype == 'float64']\n",
    "num_cols = [x for x in trn.columns if x not in cat_cols + [target_col]]\n",
    "feature_cols = num_cols + cat_cols\n",
    "print(len(feature_cols), len(cat_cols), len(num_cols))\n",
    "\n",
    "from sklearn.preprocessing import LabelEncoder\n",
    "\n",
    "lbe = LabelEncoder()\n",
    "for i in cat_cols:\n",
    "    trn[i] = lbe.fit_transform(trn[i])\n",
    "    tst[i] = lbe.transform(tst[i])\n",
    "    \n",
    "for i in float_cols:\n",
    "    trn[i] = trn[i].astype('int')\n",
    "    tst[i] = tst[i].astype('int')"
   ]
  },
  {
   "cell_type": "code",
   "execution_count": 10,
   "id": "suspected-composition",
   "metadata": {},
   "outputs": [],
   "source": [
    "trn.credit = trn.credit.astype('category')"
   ]
  },
  {
   "cell_type": "code",
   "execution_count": 11,
   "id": "polished-andrew",
   "metadata": {},
   "outputs": [
    {
     "name": "stdout",
     "output_type": "stream",
     "text": [
      "<class 'pandas.core.frame.DataFrame'>\n",
      "Int64Index: 26457 entries, 0 to 26456\n",
      "Data columns (total 42 columns):\n",
      " #   Column            Non-Null Count  Dtype   \n",
      "---  ------            --------------  -----   \n",
      " 0   car               26457 non-null  int32   \n",
      " 1   reality           26457 non-null  int32   \n",
      " 2   child_num         26457 non-null  int64   \n",
      " 3   income_total      26457 non-null  int32   \n",
      " 4   income_type       26457 non-null  int32   \n",
      " 5   edu_type          26457 non-null  int32   \n",
      " 6   family_type       26457 non-null  int32   \n",
      " 7   house_type        26457 non-null  int32   \n",
      " 8   DAYS_BIRTH        26457 non-null  int64   \n",
      " 9   DAYS_EMPLOYED     26457 non-null  int64   \n",
      " 10  FLAG_MOBIL        26457 non-null  int64   \n",
      " 11  work_phone        26457 non-null  int64   \n",
      " 12  phone             26457 non-null  int64   \n",
      " 13  email             26457 non-null  int64   \n",
      " 14  occyp_type        26457 non-null  int32   \n",
      " 15  family_size       26457 non-null  int32   \n",
      " 16  credit            26457 non-null  category\n",
      " 17  birth             26457 non-null  int32   \n",
      " 18  age               26457 non-null  int32   \n",
      " 19  begin_month_plus  26457 non-null  int32   \n",
      " 20  begin_month_year  26457 non-null  int32   \n",
      " 21  begin_month_bin   26457 non-null  int32   \n",
      " 22  employed_plus     26457 non-null  int64   \n",
      " 23  employed_bin      26457 non-null  int64   \n",
      " 24  employed_bin2     26457 non-null  int64   \n",
      " 25  rank_card         26457 non-null  int32   \n",
      " 26  num_card          26457 non-null  int64   \n",
      " 27  begin_month_std   26457 non-null  int32   \n",
      " 28  begin_month_max   26457 non-null  int32   \n",
      " 29  begin_month_min   26457 non-null  int32   \n",
      " 30  begin_month       26457 non-null  int32   \n",
      " 31  same_card_human1  26457 non-null  int32   \n",
      " 32  dup_card          26457 non-null  int64   \n",
      " 33  gender            26457 non-null  int32   \n",
      " 34  same_card_human2  26457 non-null  int32   \n",
      " 35  age_employed      26457 non-null  int64   \n",
      " 36  age_begin         26457 non-null  int32   \n",
      " 37  begin_employed    26457 non-null  int32   \n",
      " 38  asset             26457 non-null  int64   \n",
      " 39  begin_month_cate  26457 non-null  int32   \n",
      " 40  birth_month       26457 non-null  int32   \n",
      " 41  employed_month    26457 non-null  int32   \n",
      "dtypes: category(1), int32(27), int64(14)\n",
      "memory usage: 5.8 MB\n"
     ]
    }
   ],
   "source": [
    "trn.info()"
   ]
  },
  {
   "cell_type": "markdown",
   "id": "talented-imperial",
   "metadata": {},
   "source": [
    "## 변수 찾기\n",
    "- plot importance를 하며 확인"
   ]
  },
  {
   "cell_type": "code",
   "execution_count": 13,
   "id": "continental-moisture",
   "metadata": {
    "scrolled": true
   },
   "outputs": [
    {
     "data": {
      "text/plain": [
       "ExtraTreesClassifier(max_features=5, min_samples_split=6, n_estimators=5000,\n",
       "                     n_jobs=6, random_state=2021)"
      ]
     },
     "execution_count": 13,
     "metadata": {},
     "output_type": "execute_result"
    }
   ],
   "source": [
    "from sklearn.ensemble import ExtraTreesClassifier\n",
    "\n",
    "# train과 valid(test) 셋을 분리 \n",
    "x_train, x_valid, y_train, y_valid = train_test_split(trn.drop('credit', axis=1), trn.credit, test_size=0.3, stratify=trn.credit, random_state=40)\n",
    "\n",
    "# ExtraTreesClassifier 적용\n",
    "extra = ExtraTreesClassifier(n_estimators = 5000,\n",
    "                            max_features = 5,\n",
    "                            min_samples_split = 6,\n",
    "                            random_state = 2021,\n",
    "                            n_jobs = 6)\n",
    "extra.fit(x_train, y_train)"
   ]
  },
  {
   "cell_type": "code",
   "execution_count": 14,
   "id": "lovely-perception",
   "metadata": {},
   "outputs": [],
   "source": [
    "extra_pred = extra.predict_proba(x_valid)"
   ]
  },
  {
   "cell_type": "code",
   "execution_count": 15,
   "id": "employed-solution",
   "metadata": {},
   "outputs": [
    {
     "data": {
      "text/plain": [
       "0.7894756728247738"
      ]
     },
     "execution_count": 15,
     "metadata": {},
     "output_type": "execute_result"
    }
   ],
   "source": [
    "log_loss(y_valid, extra_pred)"
   ]
  },
  {
   "cell_type": "markdown",
   "id": "embedded-firewall",
   "metadata": {},
   "source": [
    "## 그리드 서치로 파라미터 찾기"
   ]
  },
  {
   "cell_type": "code",
   "execution_count": 16,
   "id": "alpine-robertson",
   "metadata": {},
   "outputs": [],
   "source": [
    "from sklearn.model_selection import GridSearchCV\n",
    "from sklearn.model_selection import StratifiedKFold"
   ]
  },
  {
   "cell_type": "code",
   "execution_count": 21,
   "id": "welcome-botswana",
   "metadata": {},
   "outputs": [],
   "source": [
    "param_grid = {\n",
    "    'n_estimators': [1000, 2000, 3000, 4000],\n",
    "    'max_features': [3, 4, 5, 6, 7, 8, 9],\n",
    "    'min_samples_split': [4,5,6,7,8,9,10],\n",
    "    'random_state' : [2021]\n",
    "}"
   ]
  },
  {
   "cell_type": "code",
   "execution_count": 22,
   "id": "unexpected-colony",
   "metadata": {},
   "outputs": [],
   "source": [
    "estimator = ExtraTreesClassifier()"
   ]
  },
  {
   "cell_type": "code",
   "execution_count": 23,
   "id": "subsequent-healing",
   "metadata": {},
   "outputs": [],
   "source": [
    "kf = StratifiedKFold(n_splits=5, shuffle=True, random_state=40)"
   ]
  },
  {
   "cell_type": "code",
   "execution_count": 24,
   "id": "expanded-latitude",
   "metadata": {},
   "outputs": [
    {
     "name": "stdout",
     "output_type": "stream",
     "text": [
      "Fitting 5 folds for each of 196 candidates, totalling 980 fits\n"
     ]
    },
    {
     "data": {
      "text/plain": [
       "GridSearchCV(cv=StratifiedKFold(n_splits=5, random_state=40, shuffle=True),\n",
       "             estimator=ExtraTreesClassifier(), n_jobs=2,\n",
       "             param_grid={'max_features': [3, 4, 5, 6, 7, 8, 9],\n",
       "                         'min_samples_split': [4, 5, 6, 7, 8, 9, 10],\n",
       "                         'n_estimators': [1000, 2000, 3000, 4000],\n",
       "                         'random_state': [2021]},\n",
       "             verbose=2)"
      ]
     },
     "execution_count": 24,
     "metadata": {},
     "output_type": "execute_result"
    }
   ],
   "source": [
    "# define grid_search\n",
    "grid_search = GridSearchCV(estimator=estimator, \n",
    "                           param_grid=param_grid, \n",
    "                           cv=kf, \n",
    "                           n_jobs=2, \n",
    "                           verbose=2\n",
    "                          )\n",
    "\n",
    "# fit with (x_train, y_train)\n",
    "grid_search.fit(x_train, y_train)"
   ]
  },
  {
   "cell_type": "code",
   "execution_count": 25,
   "id": "moral-signal",
   "metadata": {},
   "outputs": [
    {
     "data": {
      "text/plain": [
       "{'max_features': 4,\n",
       " 'min_samples_split': 10,\n",
       " 'n_estimators': 1000,\n",
       " 'random_state': 2021}"
      ]
     },
     "execution_count": 25,
     "metadata": {},
     "output_type": "execute_result"
    }
   ],
   "source": [
    "grid_search.best_params_"
   ]
  },
  {
   "cell_type": "markdown",
   "id": "square-freeware",
   "metadata": {},
   "source": [
    "# permutation importance"
   ]
  },
  {
   "cell_type": "code",
   "execution_count": 79,
   "id": "velvet-wallace",
   "metadata": {},
   "outputs": [],
   "source": [
    "import eli5 \n",
    "from eli5.sklearn import PermutationImportance "
   ]
  },
  {
   "cell_type": "code",
   "execution_count": 24,
   "id": "smart-galaxy",
   "metadata": {},
   "outputs": [],
   "source": [
    "perm = PermutationImportance(rf, \n",
    "                             scoring = 'neg_log_loss',\n",
    "                             random_state = 2021).fit(x_valid, y_valid)"
   ]
  },
  {
   "cell_type": "code",
   "execution_count": 25,
   "id": "brown-rouge",
   "metadata": {},
   "outputs": [
    {
     "data": {
      "text/html": [
       "\n",
       "    <style>\n",
       "    table.eli5-weights tr:hover {\n",
       "        filter: brightness(85%);\n",
       "    }\n",
       "</style>\n",
       "\n",
       "\n",
       "\n",
       "    \n",
       "\n",
       "    \n",
       "\n",
       "    \n",
       "\n",
       "    \n",
       "\n",
       "    \n",
       "\n",
       "    \n",
       "\n",
       "\n",
       "    \n",
       "\n",
       "    \n",
       "\n",
       "    \n",
       "\n",
       "    \n",
       "\n",
       "    \n",
       "\n",
       "    \n",
       "\n",
       "\n",
       "    \n",
       "\n",
       "    \n",
       "\n",
       "    \n",
       "\n",
       "    \n",
       "\n",
       "    \n",
       "        <table class=\"eli5-weights eli5-feature-importances\" style=\"border-collapse: collapse; border: none; margin-top: 0em; table-layout: auto;\">\n",
       "    <thead>\n",
       "    <tr style=\"border: none;\">\n",
       "        <th style=\"padding: 0 1em 0 0.5em; text-align: right; border: none;\">Weight</th>\n",
       "        <th style=\"padding: 0 0.5em 0 0.5em; text-align: left; border: none;\">Feature</th>\n",
       "    </tr>\n",
       "    </thead>\n",
       "    <tbody>\n",
       "    \n",
       "        <tr style=\"background-color: hsl(120, 100.00%, 80.00%); border: none;\">\n",
       "            <td style=\"padding: 0 1em 0 0.5em; text-align: right; border: none;\">\n",
       "                0.0203\n",
       "                \n",
       "                    &plusmn; 0.0017\n",
       "                \n",
       "            </td>\n",
       "            <td style=\"padding: 0 0.5em 0 0.5em; text-align: left; border: none;\">\n",
       "                DAYS_BIRTH\n",
       "            </td>\n",
       "        </tr>\n",
       "    \n",
       "        <tr style=\"background-color: hsl(120, 100.00%, 80.98%); border: none;\">\n",
       "            <td style=\"padding: 0 1em 0 0.5em; text-align: right; border: none;\">\n",
       "                0.0189\n",
       "                \n",
       "                    &plusmn; 0.0008\n",
       "                \n",
       "            </td>\n",
       "            <td style=\"padding: 0 0.5em 0 0.5em; text-align: left; border: none;\">\n",
       "                age_employed\n",
       "            </td>\n",
       "        </tr>\n",
       "    \n",
       "        <tr style=\"background-color: hsl(120, 100.00%, 83.51%); border: none;\">\n",
       "            <td style=\"padding: 0 1em 0 0.5em; text-align: right; border: none;\">\n",
       "                0.0154\n",
       "                \n",
       "                    &plusmn; 0.0007\n",
       "                \n",
       "            </td>\n",
       "            <td style=\"padding: 0 0.5em 0 0.5em; text-align: left; border: none;\">\n",
       "                employed_plus\n",
       "            </td>\n",
       "        </tr>\n",
       "    \n",
       "        <tr style=\"background-color: hsl(120, 100.00%, 83.97%); border: none;\">\n",
       "            <td style=\"padding: 0 1em 0 0.5em; text-align: right; border: none;\">\n",
       "                0.0148\n",
       "                \n",
       "                    &plusmn; 0.0016\n",
       "                \n",
       "            </td>\n",
       "            <td style=\"padding: 0 0.5em 0 0.5em; text-align: left; border: none;\">\n",
       "                DAYS_EMPLOYED\n",
       "            </td>\n",
       "        </tr>\n",
       "    \n",
       "        <tr style=\"background-color: hsl(120, 100.00%, 84.20%); border: none;\">\n",
       "            <td style=\"padding: 0 1em 0 0.5em; text-align: right; border: none;\">\n",
       "                0.0145\n",
       "                \n",
       "                    &plusmn; 0.0018\n",
       "                \n",
       "            </td>\n",
       "            <td style=\"padding: 0 0.5em 0 0.5em; text-align: left; border: none;\">\n",
       "                age_begin\n",
       "            </td>\n",
       "        </tr>\n",
       "    \n",
       "        <tr style=\"background-color: hsl(120, 100.00%, 86.11%); border: none;\">\n",
       "            <td style=\"padding: 0 1em 0 0.5em; text-align: right; border: none;\">\n",
       "                0.0121\n",
       "                \n",
       "                    &plusmn; 0.0018\n",
       "                \n",
       "            </td>\n",
       "            <td style=\"padding: 0 0.5em 0 0.5em; text-align: left; border: none;\">\n",
       "                birth\n",
       "            </td>\n",
       "        </tr>\n",
       "    \n",
       "        <tr style=\"background-color: hsl(120, 100.00%, 87.45%); border: none;\">\n",
       "            <td style=\"padding: 0 1em 0 0.5em; text-align: right; border: none;\">\n",
       "                0.0104\n",
       "                \n",
       "                    &plusmn; 0.0017\n",
       "                \n",
       "            </td>\n",
       "            <td style=\"padding: 0 0.5em 0 0.5em; text-align: left; border: none;\">\n",
       "                income_total\n",
       "            </td>\n",
       "        </tr>\n",
       "    \n",
       "        <tr style=\"background-color: hsl(120, 100.00%, 88.86%); border: none;\">\n",
       "            <td style=\"padding: 0 1em 0 0.5em; text-align: right; border: none;\">\n",
       "                0.0088\n",
       "                \n",
       "                    &plusmn; 0.0017\n",
       "                \n",
       "            </td>\n",
       "            <td style=\"padding: 0 0.5em 0 0.5em; text-align: left; border: none;\">\n",
       "                begin_employed\n",
       "            </td>\n",
       "        </tr>\n",
       "    \n",
       "        <tr style=\"background-color: hsl(120, 100.00%, 89.81%); border: none;\">\n",
       "            <td style=\"padding: 0 1em 0 0.5em; text-align: right; border: none;\">\n",
       "                0.0078\n",
       "                \n",
       "                    &plusmn; 0.0014\n",
       "                \n",
       "            </td>\n",
       "            <td style=\"padding: 0 0.5em 0 0.5em; text-align: left; border: none;\">\n",
       "                begin_month_max\n",
       "            </td>\n",
       "        </tr>\n",
       "    \n",
       "        <tr style=\"background-color: hsl(120, 100.00%, 90.15%); border: none;\">\n",
       "            <td style=\"padding: 0 1em 0 0.5em; text-align: right; border: none;\">\n",
       "                0.0074\n",
       "                \n",
       "                    &plusmn; 0.0012\n",
       "                \n",
       "            </td>\n",
       "            <td style=\"padding: 0 0.5em 0 0.5em; text-align: left; border: none;\">\n",
       "                birth_month\n",
       "            </td>\n",
       "        </tr>\n",
       "    \n",
       "        <tr style=\"background-color: hsl(120, 100.00%, 90.21%); border: none;\">\n",
       "            <td style=\"padding: 0 1em 0 0.5em; text-align: right; border: none;\">\n",
       "                0.0073\n",
       "                \n",
       "                    &plusmn; 0.0014\n",
       "                \n",
       "            </td>\n",
       "            <td style=\"padding: 0 0.5em 0 0.5em; text-align: left; border: none;\">\n",
       "                begin_month\n",
       "            </td>\n",
       "        </tr>\n",
       "    \n",
       "        <tr style=\"background-color: hsl(120, 100.00%, 90.21%); border: none;\">\n",
       "            <td style=\"padding: 0 1em 0 0.5em; text-align: right; border: none;\">\n",
       "                0.0073\n",
       "                \n",
       "                    &plusmn; 0.0025\n",
       "                \n",
       "            </td>\n",
       "            <td style=\"padding: 0 0.5em 0 0.5em; text-align: left; border: none;\">\n",
       "                begin_month_plus\n",
       "            </td>\n",
       "        </tr>\n",
       "    \n",
       "        <tr style=\"background-color: hsl(120, 100.00%, 90.38%); border: none;\">\n",
       "            <td style=\"padding: 0 1em 0 0.5em; text-align: right; border: none;\">\n",
       "                0.0071\n",
       "                \n",
       "                    &plusmn; 0.0014\n",
       "                \n",
       "            </td>\n",
       "            <td style=\"padding: 0 0.5em 0 0.5em; text-align: left; border: none;\">\n",
       "                begin_month_min\n",
       "            </td>\n",
       "        </tr>\n",
       "    \n",
       "        <tr style=\"background-color: hsl(120, 100.00%, 92.02%); border: none;\">\n",
       "            <td style=\"padding: 0 1em 0 0.5em; text-align: right; border: none;\">\n",
       "                0.0055\n",
       "                \n",
       "                    &plusmn; 0.0013\n",
       "                \n",
       "            </td>\n",
       "            <td style=\"padding: 0 0.5em 0 0.5em; text-align: left; border: none;\">\n",
       "                employed_month\n",
       "            </td>\n",
       "        </tr>\n",
       "    \n",
       "        <tr style=\"background-color: hsl(120, 100.00%, 92.48%); border: none;\">\n",
       "            <td style=\"padding: 0 1em 0 0.5em; text-align: right; border: none;\">\n",
       "                0.0050\n",
       "                \n",
       "                    &plusmn; 0.0005\n",
       "                \n",
       "            </td>\n",
       "            <td style=\"padding: 0 0.5em 0 0.5em; text-align: left; border: none;\">\n",
       "                occyp_type\n",
       "            </td>\n",
       "        </tr>\n",
       "    \n",
       "        <tr style=\"background-color: hsl(120, 100.00%, 92.91%); border: none;\">\n",
       "            <td style=\"padding: 0 1em 0 0.5em; text-align: right; border: none;\">\n",
       "                0.0046\n",
       "                \n",
       "                    &plusmn; 0.0009\n",
       "                \n",
       "            </td>\n",
       "            <td style=\"padding: 0 0.5em 0 0.5em; text-align: left; border: none;\">\n",
       "                employed_bin2\n",
       "            </td>\n",
       "        </tr>\n",
       "    \n",
       "        <tr style=\"background-color: hsl(120, 100.00%, 93.05%); border: none;\">\n",
       "            <td style=\"padding: 0 1em 0 0.5em; text-align: right; border: none;\">\n",
       "                0.0045\n",
       "                \n",
       "                    &plusmn; 0.0008\n",
       "                \n",
       "            </td>\n",
       "            <td style=\"padding: 0 0.5em 0 0.5em; text-align: left; border: none;\">\n",
       "                family_type\n",
       "            </td>\n",
       "        </tr>\n",
       "    \n",
       "        <tr style=\"background-color: hsl(120, 100.00%, 93.48%); border: none;\">\n",
       "            <td style=\"padding: 0 1em 0 0.5em; text-align: right; border: none;\">\n",
       "                0.0041\n",
       "                \n",
       "                    &plusmn; 0.0008\n",
       "                \n",
       "            </td>\n",
       "            <td style=\"padding: 0 0.5em 0 0.5em; text-align: left; border: none;\">\n",
       "                edu_type\n",
       "            </td>\n",
       "        </tr>\n",
       "    \n",
       "        <tr style=\"background-color: hsl(120, 100.00%, 94.97%); border: none;\">\n",
       "            <td style=\"padding: 0 1em 0 0.5em; text-align: right; border: none;\">\n",
       "                0.0028\n",
       "                \n",
       "                    &plusmn; 0.0010\n",
       "                \n",
       "            </td>\n",
       "            <td style=\"padding: 0 0.5em 0 0.5em; text-align: left; border: none;\">\n",
       "                income_type\n",
       "            </td>\n",
       "        </tr>\n",
       "    \n",
       "        <tr style=\"background-color: hsl(120, 100.00%, 95.64%); border: none;\">\n",
       "            <td style=\"padding: 0 1em 0 0.5em; text-align: right; border: none;\">\n",
       "                0.0023\n",
       "                \n",
       "                    &plusmn; 0.0004\n",
       "                \n",
       "            </td>\n",
       "            <td style=\"padding: 0 0.5em 0 0.5em; text-align: left; border: none;\">\n",
       "                family_size\n",
       "            </td>\n",
       "        </tr>\n",
       "    \n",
       "        <tr style=\"background-color: hsl(120, 100.00%, 95.84%); border: none;\">\n",
       "            <td style=\"padding: 0 1em 0 0.5em; text-align: right; border: none;\">\n",
       "                0.0022\n",
       "                \n",
       "                    &plusmn; 0.0007\n",
       "                \n",
       "            </td>\n",
       "            <td style=\"padding: 0 0.5em 0 0.5em; text-align: left; border: none;\">\n",
       "                begin_month_year\n",
       "            </td>\n",
       "        </tr>\n",
       "    \n",
       "        <tr style=\"background-color: hsl(120, 100.00%, 96.22%); border: none;\">\n",
       "            <td style=\"padding: 0 1em 0 0.5em; text-align: right; border: none;\">\n",
       "                0.0019\n",
       "                \n",
       "                    &plusmn; 0.0003\n",
       "                \n",
       "            </td>\n",
       "            <td style=\"padding: 0 0.5em 0 0.5em; text-align: left; border: none;\">\n",
       "                asset\n",
       "            </td>\n",
       "        </tr>\n",
       "    \n",
       "        <tr style=\"background-color: hsl(120, 100.00%, 96.23%); border: none;\">\n",
       "            <td style=\"padding: 0 1em 0 0.5em; text-align: right; border: none;\">\n",
       "                0.0019\n",
       "                \n",
       "                    &plusmn; 0.0008\n",
       "                \n",
       "            </td>\n",
       "            <td style=\"padding: 0 0.5em 0 0.5em; text-align: left; border: none;\">\n",
       "                phone\n",
       "            </td>\n",
       "        </tr>\n",
       "    \n",
       "        <tr style=\"background-color: hsl(120, 100.00%, 96.44%); border: none;\">\n",
       "            <td style=\"padding: 0 1em 0 0.5em; text-align: right; border: none;\">\n",
       "                0.0017\n",
       "                \n",
       "                    &plusmn; 0.0008\n",
       "                \n",
       "            </td>\n",
       "            <td style=\"padding: 0 0.5em 0 0.5em; text-align: left; border: none;\">\n",
       "                reality\n",
       "            </td>\n",
       "        </tr>\n",
       "    \n",
       "        <tr style=\"background-color: hsl(120, 100.00%, 96.49%); border: none;\">\n",
       "            <td style=\"padding: 0 1em 0 0.5em; text-align: right; border: none;\">\n",
       "                0.0017\n",
       "                \n",
       "                    &plusmn; 0.0004\n",
       "                \n",
       "            </td>\n",
       "            <td style=\"padding: 0 0.5em 0 0.5em; text-align: left; border: none;\">\n",
       "                work_phone\n",
       "            </td>\n",
       "        </tr>\n",
       "    \n",
       "        <tr style=\"background-color: hsl(120, 100.00%, 96.52%); border: none;\">\n",
       "            <td style=\"padding: 0 1em 0 0.5em; text-align: right; border: none;\">\n",
       "                0.0017\n",
       "                \n",
       "                    &plusmn; 0.0004\n",
       "                \n",
       "            </td>\n",
       "            <td style=\"padding: 0 0.5em 0 0.5em; text-align: left; border: none;\">\n",
       "                house_type\n",
       "            </td>\n",
       "        </tr>\n",
       "    \n",
       "        <tr style=\"background-color: hsl(120, 100.00%, 96.88%); border: none;\">\n",
       "            <td style=\"padding: 0 1em 0 0.5em; text-align: right; border: none;\">\n",
       "                0.0014\n",
       "                \n",
       "                    &plusmn; 0.0004\n",
       "                \n",
       "            </td>\n",
       "            <td style=\"padding: 0 0.5em 0 0.5em; text-align: left; border: none;\">\n",
       "                gender\n",
       "            </td>\n",
       "        </tr>\n",
       "    \n",
       "        <tr style=\"background-color: hsl(120, 100.00%, 96.97%); border: none;\">\n",
       "            <td style=\"padding: 0 1em 0 0.5em; text-align: right; border: none;\">\n",
       "                0.0014\n",
       "                \n",
       "                    &plusmn; 0.0005\n",
       "                \n",
       "            </td>\n",
       "            <td style=\"padding: 0 0.5em 0 0.5em; text-align: left; border: none;\">\n",
       "                child_num\n",
       "            </td>\n",
       "        </tr>\n",
       "    \n",
       "        <tr style=\"background-color: hsl(120, 100.00%, 97.05%); border: none;\">\n",
       "            <td style=\"padding: 0 1em 0 0.5em; text-align: right; border: none;\">\n",
       "                0.0013\n",
       "                \n",
       "                    &plusmn; 0.0005\n",
       "                \n",
       "            </td>\n",
       "            <td style=\"padding: 0 0.5em 0 0.5em; text-align: left; border: none;\">\n",
       "                car\n",
       "            </td>\n",
       "        </tr>\n",
       "    \n",
       "        <tr style=\"background-color: hsl(120, 100.00%, 98.37%); border: none;\">\n",
       "            <td style=\"padding: 0 1em 0 0.5em; text-align: right; border: none;\">\n",
       "                0.0006\n",
       "                \n",
       "                    &plusmn; 0.0006\n",
       "                \n",
       "            </td>\n",
       "            <td style=\"padding: 0 0.5em 0 0.5em; text-align: left; border: none;\">\n",
       "                email\n",
       "            </td>\n",
       "        </tr>\n",
       "    \n",
       "        <tr style=\"background-color: hsl(0, 100.00%, 100.00%); border: none;\">\n",
       "            <td style=\"padding: 0 1em 0 0.5em; text-align: right; border: none;\">\n",
       "                0\n",
       "                \n",
       "                    &plusmn; 0.0000\n",
       "                \n",
       "            </td>\n",
       "            <td style=\"padding: 0 0.5em 0 0.5em; text-align: left; border: none;\">\n",
       "                FLAG_MOBIL\n",
       "            </td>\n",
       "        </tr>\n",
       "    \n",
       "        <tr style=\"background-color: hsl(0, 100.00%, 99.24%); border: none;\">\n",
       "            <td style=\"padding: 0 1em 0 0.5em; text-align: right; border: none;\">\n",
       "                -0.0002\n",
       "                \n",
       "                    &plusmn; 0.0012\n",
       "                \n",
       "            </td>\n",
       "            <td style=\"padding: 0 0.5em 0 0.5em; text-align: left; border: none;\">\n",
       "                begin_month_cate\n",
       "            </td>\n",
       "        </tr>\n",
       "    \n",
       "        <tr style=\"background-color: hsl(0, 100.00%, 98.51%); border: none;\">\n",
       "            <td style=\"padding: 0 1em 0 0.5em; text-align: right; border: none;\">\n",
       "                -0.0005\n",
       "                \n",
       "                    &plusmn; 0.0001\n",
       "                \n",
       "            </td>\n",
       "            <td style=\"padding: 0 0.5em 0 0.5em; text-align: left; border: none;\">\n",
       "                employed_bin\n",
       "            </td>\n",
       "        </tr>\n",
       "    \n",
       "        <tr style=\"background-color: hsl(0, 100.00%, 98.22%); border: none;\">\n",
       "            <td style=\"padding: 0 1em 0 0.5em; text-align: right; border: none;\">\n",
       "                -0.0006\n",
       "                \n",
       "                    &plusmn; 0.0001\n",
       "                \n",
       "            </td>\n",
       "            <td style=\"padding: 0 0.5em 0 0.5em; text-align: left; border: none;\">\n",
       "                rank_card\n",
       "            </td>\n",
       "        </tr>\n",
       "    \n",
       "        <tr style=\"background-color: hsl(0, 100.00%, 97.55%); border: none;\">\n",
       "            <td style=\"padding: 0 1em 0 0.5em; text-align: right; border: none;\">\n",
       "                -0.0010\n",
       "                \n",
       "                    &plusmn; 0.0004\n",
       "                \n",
       "            </td>\n",
       "            <td style=\"padding: 0 0.5em 0 0.5em; text-align: left; border: none;\">\n",
       "                same_card_human2\n",
       "            </td>\n",
       "        </tr>\n",
       "    \n",
       "        <tr style=\"background-color: hsl(0, 100.00%, 97.45%); border: none;\">\n",
       "            <td style=\"padding: 0 1em 0 0.5em; text-align: right; border: none;\">\n",
       "                -0.0011\n",
       "                \n",
       "                    &plusmn; 0.0005\n",
       "                \n",
       "            </td>\n",
       "            <td style=\"padding: 0 0.5em 0 0.5em; text-align: left; border: none;\">\n",
       "                same_card_human1\n",
       "            </td>\n",
       "        </tr>\n",
       "    \n",
       "        <tr style=\"background-color: hsl(0, 100.00%, 97.39%); border: none;\">\n",
       "            <td style=\"padding: 0 1em 0 0.5em; text-align: right; border: none;\">\n",
       "                -0.0011\n",
       "                \n",
       "                    &plusmn; 0.0003\n",
       "                \n",
       "            </td>\n",
       "            <td style=\"padding: 0 0.5em 0 0.5em; text-align: left; border: none;\">\n",
       "                begin_month_std\n",
       "            </td>\n",
       "        </tr>\n",
       "    \n",
       "        <tr style=\"background-color: hsl(0, 100.00%, 96.72%); border: none;\">\n",
       "            <td style=\"padding: 0 1em 0 0.5em; text-align: right; border: none;\">\n",
       "                -0.0015\n",
       "                \n",
       "                    &plusmn; 0.0004\n",
       "                \n",
       "            </td>\n",
       "            <td style=\"padding: 0 0.5em 0 0.5em; text-align: left; border: none;\">\n",
       "                num_card\n",
       "            </td>\n",
       "        </tr>\n",
       "    \n",
       "        <tr style=\"background-color: hsl(0, 100.00%, 96.72%); border: none;\">\n",
       "            <td style=\"padding: 0 1em 0 0.5em; text-align: right; border: none;\">\n",
       "                -0.0015\n",
       "                \n",
       "                    &plusmn; 0.0005\n",
       "                \n",
       "            </td>\n",
       "            <td style=\"padding: 0 0.5em 0 0.5em; text-align: left; border: none;\">\n",
       "                dup_card\n",
       "            </td>\n",
       "        </tr>\n",
       "    \n",
       "        <tr style=\"background-color: hsl(0, 100.00%, 96.41%); border: none;\">\n",
       "            <td style=\"padding: 0 1em 0 0.5em; text-align: right; border: none;\">\n",
       "                -0.0017\n",
       "                \n",
       "                    &plusmn; 0.0003\n",
       "                \n",
       "            </td>\n",
       "            <td style=\"padding: 0 0.5em 0 0.5em; text-align: left; border: none;\">\n",
       "                begin_month_bin\n",
       "            </td>\n",
       "        </tr>\n",
       "    \n",
       "        <tr style=\"background-color: hsl(0, 100.00%, 96.37%); border: none;\">\n",
       "            <td style=\"padding: 0 1em 0 0.5em; text-align: right; border: none;\">\n",
       "                -0.0018\n",
       "                \n",
       "                    &plusmn; 0.0005\n",
       "                \n",
       "            </td>\n",
       "            <td style=\"padding: 0 0.5em 0 0.5em; text-align: left; border: none;\">\n",
       "                age\n",
       "            </td>\n",
       "        </tr>\n",
       "    \n",
       "    \n",
       "    </tbody>\n",
       "</table>\n",
       "    \n",
       "\n",
       "    \n",
       "\n",
       "\n",
       "    \n",
       "\n",
       "    \n",
       "\n",
       "    \n",
       "\n",
       "    \n",
       "\n",
       "    \n",
       "\n",
       "    \n",
       "\n",
       "\n",
       "\n"
      ],
      "text/plain": [
       "<IPython.core.display.HTML object>"
      ]
     },
     "execution_count": 25,
     "metadata": {},
     "output_type": "execute_result"
    }
   ],
   "source": [
    "eli5.show_weights(perm, top = ftr.shape[1], feature_names = x_valid.columns.tolist())"
   ]
  },
  {
   "cell_type": "markdown",
   "id": "steady-nebraska",
   "metadata": {},
   "source": [
    "## 퍼뮤테이션 기준 변수 선택"
   ]
  },
  {
   "cell_type": "code",
   "execution_count": 38,
   "id": "weekly-korean",
   "metadata": {},
   "outputs": [],
   "source": [
    "## 1차 퍼뮤테이션 변수 : RF 최고기록 사용\n",
    "f_name = ['credit', 'DAYS_BIRTH', 'age_employed', 'employed_plus','DAYS_EMPLOYED', 'age_begin','birth','income_total', 'begin_employed','begin_month_max','birth_month','begin_month','begin_month_plus','begin_month_min','employed_month','occyp_type','employed_bin2','family_type','edu_type','income_type','family_size','begin_month_year' ,'asset', 'phone','reality', 'work_phone','house_type','gender','child_num','car','email']\n",
    "f_name2 = ['credit', 'DAYS_BIRTH', 'age_employed', 'employed_plus','DAYS_EMPLOYED', 'age_begin','birth','income_total', 'begin_employed','begin_month_max','birth_month','begin_month','begin_month_plus','begin_month_min','employed_month','occyp_type','employed_bin2','family_type','edu_type','income_type','family_size','begin_month_year' ,'asset', 'phone','reality', 'work_phone','house_type','gender','child_num','car']\n",
    "f_name3 = ['credit', 'DAYS_BIRTH', 'age_employed', 'employed_plus','DAYS_EMPLOYED', 'age_begin','birth','income_total', 'begin_employed','begin_month_max','birth_month','begin_month','begin_month_plus','begin_month_min','employed_month','occyp_type','employed_bin2','family_type','edu_type','income_type','family_size','begin_month_year' ,'asset', 'phone','reality', 'work_phone','house_type','gender','child_num']\n",
    "f_name4 = ['credit', 'DAYS_BIRTH', 'age_employed', 'employed_plus','DAYS_EMPLOYED', 'age_begin','birth','income_total', 'begin_employed','begin_month_max','birth_month','begin_month','begin_month_plus','begin_month_min','employed_month','occyp_type','employed_bin2','family_type','edu_type','income_type','family_size','begin_month_year' ,'asset', 'phone','reality', 'work_phone','house_type','gender']\n",
    "f_name5 = ['credit', 'DAYS_BIRTH', 'age_employed', 'employed_plus','DAYS_EMPLOYED', 'age_begin','birth','income_total', 'begin_employed','begin_month_max','birth_month','begin_month','begin_month_plus','begin_month_min','employed_month','occyp_type','employed_bin2','family_type','edu_type','income_type','family_size','begin_month_year' ,'asset', 'phone','reality', 'work_phone','house_type']\n",
    "f_name6 = ['credit', 'DAYS_BIRTH', 'age_employed', 'employed_plus','DAYS_EMPLOYED', 'age_begin','birth','income_total', 'begin_employed','begin_month_max','birth_month','begin_month','begin_month_plus','begin_month_min','employed_month','occyp_type','employed_bin2','family_type','edu_type','income_type','family_size','begin_month_year' ,'asset', 'phone','reality', 'work_phone']\n",
    "f_name7 = ['credit', 'DAYS_BIRTH', 'age_employed', 'employed_plus','DAYS_EMPLOYED', 'age_begin','birth','income_total', 'begin_employed','begin_month_max','birth_month','begin_month','begin_month_plus','begin_month_min','employed_month','occyp_type','employed_bin2','family_type','edu_type','income_type','family_size','begin_month_year' ,'asset', 'phone','reality']\n",
    "f_name8 = ['credit', 'DAYS_BIRTH', 'age_employed', 'employed_plus','DAYS_EMPLOYED', 'age_begin','birth','income_total', 'begin_employed','begin_month_max','birth_month','begin_month']\n",
    "\n",
    "# 9가 제일 좋음\n",
    "f_name9 = ['credit', 'DAYS_BIRTH', 'age_employed', 'employed_plus','DAYS_EMPLOYED', 'age_begin','birth','income_total', 'begin_employed','begin_month_max','birth_month','begin_month','begin_month_plus','begin_month_min','employed_month','occyp_type','employed_bin2','family_type','edu_type','income_type','family_size','begin_month_year' ,'asset', 'phone']\n",
    "f_name10 = ['credit', 'DAYS_BIRTH', 'age_employed', 'employed_plus','DAYS_EMPLOYED', 'age_begin','birth','income_total', 'begin_employed','begin_month_max','birth_month','begin_month','begin_month_plus','begin_month_min','employed_month','occyp_type','employed_bin2','family_type','edu_type','income_type','family_size','begin_month_year' ,'asset']\n",
    "f_name11 = ['credit', 'DAYS_BIRTH', 'age_employed', 'employed_plus','DAYS_EMPLOYED', 'age_begin','birth','income_total', 'begin_employed','begin_month_max','birth_month','begin_month','begin_month_plus','begin_month_min','employed_month','occyp_type','employed_bin2','family_type','edu_type','income_type','family_size','begin_month_year']\n",
    "f_name12 = ['credit', 'DAYS_BIRTH', 'age_employed', 'employed_plus','DAYS_EMPLOYED', 'age_begin','birth','income_total', 'begin_employed','begin_month_max','birth_month','begin_month','begin_month_plus','begin_month_min','employed_month','occyp_type','employed_bin2','family_type','edu_type','income_type','family_size']\n",
    "f_name13 = ['credit', 'DAYS_BIRTH', 'age_employed', 'employed_plus','DAYS_EMPLOYED', 'age_begin','birth','income_total', 'begin_employed','begin_month_max','birth_month','begin_month','begin_month_plus','begin_month_min','employed_month','occyp_type','employed_bin2','family_type','edu_type','income_type']\n",
    "f_name14 = ['credit', 'DAYS_BIRTH', 'age_employed', 'employed_plus','DAYS_EMPLOYED', 'age_begin','birth','income_total', 'begin_employed','begin_month_max','birth_month','begin_month','begin_month_plus','begin_month_min','employed_month','occyp_type','employed_bin2','family_type','edu_type']\n",
    "f_name15 = ['credit', 'DAYS_BIRTH', 'age_employed', 'employed_plus','DAYS_EMPLOYED', 'age_begin','birth','income_total', 'begin_employed','begin_month_max','birth_month','begin_month','begin_month_plus','begin_month_min','employed_month','occyp_type','employed_bin2','family_type']\n",
    "f_name16 = ['credit', 'DAYS_BIRTH', 'age_employed', 'employed_plus','DAYS_EMPLOYED', 'age_begin','birth','income_total', 'begin_employed','begin_month_max','birth_month','begin_month','begin_month_plus','begin_month_min','employed_month','occyp_type','employed_bin2']\n",
    "f_name17 = ['credit', 'DAYS_BIRTH', 'age_employed', 'employed_plus','DAYS_EMPLOYED', 'age_begin','birth','income_total', 'begin_employed','begin_month_max','birth_month','begin_month','begin_month_plus','begin_month_min','employed_month','occyp_type']\n",
    "f_name18 = ['credit', 'DAYS_BIRTH', 'age_employed', 'employed_plus','DAYS_EMPLOYED', 'age_begin','birth','income_total', 'begin_employed','begin_month_max','birth_month','begin_month','begin_month_plus','begin_month_min','employed_month']\n",
    "f_name19 = ['credit', 'DAYS_BIRTH', 'age_employed', 'employed_plus','DAYS_EMPLOYED', 'age_begin','birth','income_total', 'begin_employed','begin_month_max','birth_month','begin_month','begin_month_plus','begin_month_min']\n",
    "f_name20 = ['credit', 'DAYS_BIRTH', 'age_employed', 'employed_plus','DAYS_EMPLOYED', 'age_begin','birth','income_total', 'begin_employed','begin_month_max','birth_month','begin_month','begin_month_plus']"
   ]
  },
  {
   "cell_type": "markdown",
   "id": "exciting-anthropology",
   "metadata": {},
   "source": [
    "## 변수를 줄여가며 확인"
   ]
  },
  {
   "cell_type": "code",
   "execution_count": 30,
   "id": "willing-contact",
   "metadata": {
    "scrolled": true
   },
   "outputs": [
    {
     "name": "stderr",
     "output_type": "stream",
     "text": [
      "  5%|▌         | 1/20 [01:00<19:11, 60.61s/it]"
     ]
    },
    {
     "name": "stdout",
     "output_type": "stream",
     "text": [
      "['credit', 'DAYS_BIRTH', 'age_employed', 'employed_plus', 'DAYS_EMPLOYED', 'age_begin', 'birth', 'income_total', 'begin_employed', 'begin_month_max', 'birth_month', 'begin_month', 'begin_month_plus', 'begin_month_min', 'employed_month', 'occyp_type', 'employed_bin2', 'family_type', 'edu_type', 'income_type', 'family_size', 'begin_month_year', 'asset', 'phone', 'reality', 'work_phone', 'house_type', 'gender', 'child_num', 'car', 'email'] 0.7693498723354302\n"
     ]
    },
    {
     "name": "stderr",
     "output_type": "stream",
     "text": [
      "  5%|▌         | 1/20 [01:19<25:11, 79.53s/it]\n"
     ]
    },
    {
     "ename": "KeyboardInterrupt",
     "evalue": "",
     "output_type": "error",
     "traceback": [
      "\u001b[1;31m---------------------------------------------------------------------------\u001b[0m",
      "\u001b[1;31mKeyboardInterrupt\u001b[0m                         Traceback (most recent call last)",
      "\u001b[1;32m<ipython-input-30-5559e58d024e>\u001b[0m in \u001b[0;36m<module>\u001b[1;34m\u001b[0m\n\u001b[0;32m     12\u001b[0m                             \u001b[0mn_jobs\u001b[0m \u001b[1;33m=\u001b[0m \u001b[1;36m8\u001b[0m\u001b[1;33m\u001b[0m\u001b[1;33m\u001b[0m\u001b[0m\n\u001b[0;32m     13\u001b[0m                            )\n\u001b[1;32m---> 14\u001b[1;33m     \u001b[0mrf\u001b[0m\u001b[1;33m.\u001b[0m\u001b[0mfit\u001b[0m\u001b[1;33m(\u001b[0m\u001b[0mx_train\u001b[0m\u001b[1;33m,\u001b[0m \u001b[0my_train\u001b[0m\u001b[1;33m)\u001b[0m\u001b[1;33m\u001b[0m\u001b[1;33m\u001b[0m\u001b[0m\n\u001b[0m\u001b[0;32m     15\u001b[0m     \u001b[0mrf_pred\u001b[0m \u001b[1;33m=\u001b[0m \u001b[0mrf\u001b[0m\u001b[1;33m.\u001b[0m\u001b[0mpredict_proba\u001b[0m\u001b[1;33m(\u001b[0m\u001b[0mx_valid\u001b[0m\u001b[1;33m)\u001b[0m\u001b[1;33m\u001b[0m\u001b[1;33m\u001b[0m\u001b[0m\n\u001b[0;32m     16\u001b[0m     \u001b[0mprint\u001b[0m\u001b[1;33m(\u001b[0m\u001b[0mi\u001b[0m\u001b[1;33m,\u001b[0m \u001b[0mlog_loss\u001b[0m\u001b[1;33m(\u001b[0m\u001b[0my_valid\u001b[0m\u001b[1;33m,\u001b[0m \u001b[0mrf_pred\u001b[0m\u001b[1;33m)\u001b[0m\u001b[1;33m)\u001b[0m\u001b[1;33m\u001b[0m\u001b[1;33m\u001b[0m\u001b[0m\n",
      "\u001b[1;32m~\\anaconda3\\envs\\algo\\lib\\site-packages\\sklearn\\ensemble\\_forest.py\u001b[0m in \u001b[0;36mfit\u001b[1;34m(self, X, y, sample_weight)\u001b[0m\n\u001b[0;32m    391\u001b[0m                     \u001b[0mverbose\u001b[0m\u001b[1;33m=\u001b[0m\u001b[0mself\u001b[0m\u001b[1;33m.\u001b[0m\u001b[0mverbose\u001b[0m\u001b[1;33m,\u001b[0m \u001b[0mclass_weight\u001b[0m\u001b[1;33m=\u001b[0m\u001b[0mself\u001b[0m\u001b[1;33m.\u001b[0m\u001b[0mclass_weight\u001b[0m\u001b[1;33m,\u001b[0m\u001b[1;33m\u001b[0m\u001b[1;33m\u001b[0m\u001b[0m\n\u001b[0;32m    392\u001b[0m                     n_samples_bootstrap=n_samples_bootstrap)\n\u001b[1;32m--> 393\u001b[1;33m                 for i, t in enumerate(trees))\n\u001b[0m\u001b[0;32m    394\u001b[0m \u001b[1;33m\u001b[0m\u001b[0m\n\u001b[0;32m    395\u001b[0m             \u001b[1;31m# Collect newly grown trees\u001b[0m\u001b[1;33m\u001b[0m\u001b[1;33m\u001b[0m\u001b[1;33m\u001b[0m\u001b[0m\n",
      "\u001b[1;32m~\\anaconda3\\envs\\algo\\lib\\site-packages\\joblib\\parallel.py\u001b[0m in \u001b[0;36m__call__\u001b[1;34m(self, iterable)\u001b[0m\n\u001b[0;32m   1052\u001b[0m \u001b[1;33m\u001b[0m\u001b[0m\n\u001b[0;32m   1053\u001b[0m             \u001b[1;32mwith\u001b[0m \u001b[0mself\u001b[0m\u001b[1;33m.\u001b[0m\u001b[0m_backend\u001b[0m\u001b[1;33m.\u001b[0m\u001b[0mretrieval_context\u001b[0m\u001b[1;33m(\u001b[0m\u001b[1;33m)\u001b[0m\u001b[1;33m:\u001b[0m\u001b[1;33m\u001b[0m\u001b[1;33m\u001b[0m\u001b[0m\n\u001b[1;32m-> 1054\u001b[1;33m                 \u001b[0mself\u001b[0m\u001b[1;33m.\u001b[0m\u001b[0mretrieve\u001b[0m\u001b[1;33m(\u001b[0m\u001b[1;33m)\u001b[0m\u001b[1;33m\u001b[0m\u001b[1;33m\u001b[0m\u001b[0m\n\u001b[0m\u001b[0;32m   1055\u001b[0m             \u001b[1;31m# Make sure that we get a last message telling us we are done\u001b[0m\u001b[1;33m\u001b[0m\u001b[1;33m\u001b[0m\u001b[1;33m\u001b[0m\u001b[0m\n\u001b[0;32m   1056\u001b[0m             \u001b[0melapsed_time\u001b[0m \u001b[1;33m=\u001b[0m \u001b[0mtime\u001b[0m\u001b[1;33m.\u001b[0m\u001b[0mtime\u001b[0m\u001b[1;33m(\u001b[0m\u001b[1;33m)\u001b[0m \u001b[1;33m-\u001b[0m \u001b[0mself\u001b[0m\u001b[1;33m.\u001b[0m\u001b[0m_start_time\u001b[0m\u001b[1;33m\u001b[0m\u001b[1;33m\u001b[0m\u001b[0m\n",
      "\u001b[1;32m~\\anaconda3\\envs\\algo\\lib\\site-packages\\joblib\\parallel.py\u001b[0m in \u001b[0;36mretrieve\u001b[1;34m(self)\u001b[0m\n\u001b[0;32m    931\u001b[0m             \u001b[1;32mtry\u001b[0m\u001b[1;33m:\u001b[0m\u001b[1;33m\u001b[0m\u001b[1;33m\u001b[0m\u001b[0m\n\u001b[0;32m    932\u001b[0m                 \u001b[1;32mif\u001b[0m \u001b[0mgetattr\u001b[0m\u001b[1;33m(\u001b[0m\u001b[0mself\u001b[0m\u001b[1;33m.\u001b[0m\u001b[0m_backend\u001b[0m\u001b[1;33m,\u001b[0m \u001b[1;34m'supports_timeout'\u001b[0m\u001b[1;33m,\u001b[0m \u001b[1;32mFalse\u001b[0m\u001b[1;33m)\u001b[0m\u001b[1;33m:\u001b[0m\u001b[1;33m\u001b[0m\u001b[1;33m\u001b[0m\u001b[0m\n\u001b[1;32m--> 933\u001b[1;33m                     \u001b[0mself\u001b[0m\u001b[1;33m.\u001b[0m\u001b[0m_output\u001b[0m\u001b[1;33m.\u001b[0m\u001b[0mextend\u001b[0m\u001b[1;33m(\u001b[0m\u001b[0mjob\u001b[0m\u001b[1;33m.\u001b[0m\u001b[0mget\u001b[0m\u001b[1;33m(\u001b[0m\u001b[0mtimeout\u001b[0m\u001b[1;33m=\u001b[0m\u001b[0mself\u001b[0m\u001b[1;33m.\u001b[0m\u001b[0mtimeout\u001b[0m\u001b[1;33m)\u001b[0m\u001b[1;33m)\u001b[0m\u001b[1;33m\u001b[0m\u001b[1;33m\u001b[0m\u001b[0m\n\u001b[0m\u001b[0;32m    934\u001b[0m                 \u001b[1;32melse\u001b[0m\u001b[1;33m:\u001b[0m\u001b[1;33m\u001b[0m\u001b[1;33m\u001b[0m\u001b[0m\n\u001b[0;32m    935\u001b[0m                     \u001b[0mself\u001b[0m\u001b[1;33m.\u001b[0m\u001b[0m_output\u001b[0m\u001b[1;33m.\u001b[0m\u001b[0mextend\u001b[0m\u001b[1;33m(\u001b[0m\u001b[0mjob\u001b[0m\u001b[1;33m.\u001b[0m\u001b[0mget\u001b[0m\u001b[1;33m(\u001b[0m\u001b[1;33m)\u001b[0m\u001b[1;33m)\u001b[0m\u001b[1;33m\u001b[0m\u001b[1;33m\u001b[0m\u001b[0m\n",
      "\u001b[1;32m~\\anaconda3\\envs\\algo\\lib\\multiprocessing\\pool.py\u001b[0m in \u001b[0;36mget\u001b[1;34m(self, timeout)\u001b[0m\n\u001b[0;32m    649\u001b[0m \u001b[1;33m\u001b[0m\u001b[0m\n\u001b[0;32m    650\u001b[0m     \u001b[1;32mdef\u001b[0m \u001b[0mget\u001b[0m\u001b[1;33m(\u001b[0m\u001b[0mself\u001b[0m\u001b[1;33m,\u001b[0m \u001b[0mtimeout\u001b[0m\u001b[1;33m=\u001b[0m\u001b[1;32mNone\u001b[0m\u001b[1;33m)\u001b[0m\u001b[1;33m:\u001b[0m\u001b[1;33m\u001b[0m\u001b[1;33m\u001b[0m\u001b[0m\n\u001b[1;32m--> 651\u001b[1;33m         \u001b[0mself\u001b[0m\u001b[1;33m.\u001b[0m\u001b[0mwait\u001b[0m\u001b[1;33m(\u001b[0m\u001b[0mtimeout\u001b[0m\u001b[1;33m)\u001b[0m\u001b[1;33m\u001b[0m\u001b[1;33m\u001b[0m\u001b[0m\n\u001b[0m\u001b[0;32m    652\u001b[0m         \u001b[1;32mif\u001b[0m \u001b[1;32mnot\u001b[0m \u001b[0mself\u001b[0m\u001b[1;33m.\u001b[0m\u001b[0mready\u001b[0m\u001b[1;33m(\u001b[0m\u001b[1;33m)\u001b[0m\u001b[1;33m:\u001b[0m\u001b[1;33m\u001b[0m\u001b[1;33m\u001b[0m\u001b[0m\n\u001b[0;32m    653\u001b[0m             \u001b[1;32mraise\u001b[0m \u001b[0mTimeoutError\u001b[0m\u001b[1;33m\u001b[0m\u001b[1;33m\u001b[0m\u001b[0m\n",
      "\u001b[1;32m~\\anaconda3\\envs\\algo\\lib\\multiprocessing\\pool.py\u001b[0m in \u001b[0;36mwait\u001b[1;34m(self, timeout)\u001b[0m\n\u001b[0;32m    646\u001b[0m \u001b[1;33m\u001b[0m\u001b[0m\n\u001b[0;32m    647\u001b[0m     \u001b[1;32mdef\u001b[0m \u001b[0mwait\u001b[0m\u001b[1;33m(\u001b[0m\u001b[0mself\u001b[0m\u001b[1;33m,\u001b[0m \u001b[0mtimeout\u001b[0m\u001b[1;33m=\u001b[0m\u001b[1;32mNone\u001b[0m\u001b[1;33m)\u001b[0m\u001b[1;33m:\u001b[0m\u001b[1;33m\u001b[0m\u001b[1;33m\u001b[0m\u001b[0m\n\u001b[1;32m--> 648\u001b[1;33m         \u001b[0mself\u001b[0m\u001b[1;33m.\u001b[0m\u001b[0m_event\u001b[0m\u001b[1;33m.\u001b[0m\u001b[0mwait\u001b[0m\u001b[1;33m(\u001b[0m\u001b[0mtimeout\u001b[0m\u001b[1;33m)\u001b[0m\u001b[1;33m\u001b[0m\u001b[1;33m\u001b[0m\u001b[0m\n\u001b[0m\u001b[0;32m    649\u001b[0m \u001b[1;33m\u001b[0m\u001b[0m\n\u001b[0;32m    650\u001b[0m     \u001b[1;32mdef\u001b[0m \u001b[0mget\u001b[0m\u001b[1;33m(\u001b[0m\u001b[0mself\u001b[0m\u001b[1;33m,\u001b[0m \u001b[0mtimeout\u001b[0m\u001b[1;33m=\u001b[0m\u001b[1;32mNone\u001b[0m\u001b[1;33m)\u001b[0m\u001b[1;33m:\u001b[0m\u001b[1;33m\u001b[0m\u001b[1;33m\u001b[0m\u001b[0m\n",
      "\u001b[1;32m~\\anaconda3\\envs\\algo\\lib\\threading.py\u001b[0m in \u001b[0;36mwait\u001b[1;34m(self, timeout)\u001b[0m\n\u001b[0;32m    550\u001b[0m             \u001b[0msignaled\u001b[0m \u001b[1;33m=\u001b[0m \u001b[0mself\u001b[0m\u001b[1;33m.\u001b[0m\u001b[0m_flag\u001b[0m\u001b[1;33m\u001b[0m\u001b[1;33m\u001b[0m\u001b[0m\n\u001b[0;32m    551\u001b[0m             \u001b[1;32mif\u001b[0m \u001b[1;32mnot\u001b[0m \u001b[0msignaled\u001b[0m\u001b[1;33m:\u001b[0m\u001b[1;33m\u001b[0m\u001b[1;33m\u001b[0m\u001b[0m\n\u001b[1;32m--> 552\u001b[1;33m                 \u001b[0msignaled\u001b[0m \u001b[1;33m=\u001b[0m \u001b[0mself\u001b[0m\u001b[1;33m.\u001b[0m\u001b[0m_cond\u001b[0m\u001b[1;33m.\u001b[0m\u001b[0mwait\u001b[0m\u001b[1;33m(\u001b[0m\u001b[0mtimeout\u001b[0m\u001b[1;33m)\u001b[0m\u001b[1;33m\u001b[0m\u001b[1;33m\u001b[0m\u001b[0m\n\u001b[0m\u001b[0;32m    553\u001b[0m             \u001b[1;32mreturn\u001b[0m \u001b[0msignaled\u001b[0m\u001b[1;33m\u001b[0m\u001b[1;33m\u001b[0m\u001b[0m\n\u001b[0;32m    554\u001b[0m \u001b[1;33m\u001b[0m\u001b[0m\n",
      "\u001b[1;32m~\\anaconda3\\envs\\algo\\lib\\threading.py\u001b[0m in \u001b[0;36mwait\u001b[1;34m(self, timeout)\u001b[0m\n\u001b[0;32m    294\u001b[0m         \u001b[1;32mtry\u001b[0m\u001b[1;33m:\u001b[0m    \u001b[1;31m# restore state no matter what (e.g., KeyboardInterrupt)\u001b[0m\u001b[1;33m\u001b[0m\u001b[1;33m\u001b[0m\u001b[0m\n\u001b[0;32m    295\u001b[0m             \u001b[1;32mif\u001b[0m \u001b[0mtimeout\u001b[0m \u001b[1;32mis\u001b[0m \u001b[1;32mNone\u001b[0m\u001b[1;33m:\u001b[0m\u001b[1;33m\u001b[0m\u001b[1;33m\u001b[0m\u001b[0m\n\u001b[1;32m--> 296\u001b[1;33m                 \u001b[0mwaiter\u001b[0m\u001b[1;33m.\u001b[0m\u001b[0macquire\u001b[0m\u001b[1;33m(\u001b[0m\u001b[1;33m)\u001b[0m\u001b[1;33m\u001b[0m\u001b[1;33m\u001b[0m\u001b[0m\n\u001b[0m\u001b[0;32m    297\u001b[0m                 \u001b[0mgotit\u001b[0m \u001b[1;33m=\u001b[0m \u001b[1;32mTrue\u001b[0m\u001b[1;33m\u001b[0m\u001b[1;33m\u001b[0m\u001b[0m\n\u001b[0;32m    298\u001b[0m             \u001b[1;32melse\u001b[0m\u001b[1;33m:\u001b[0m\u001b[1;33m\u001b[0m\u001b[1;33m\u001b[0m\u001b[0m\n",
      "\u001b[1;31mKeyboardInterrupt\u001b[0m: "
     ]
    }
   ],
   "source": [
    "from tqdm import tqdm\n",
    "\n",
    "for i in tqdm([f_name, f_name2, f_name3, f_name4, f_name5, f_name6, f_name7, f_name8, f_name9, f_name10, f_name11, f_name12, f_name13, f_name14, f_name15, f_name16, f_name17, f_name18, f_name19, f_name20]):\n",
    "    # train과 valid(test) 셋을 분리 \n",
    "    x_train, x_valid, y_train, y_valid = train_test_split(trn[i].drop('credit', axis=1), trn.credit, test_size=0.3, stratify=trn.credit, random_state=40)\n",
    "\n",
    "    # RF 모델링 \n",
    "    ex = ExtraTreesClassifier(n_estimators = 5000,\n",
    "                           max_features = 5,\n",
    "                           min_samples_split = 6,\n",
    "                            random_state = 2021,\n",
    "                            n_jobs = 8\n",
    "                           )\n",
    "    ex.fit(x_train, y_train)\n",
    "    ex_pred = ex.predict_proba(x_valid)\n",
    "    print(i, log_loss(y_valid, ex_pred))"
   ]
  },
  {
   "cell_type": "markdown",
   "id": "pediatric-illness",
   "metadata": {},
   "source": [
    "## 교차검증을 사용하여 확인\n",
    "- max_features = 3, min_samples_split = 6 : 이 2개를 넣으면 변수가 많아서 그런지 cv=5로 해서 돌리면 최고가 0.7386759055883846이다. (email까지 사용)\n",
    "- 디폴트 값으로 돌린 다음 제일 좋은 것을 파라미터 튜닝하여 사용해보기 (1번)\n",
    "- 상관관계 확인하여 지우기 (2번)\n",
    "- 라벨인코딩을 새로이 하여 상관관계 확인하기 (2번에서 하기)"
   ]
  },
  {
   "cell_type": "code",
   "execution_count": 37,
   "id": "known-reputation",
   "metadata": {
    "scrolled": false
   },
   "outputs": [
    {
     "name": "stderr",
     "output_type": "stream",
     "text": [
      "\r",
      "  0%|          | 0/20 [00:00<?, ?it/s]"
     ]
    },
    {
     "name": "stdout",
     "output_type": "stream",
     "text": [
      "(26457, 42)\n",
      "(10000, 41)\n",
      "training model for CV #1\n"
     ]
    },
    {
     "name": "stderr",
     "output_type": "stream",
     "text": [
      "  0%|          | 0/20 [00:08<?, ?it/s]\n"
     ]
    },
    {
     "ename": "KeyboardInterrupt",
     "evalue": "",
     "output_type": "error",
     "traceback": [
      "\u001b[1;31m---------------------------------------------------------------------------\u001b[0m",
      "\u001b[1;31mKeyboardInterrupt\u001b[0m                         Traceback (most recent call last)",
      "\u001b[1;32m<ipython-input-37-e0096f15fc2d>\u001b[0m in \u001b[0;36m<module>\u001b[1;34m\u001b[0m\n\u001b[0;32m     19\u001b[0m \u001b[1;31m#                                 min_samples_split = 6,\u001b[0m\u001b[1;33m\u001b[0m\u001b[1;33m\u001b[0m\u001b[1;33m\u001b[0m\u001b[0m\n\u001b[0;32m     20\u001b[0m                                 n_jobs=10)\n\u001b[1;32m---> 21\u001b[1;33m         \u001b[0mrf_clf\u001b[0m\u001b[1;33m.\u001b[0m\u001b[0mfit\u001b[0m\u001b[1;33m(\u001b[0m\u001b[0mftr\u001b[0m\u001b[1;33m[\u001b[0m\u001b[0mi_trn\u001b[0m\u001b[1;33m]\u001b[0m\u001b[1;33m,\u001b[0m \u001b[0mtarget\u001b[0m\u001b[1;33m[\u001b[0m\u001b[0mi_trn\u001b[0m\u001b[1;33m]\u001b[0m\u001b[1;33m)\u001b[0m\u001b[1;33m\u001b[0m\u001b[1;33m\u001b[0m\u001b[0m\n\u001b[0m\u001b[0;32m     22\u001b[0m         \u001b[0mrf_p_val\u001b[0m\u001b[1;33m[\u001b[0m\u001b[0mi_val\u001b[0m\u001b[1;33m,\u001b[0m \u001b[1;33m:\u001b[0m\u001b[1;33m]\u001b[0m \u001b[1;33m=\u001b[0m \u001b[0mrf_clf\u001b[0m\u001b[1;33m.\u001b[0m\u001b[0mpredict_proba\u001b[0m\u001b[1;33m(\u001b[0m\u001b[0mftr\u001b[0m\u001b[1;33m[\u001b[0m\u001b[0mi_val\u001b[0m\u001b[1;33m]\u001b[0m\u001b[1;33m)\u001b[0m\u001b[1;33m\u001b[0m\u001b[1;33m\u001b[0m\u001b[0m\n\u001b[0;32m     23\u001b[0m         \u001b[0mrf_p_tst\u001b[0m \u001b[1;33m+=\u001b[0m \u001b[0mrf_clf\u001b[0m\u001b[1;33m.\u001b[0m\u001b[0mpredict_proba\u001b[0m\u001b[1;33m(\u001b[0m\u001b[0mtst_ar\u001b[0m\u001b[1;33m)\u001b[0m \u001b[1;33m/\u001b[0m \u001b[0mn_fold\u001b[0m\u001b[1;33m\u001b[0m\u001b[1;33m\u001b[0m\u001b[0m\n",
      "\u001b[1;32m~\\anaconda3\\envs\\algo\\lib\\site-packages\\sklearn\\ensemble\\_forest.py\u001b[0m in \u001b[0;36mfit\u001b[1;34m(self, X, y, sample_weight)\u001b[0m\n\u001b[0;32m    391\u001b[0m                     \u001b[0mverbose\u001b[0m\u001b[1;33m=\u001b[0m\u001b[0mself\u001b[0m\u001b[1;33m.\u001b[0m\u001b[0mverbose\u001b[0m\u001b[1;33m,\u001b[0m \u001b[0mclass_weight\u001b[0m\u001b[1;33m=\u001b[0m\u001b[0mself\u001b[0m\u001b[1;33m.\u001b[0m\u001b[0mclass_weight\u001b[0m\u001b[1;33m,\u001b[0m\u001b[1;33m\u001b[0m\u001b[1;33m\u001b[0m\u001b[0m\n\u001b[0;32m    392\u001b[0m                     n_samples_bootstrap=n_samples_bootstrap)\n\u001b[1;32m--> 393\u001b[1;33m                 for i, t in enumerate(trees))\n\u001b[0m\u001b[0;32m    394\u001b[0m \u001b[1;33m\u001b[0m\u001b[0m\n\u001b[0;32m    395\u001b[0m             \u001b[1;31m# Collect newly grown trees\u001b[0m\u001b[1;33m\u001b[0m\u001b[1;33m\u001b[0m\u001b[1;33m\u001b[0m\u001b[0m\n",
      "\u001b[1;32m~\\anaconda3\\envs\\algo\\lib\\site-packages\\joblib\\parallel.py\u001b[0m in \u001b[0;36m__call__\u001b[1;34m(self, iterable)\u001b[0m\n\u001b[0;32m   1052\u001b[0m \u001b[1;33m\u001b[0m\u001b[0m\n\u001b[0;32m   1053\u001b[0m             \u001b[1;32mwith\u001b[0m \u001b[0mself\u001b[0m\u001b[1;33m.\u001b[0m\u001b[0m_backend\u001b[0m\u001b[1;33m.\u001b[0m\u001b[0mretrieval_context\u001b[0m\u001b[1;33m(\u001b[0m\u001b[1;33m)\u001b[0m\u001b[1;33m:\u001b[0m\u001b[1;33m\u001b[0m\u001b[1;33m\u001b[0m\u001b[0m\n\u001b[1;32m-> 1054\u001b[1;33m                 \u001b[0mself\u001b[0m\u001b[1;33m.\u001b[0m\u001b[0mretrieve\u001b[0m\u001b[1;33m(\u001b[0m\u001b[1;33m)\u001b[0m\u001b[1;33m\u001b[0m\u001b[1;33m\u001b[0m\u001b[0m\n\u001b[0m\u001b[0;32m   1055\u001b[0m             \u001b[1;31m# Make sure that we get a last message telling us we are done\u001b[0m\u001b[1;33m\u001b[0m\u001b[1;33m\u001b[0m\u001b[1;33m\u001b[0m\u001b[0m\n\u001b[0;32m   1056\u001b[0m             \u001b[0melapsed_time\u001b[0m \u001b[1;33m=\u001b[0m \u001b[0mtime\u001b[0m\u001b[1;33m.\u001b[0m\u001b[0mtime\u001b[0m\u001b[1;33m(\u001b[0m\u001b[1;33m)\u001b[0m \u001b[1;33m-\u001b[0m \u001b[0mself\u001b[0m\u001b[1;33m.\u001b[0m\u001b[0m_start_time\u001b[0m\u001b[1;33m\u001b[0m\u001b[1;33m\u001b[0m\u001b[0m\n",
      "\u001b[1;32m~\\anaconda3\\envs\\algo\\lib\\site-packages\\joblib\\parallel.py\u001b[0m in \u001b[0;36mretrieve\u001b[1;34m(self)\u001b[0m\n\u001b[0;32m    931\u001b[0m             \u001b[1;32mtry\u001b[0m\u001b[1;33m:\u001b[0m\u001b[1;33m\u001b[0m\u001b[1;33m\u001b[0m\u001b[0m\n\u001b[0;32m    932\u001b[0m                 \u001b[1;32mif\u001b[0m \u001b[0mgetattr\u001b[0m\u001b[1;33m(\u001b[0m\u001b[0mself\u001b[0m\u001b[1;33m.\u001b[0m\u001b[0m_backend\u001b[0m\u001b[1;33m,\u001b[0m \u001b[1;34m'supports_timeout'\u001b[0m\u001b[1;33m,\u001b[0m \u001b[1;32mFalse\u001b[0m\u001b[1;33m)\u001b[0m\u001b[1;33m:\u001b[0m\u001b[1;33m\u001b[0m\u001b[1;33m\u001b[0m\u001b[0m\n\u001b[1;32m--> 933\u001b[1;33m                     \u001b[0mself\u001b[0m\u001b[1;33m.\u001b[0m\u001b[0m_output\u001b[0m\u001b[1;33m.\u001b[0m\u001b[0mextend\u001b[0m\u001b[1;33m(\u001b[0m\u001b[0mjob\u001b[0m\u001b[1;33m.\u001b[0m\u001b[0mget\u001b[0m\u001b[1;33m(\u001b[0m\u001b[0mtimeout\u001b[0m\u001b[1;33m=\u001b[0m\u001b[0mself\u001b[0m\u001b[1;33m.\u001b[0m\u001b[0mtimeout\u001b[0m\u001b[1;33m)\u001b[0m\u001b[1;33m)\u001b[0m\u001b[1;33m\u001b[0m\u001b[1;33m\u001b[0m\u001b[0m\n\u001b[0m\u001b[0;32m    934\u001b[0m                 \u001b[1;32melse\u001b[0m\u001b[1;33m:\u001b[0m\u001b[1;33m\u001b[0m\u001b[1;33m\u001b[0m\u001b[0m\n\u001b[0;32m    935\u001b[0m                     \u001b[0mself\u001b[0m\u001b[1;33m.\u001b[0m\u001b[0m_output\u001b[0m\u001b[1;33m.\u001b[0m\u001b[0mextend\u001b[0m\u001b[1;33m(\u001b[0m\u001b[0mjob\u001b[0m\u001b[1;33m.\u001b[0m\u001b[0mget\u001b[0m\u001b[1;33m(\u001b[0m\u001b[1;33m)\u001b[0m\u001b[1;33m)\u001b[0m\u001b[1;33m\u001b[0m\u001b[1;33m\u001b[0m\u001b[0m\n",
      "\u001b[1;32m~\\anaconda3\\envs\\algo\\lib\\multiprocessing\\pool.py\u001b[0m in \u001b[0;36mget\u001b[1;34m(self, timeout)\u001b[0m\n\u001b[0;32m    649\u001b[0m \u001b[1;33m\u001b[0m\u001b[0m\n\u001b[0;32m    650\u001b[0m     \u001b[1;32mdef\u001b[0m \u001b[0mget\u001b[0m\u001b[1;33m(\u001b[0m\u001b[0mself\u001b[0m\u001b[1;33m,\u001b[0m \u001b[0mtimeout\u001b[0m\u001b[1;33m=\u001b[0m\u001b[1;32mNone\u001b[0m\u001b[1;33m)\u001b[0m\u001b[1;33m:\u001b[0m\u001b[1;33m\u001b[0m\u001b[1;33m\u001b[0m\u001b[0m\n\u001b[1;32m--> 651\u001b[1;33m         \u001b[0mself\u001b[0m\u001b[1;33m.\u001b[0m\u001b[0mwait\u001b[0m\u001b[1;33m(\u001b[0m\u001b[0mtimeout\u001b[0m\u001b[1;33m)\u001b[0m\u001b[1;33m\u001b[0m\u001b[1;33m\u001b[0m\u001b[0m\n\u001b[0m\u001b[0;32m    652\u001b[0m         \u001b[1;32mif\u001b[0m \u001b[1;32mnot\u001b[0m \u001b[0mself\u001b[0m\u001b[1;33m.\u001b[0m\u001b[0mready\u001b[0m\u001b[1;33m(\u001b[0m\u001b[1;33m)\u001b[0m\u001b[1;33m:\u001b[0m\u001b[1;33m\u001b[0m\u001b[1;33m\u001b[0m\u001b[0m\n\u001b[0;32m    653\u001b[0m             \u001b[1;32mraise\u001b[0m \u001b[0mTimeoutError\u001b[0m\u001b[1;33m\u001b[0m\u001b[1;33m\u001b[0m\u001b[0m\n",
      "\u001b[1;32m~\\anaconda3\\envs\\algo\\lib\\multiprocessing\\pool.py\u001b[0m in \u001b[0;36mwait\u001b[1;34m(self, timeout)\u001b[0m\n\u001b[0;32m    646\u001b[0m \u001b[1;33m\u001b[0m\u001b[0m\n\u001b[0;32m    647\u001b[0m     \u001b[1;32mdef\u001b[0m \u001b[0mwait\u001b[0m\u001b[1;33m(\u001b[0m\u001b[0mself\u001b[0m\u001b[1;33m,\u001b[0m \u001b[0mtimeout\u001b[0m\u001b[1;33m=\u001b[0m\u001b[1;32mNone\u001b[0m\u001b[1;33m)\u001b[0m\u001b[1;33m:\u001b[0m\u001b[1;33m\u001b[0m\u001b[1;33m\u001b[0m\u001b[0m\n\u001b[1;32m--> 648\u001b[1;33m         \u001b[0mself\u001b[0m\u001b[1;33m.\u001b[0m\u001b[0m_event\u001b[0m\u001b[1;33m.\u001b[0m\u001b[0mwait\u001b[0m\u001b[1;33m(\u001b[0m\u001b[0mtimeout\u001b[0m\u001b[1;33m)\u001b[0m\u001b[1;33m\u001b[0m\u001b[1;33m\u001b[0m\u001b[0m\n\u001b[0m\u001b[0;32m    649\u001b[0m \u001b[1;33m\u001b[0m\u001b[0m\n\u001b[0;32m    650\u001b[0m     \u001b[1;32mdef\u001b[0m \u001b[0mget\u001b[0m\u001b[1;33m(\u001b[0m\u001b[0mself\u001b[0m\u001b[1;33m,\u001b[0m \u001b[0mtimeout\u001b[0m\u001b[1;33m=\u001b[0m\u001b[1;32mNone\u001b[0m\u001b[1;33m)\u001b[0m\u001b[1;33m:\u001b[0m\u001b[1;33m\u001b[0m\u001b[1;33m\u001b[0m\u001b[0m\n",
      "\u001b[1;32m~\\anaconda3\\envs\\algo\\lib\\threading.py\u001b[0m in \u001b[0;36mwait\u001b[1;34m(self, timeout)\u001b[0m\n\u001b[0;32m    550\u001b[0m             \u001b[0msignaled\u001b[0m \u001b[1;33m=\u001b[0m \u001b[0mself\u001b[0m\u001b[1;33m.\u001b[0m\u001b[0m_flag\u001b[0m\u001b[1;33m\u001b[0m\u001b[1;33m\u001b[0m\u001b[0m\n\u001b[0;32m    551\u001b[0m             \u001b[1;32mif\u001b[0m \u001b[1;32mnot\u001b[0m \u001b[0msignaled\u001b[0m\u001b[1;33m:\u001b[0m\u001b[1;33m\u001b[0m\u001b[1;33m\u001b[0m\u001b[0m\n\u001b[1;32m--> 552\u001b[1;33m                 \u001b[0msignaled\u001b[0m \u001b[1;33m=\u001b[0m \u001b[0mself\u001b[0m\u001b[1;33m.\u001b[0m\u001b[0m_cond\u001b[0m\u001b[1;33m.\u001b[0m\u001b[0mwait\u001b[0m\u001b[1;33m(\u001b[0m\u001b[0mtimeout\u001b[0m\u001b[1;33m)\u001b[0m\u001b[1;33m\u001b[0m\u001b[1;33m\u001b[0m\u001b[0m\n\u001b[0m\u001b[0;32m    553\u001b[0m             \u001b[1;32mreturn\u001b[0m \u001b[0msignaled\u001b[0m\u001b[1;33m\u001b[0m\u001b[1;33m\u001b[0m\u001b[0m\n\u001b[0;32m    554\u001b[0m \u001b[1;33m\u001b[0m\u001b[0m\n",
      "\u001b[1;32m~\\anaconda3\\envs\\algo\\lib\\threading.py\u001b[0m in \u001b[0;36mwait\u001b[1;34m(self, timeout)\u001b[0m\n\u001b[0;32m    294\u001b[0m         \u001b[1;32mtry\u001b[0m\u001b[1;33m:\u001b[0m    \u001b[1;31m# restore state no matter what (e.g., KeyboardInterrupt)\u001b[0m\u001b[1;33m\u001b[0m\u001b[1;33m\u001b[0m\u001b[0m\n\u001b[0;32m    295\u001b[0m             \u001b[1;32mif\u001b[0m \u001b[0mtimeout\u001b[0m \u001b[1;32mis\u001b[0m \u001b[1;32mNone\u001b[0m\u001b[1;33m:\u001b[0m\u001b[1;33m\u001b[0m\u001b[1;33m\u001b[0m\u001b[0m\n\u001b[1;32m--> 296\u001b[1;33m                 \u001b[0mwaiter\u001b[0m\u001b[1;33m.\u001b[0m\u001b[0macquire\u001b[0m\u001b[1;33m(\u001b[0m\u001b[1;33m)\u001b[0m\u001b[1;33m\u001b[0m\u001b[1;33m\u001b[0m\u001b[0m\n\u001b[0m\u001b[0;32m    297\u001b[0m                 \u001b[0mgotit\u001b[0m \u001b[1;33m=\u001b[0m \u001b[1;32mTrue\u001b[0m\u001b[1;33m\u001b[0m\u001b[1;33m\u001b[0m\u001b[0m\n\u001b[0;32m    298\u001b[0m             \u001b[1;32melse\u001b[0m\u001b[1;33m:\u001b[0m\u001b[1;33m\u001b[0m\u001b[1;33m\u001b[0m\u001b[0m\n",
      "\u001b[1;31mKeyboardInterrupt\u001b[0m: "
     ]
    }
   ],
   "source": [
    "cv = StratifiedKFold(n_splits=5, shuffle=True, random_state=40)\n",
    "\n",
    "print(trn.shape)\n",
    "print(tst.shape)\n",
    "n_class = 3\n",
    "n_fold = 5\n",
    "\n",
    "for j in tqdm([f_name, f_name2, f_name3, f_name4, f_name5, f_name6, f_name7, f_name8, f_name9, f_name10, f_name11, f_name12, f_name13, f_name14, f_name15, f_name16, f_name17, f_name18, f_name19, f_name20]):\n",
    "    j.remove('credit')\n",
    "    ftr = trn[j].values\n",
    "    tst_ar = tst[j].values\n",
    "    ext_p_val = np.zeros((ftr.shape[0], n_class))\n",
    "    ext_p_tst = np.zeros((tst_ar.shape[0], n_class))\n",
    "    for i, (i_trn, i_val) in enumerate(cv.split(ftr, target), 1):\n",
    "        print(f'training model for CV #{i}')\n",
    "        ext_clf = ExtraTreesClassifier(n_estimators = 5000, \n",
    "                                random_state=2021,\n",
    "                                max_features = 3,\n",
    "                                min_samples_split = 6,\n",
    "                                n_jobs=10)\n",
    "        ext_clf.fit(ftr[i_trn], target[i_trn])\n",
    "        ext_p_val[i_val, :] = ext_clf.predict_proba(ftr[i_val])\n",
    "        ext_p_tst += ext_clf.predict_proba(tst_ar) / n_fold\n",
    "    \n",
    "    print(j)\n",
    "    print(log_loss(target, ext_p_val))\n",
    "    print(confusion_matrix(target, np.argmax(ext_p_val, axis=1)))"
   ]
  },
  {
   "cell_type": "code",
   "execution_count": null,
   "id": "front-consciousness",
   "metadata": {},
   "outputs": [],
   "source": []
  },
  {
   "cell_type": "code",
   "execution_count": null,
   "id": "elegant-waters",
   "metadata": {},
   "outputs": [],
   "source": []
  },
  {
   "cell_type": "markdown",
   "id": "limited-hometown",
   "metadata": {},
   "source": [
    "## 교차 검증 확인"
   ]
  },
  {
   "cell_type": "code",
   "execution_count": null,
   "id": "textile-young",
   "metadata": {},
   "outputs": [],
   "source": [
    "## predict_rf\n",
    "ftr = trn6.drop('credit', axis=1).values\n",
    "target = trn['credit'].values\n",
    "tst_ar = tst.drop(['family_size', 'employed_plus'], axis = 1).values\n",
    "n_class = 3\n",
    "n_fold = 10\n",
    "\n",
    "print(ftr.shape)\n",
    "print(tst_ar.shape)\n",
    "\n",
    "cv = StratifiedKFold(n_splits=5, shuffle=True, random_state=42)\n",
    "\n",
    "print(ftr.shape)\n",
    "\n",
    "ext_p_val = np.zeros((ftr.shape[0], n_class))\n",
    "ext_p_tst = np.zeros((tst_ar.shape[0], n_class))\n",
    "\n",
    "for i, (i_trn, i_val) in enumerate(cv.split(ftr, target), 1):\n",
    "    print(f'training model for CV #{i}')\n",
    "    ext_clf = ExtraTreesClassifier(n_estimators=5000, \n",
    "                                   random_state=2021)\n",
    "    \n",
    "    ext_clf.fit(ftr[i_trn], tst_ar[i_trn])\n",
    "    ext_p_val[i_val, :] = ext_clf.predict_proba(ftr[i_val])\n",
    "    ext_p_tst += ext_clf.predict_proba(tst_ar) / n_fold\n",
    "    \n",
    "    print(log_loss(target[i_val],np.argmax(ext_p_val[i_val],axis=1)))\n",
    "\n",
    "print(f'{log_loss(target, ext_p_val)}')\n",
    "print(confusion_matrix(target, np.argmax(ext_p_val, axis=1)))"
   ]
  },
  {
   "cell_type": "code",
   "execution_count": null,
   "id": "imposed-search",
   "metadata": {},
   "outputs": [],
   "source": []
  },
  {
   "cell_type": "code",
   "execution_count": null,
   "id": "coupled-airplane",
   "metadata": {},
   "outputs": [],
   "source": []
  },
  {
   "cell_type": "code",
   "execution_count": null,
   "id": "minimal-crystal",
   "metadata": {},
   "outputs": [],
   "source": []
  },
  {
   "cell_type": "code",
   "execution_count": 122,
   "id": "brazilian-planet",
   "metadata": {},
   "outputs": [
    {
     "data": {
      "text/plain": [
       "RandomForestClassifier(max_features=5, min_samples_split=6, n_estimators=5000,\n",
       "                       n_jobs=-1, random_state=2021)"
      ]
     },
     "execution_count": 122,
     "metadata": {},
     "output_type": "execute_result"
    }
   ],
   "source": [
    "# train과 valid(test) 셋을 분리 \n",
    "x_train, x_valid, y_train, y_valid = train_test_split(trn.drop('credit', axis=1), trn.credit, test_size=0.3, stratify=trn.credit, random_state=40)\n",
    "\n",
    "# RF 모델링 \n",
    "rf = RandomForestClassifier(n_estimators = 5000,\n",
    "                           max_features = 5,\n",
    "                           min_samples_split = 6,\n",
    "                            random_state = 2021,\n",
    "                            n_jobs = -1\n",
    "                           )\n",
    "rf.fit(x_train, y_train)"
   ]
  },
  {
   "cell_type": "code",
   "execution_count": 123,
   "id": "constitutional-center",
   "metadata": {},
   "outputs": [],
   "source": [
    "rf_pred = rf.predict_proba(x_valid)"
   ]
  },
  {
   "cell_type": "code",
   "execution_count": 124,
   "id": "behavioral-chaos",
   "metadata": {},
   "outputs": [
    {
     "data": {
      "text/plain": [
       "0.7617244533856751"
      ]
     },
     "execution_count": 124,
     "metadata": {},
     "output_type": "execute_result"
    }
   ],
   "source": [
    "log_loss(y_valid, rf_pred)"
   ]
  },
  {
   "cell_type": "markdown",
   "id": "formal-variance",
   "metadata": {},
   "source": [
    "## 벨리드 검정 기준1 (변수 20개)\n",
    "- 0.7163870280361224\n",
    ": rf = RandomForestClassifier(n_estimators = 1000,\n",
    "                           max_features = 3,\n",
    "                            min_samples_split = 5,\n",
    "                            random_state = 2021,\n",
    "                            n_jobs = -1\n",
    "                            \n",
    "                            \n",
    "- 0.7123578685866444\n",
    ": rf = RandomForestClassifier(n_estimators = 1000,\n",
    "                           max_features = 3,\n",
    "                            min_samples_split = 6,\n",
    "                            random_state = 2021,\n",
    "                            n_jobs = -1\n",
    "                           )\n",
    "                           \n",
    "- 0.7120824800381204\n",
    ": rf = RandomForestClassifier(n_estimators = 5000,\n",
    "                           max_features = 3,\n",
    "                            min_samples_split = 6,\n",
    "                            random_state = 2021,\n",
    "                            n_jobs = -1\n",
    "                           )"
   ]
  },
  {
   "cell_type": "markdown",
   "id": "certain-beauty",
   "metadata": {},
   "source": [
    "## 벨리드 검정 기준2\n",
    "- 종성형 변수와 내 변수 모두 넣고 돌린것 \n",
    ": 0.7722579318936101\n",
    "\n",
    "- 위 조건 + 파라미터 2개 추가\n",
    ": 0.76\n",
    "\n",
    "- 위 조건에서 max_features = 5로 변경\n",
    ": 0.7617244533856751 (조금 더 내려감)"
   ]
  },
  {
   "cell_type": "markdown",
   "id": "caroline-clock",
   "metadata": {},
   "source": [
    "## <변수 조합 찾기>"
   ]
  },
  {
   "cell_type": "code",
   "execution_count": 125,
   "id": "returning-grounds",
   "metadata": {},
   "outputs": [
    {
     "name": "stdout",
     "output_type": "stream",
     "text": [
      "(26457, 42)\n",
      "(10000, 41)\n"
     ]
    }
   ],
   "source": [
    "print(trn.shape)\n",
    "print(tst.shape)"
   ]
  },
  {
   "cell_type": "code",
   "execution_count": 126,
   "id": "standing-appreciation",
   "metadata": {},
   "outputs": [],
   "source": [
    "from itertools import combinations"
   ]
  },
  {
   "cell_type": "code",
   "execution_count": null,
   "id": "welcome-viewer",
   "metadata": {},
   "outputs": [],
   "source": [
    "list(combinations(trn.columns, 2))"
   ]
  },
  {
   "cell_type": "code",
   "execution_count": null,
   "id": "authorized-waters",
   "metadata": {},
   "outputs": [],
   "source": [
    "for i in list(combinations(20)):"
   ]
  },
  {
   "cell_type": "code",
   "execution_count": null,
   "id": "bronze-cream",
   "metadata": {},
   "outputs": [],
   "source": []
  },
  {
   "cell_type": "code",
   "execution_count": null,
   "id": "vietnamese-paint",
   "metadata": {},
   "outputs": [],
   "source": []
  },
  {
   "cell_type": "code",
   "execution_count": null,
   "id": "subject-wedding",
   "metadata": {},
   "outputs": [],
   "source": []
  },
  {
   "cell_type": "code",
   "execution_count": null,
   "id": "executive-operation",
   "metadata": {},
   "outputs": [],
   "source": []
  },
  {
   "cell_type": "code",
   "execution_count": null,
   "id": "published-tuning",
   "metadata": {},
   "outputs": [],
   "source": []
  },
  {
   "cell_type": "code",
   "execution_count": null,
   "id": "entertaining-tunnel",
   "metadata": {},
   "outputs": [],
   "source": [
    "# 테스트 예측\n",
    "x_train, x_valid, y_train, y_valid = train_test_split(trn.drop('credit', axis=1), trn.credit, test_size=0.3, stratify=trn.credit, random_state=40)\n",
    "\n",
    "# RF 모델링 \n",
    "rf = RandomForestClassifier(n_estimators = 1000,\n",
    "                           max_features = 3,\n",
    "                            min_samples_split = 5,\n",
    "                            random_state = 2021,\n",
    "                            n_jobs = -1\n",
    "                           )\n",
    "rf.fit(trn.drop('credit', axis=1), trn.credit)"
   ]
  },
  {
   "cell_type": "code",
   "execution_count": 74,
   "id": "political-advantage",
   "metadata": {},
   "outputs": [],
   "source": [
    "rf_pred = rf.predict_proba(tst)"
   ]
  },
  {
   "cell_type": "code",
   "execution_count": 75,
   "id": "reliable-alliance",
   "metadata": {},
   "outputs": [
    {
     "data": {
      "text/plain": [
       "array([[0.07131905, 0.21075974, 0.71792121],\n",
       "       [0.34897536, 0.27639733, 0.37462731],\n",
       "       [0.04357063, 0.04397911, 0.91245025],\n",
       "       ...,\n",
       "       [0.01549643, 0.09656677, 0.8879368 ],\n",
       "       [0.26784917, 0.4597715 , 0.27237933],\n",
       "       [0.10945581, 0.25875794, 0.63178626]])"
      ]
     },
     "execution_count": 75,
     "metadata": {},
     "output_type": "execute_result"
    }
   ],
   "source": [
    "rf_pred"
   ]
  },
  {
   "cell_type": "markdown",
   "id": "political-title",
   "metadata": {},
   "source": [
    "## 제출하기"
   ]
  },
  {
   "cell_type": "code",
   "execution_count": 76,
   "id": "facial-digit",
   "metadata": {},
   "outputs": [],
   "source": [
    "sub = pd.read_csv('data/sample_submission.csv', index_col = 0)\n",
    "sub[sub.columns] = rf_pred\n",
    "sub.head()"
   ]
  },
  {
   "cell_type": "code",
   "execution_count": 78,
   "id": "entitled-encounter",
   "metadata": {},
   "outputs": [],
   "source": [
    "sub.to_csv('data/R_베이스라인.csv')"
   ]
  },
  {
   "cell_type": "code",
   "execution_count": null,
   "id": "underlying-bachelor",
   "metadata": {},
   "outputs": [],
   "source": []
  }
 ],
 "metadata": {
  "kernelspec": {
   "display_name": "Python 3",
   "language": "python",
   "name": "python3"
  },
  "language_info": {
   "codemirror_mode": {
    "name": "ipython",
    "version": 3
   },
   "file_extension": ".py",
   "mimetype": "text/x-python",
   "name": "python",
   "nbconvert_exporter": "python",
   "pygments_lexer": "ipython3",
   "version": "3.7.10"
  }
 },
 "nbformat": 4,
 "nbformat_minor": 5
}
